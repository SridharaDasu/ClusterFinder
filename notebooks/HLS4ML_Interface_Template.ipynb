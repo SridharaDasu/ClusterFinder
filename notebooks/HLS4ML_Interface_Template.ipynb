{
 "cells": [
  {
   "cell_type": "code",
   "execution_count": 4,
   "metadata": {},
   "outputs": [],
   "source": [
    "import hls4ml\n",
    "from hls4ml.model import profiling\n",
    "\n",
    "from qkeras.qtools import run_qtools\n",
    "from qkeras.utils import _add_supported_quantized_objects\n",
    "from qkeras.qtools import settings as qtools_settings\n",
    "from tensorflow_model_optimization.python.core.sparsity.keras import pruning_wrapper\n",
    "\n",
    "from qkeras import quantized_bits\n",
    "from qkeras import QDense, QActivation\n",
    "import pprint"
   ]
  },
  {
   "cell_type": "code",
   "execution_count": 5,
   "metadata": {},
   "outputs": [],
   "source": [
    "from keras.models import load_model"
   ]
  },
  {
   "cell_type": "code",
   "execution_count": 15,
   "metadata": {},
   "outputs": [],
   "source": [
    "import json \n",
    "\n",
    "f = open('models.json')\n",
    "models = json.load(f)\n",
    "f.close()"
   ]
  },
  {
   "cell_type": "code",
   "execution_count": 19,
   "metadata": {},
   "outputs": [
    {
     "data": {
      "text/plain": [
       "{'UNET': ['run-20230510_173235-nm8mu5e4'],\n",
       " 'ENET': ['run-20230226_175518-8y9uyk1u'],\n",
       " 'UNETv2LITE': ['run-20230227_185529-sjhgebn1'],\n",
       " 'UNETv3LITE': ['run-20230303_140554-80pvvkn4'],\n",
       " 'UNETv4LITE': ['run-20230308_112406-8zhdka9h'],\n",
       " 'HEPAENET': ['run-20230227_181304-zog286i7'],\n",
       " 'HEPCONVNET': ['run-20230227_184034-2315xvt8'],\n",
       " 'UNETv5LITE': ['run-20230711_144156-d0m662qq'],\n",
       " 'UNETv6LITE': ['run-20230719_183445-vpng0hra',\n",
       "  'run-20230723_202540-2cjprw0q'],\n",
       " 'CNN299': ['run-20230827_095927-qiut2tr0'],\n",
       " 'CNN157': ['run-20230827_102010-ygc0z81i', 'run-20230827_102520-k1jv0o6v']}"
      ]
     },
     "execution_count": 19,
     "metadata": {},
     "output_type": "execute_result"
    }
   ],
   "source": [
    "models"
   ]
  },
  {
   "cell_type": "code",
   "execution_count": 20,
   "metadata": {
    "id": "oJrr_RJsOGNn"
   },
   "outputs": [],
   "source": [
    "BASE_PATH = \"/nfs_scratch/hsharma/MachineLearning/ClusterFinder/notebooks/wandb/\"\n",
    "model_dir = BASE_PATH+models[\"CNN299\"][0]+'/files/'\n",
    "model_path = model_dir+\"model-best.h5\""
   ]
  },
  {
   "cell_type": "markdown",
   "metadata": {
    "id": "tVCmTos-OeM0"
   },
   "source": [
    "## Model Loading"
   ]
  },
  {
   "cell_type": "code",
   "execution_count": 21,
   "metadata": {},
   "outputs": [],
   "source": [
    "model = load_model(model_path)"
   ]
  },
  {
   "cell_type": "code",
   "execution_count": 22,
   "metadata": {},
   "outputs": [
    {
     "name": "stdout",
     "output_type": "stream",
     "text": [
      "Model: \"model\"\n",
      "_________________________________________________________________\n",
      " Layer (type)                Output Shape              Param #   \n",
      "=================================================================\n",
      " input_1 (InputLayer)        [(None, 10, 10, 1)]       0         \n",
      "                                                                 \n",
      " conv2d (Conv2D)             (None, 10, 10, 4)         40        \n",
      "                                                                 \n",
      " max_pooling2d (MaxPooling2D  (None, 5, 5, 4)          0         \n",
      " )                                                               \n",
      "                                                                 \n",
      " conv2d_1 (Conv2D)           (None, 5, 5, 4)           148       \n",
      "                                                                 \n",
      " up_sampling2d (UpSampling2D  (None, 10, 10, 4)        0         \n",
      " )                                                               \n",
      "                                                                 \n",
      " conv2d_2 (Conv2D)           (None, 10, 10, 3)         111       \n",
      "                                                                 \n",
      "=================================================================\n",
      "Total params: 299\n",
      "Trainable params: 299\n",
      "Non-trainable params: 0\n",
      "_________________________________________________________________\n"
     ]
    }
   ],
   "source": [
    "model.summary()"
   ]
  },
  {
   "cell_type": "code",
   "execution_count": 26,
   "metadata": {},
   "outputs": [
    {
     "name": "stdout",
     "output_type": "stream",
     "text": [
      "Interpreting Model\n",
      "Topology:\n",
      "Layer name: input_1, layer type: InputLayer, input shapes: [[None, 10, 10, 1]], output shape: [None, 10, 10, 1]\n",
      "Layer name: conv2d, layer type: Conv2D, input shapes: [[None, 10, 10, 1]], output shape: [None, 10, 10, 4]\n",
      "Layer name: max_pooling2d, layer type: MaxPooling2D, input shapes: [[None, 10, 10, 4]], output shape: [None, 5, 5, 4]\n",
      "Layer name: conv2d_1, layer type: Conv2D, input shapes: [[None, 5, 5, 4]], output shape: [None, 5, 5, 4]\n",
      "Layer name: up_sampling2d, layer type: UpSampling2D, input shapes: [[None, 5, 5, 4]], output shape: [None, 10, 10, 4]\n",
      "Layer name: conv2d_2, layer type: Conv2D, input shapes: [[None, 10, 10, 4]], output shape: [None, 10, 10, 3]\n",
      "Interpreting Model\n",
      "Topology:\n",
      "Layer name: input_1, layer type: InputLayer, input shapes: [[None, 10, 10, 1]], output shape: [None, 10, 10, 1]\n",
      "Layer name: conv2d, layer type: Conv2D, input shapes: [[None, 10, 10, 1]], output shape: [None, 10, 10, 4]\n",
      "Layer name: max_pooling2d, layer type: MaxPooling2D, input shapes: [[None, 10, 10, 4]], output shape: [None, 5, 5, 4]\n",
      "Layer name: conv2d_1, layer type: Conv2D, input shapes: [[None, 5, 5, 4]], output shape: [None, 5, 5, 4]\n",
      "Layer name: up_sampling2d, layer type: UpSampling2D, input shapes: [[None, 5, 5, 4]], output shape: [None, 10, 10, 4]\n",
      "Layer name: conv2d_2, layer type: Conv2D, input shapes: [[None, 10, 10, 4]], output shape: [None, 10, 10, 3]\n",
      "Creating HLS model\n",
      "WARNING: Layer conv2d requires \"dataflow\" pipeline style. Switching to \"dataflow\" pipeline style.\n"
     ]
    }
   ],
   "source": [
    "#First, the baseline model\n",
    "hls_config = hls4ml.utils.config_from_keras_model(model, granularity='name')\n",
    "\n",
    "# Set the precision and reuse factor for the full model\n",
    "hls_config['Model']['Precision'] = 'ap_fixed<16,6>'\n",
    "hls_config['Model']['ReuseFactor'] = 1\n",
    "\n",
    "# Create an entry for each layer, here you can for instance change the strategy for a layer to 'resource' \n",
    "# or increase the reuse factor individually for large layers.\n",
    "# In this case, we designed the model to be small enough for a fully parallel implementation \n",
    "# so we use the latency strategy and reuse factor of 1 for all layers.\n",
    "for Layer in hls_config['LayerName'].keys():\n",
    "    hls_config['LayerName'][Layer]['Strategy'] = 'latency'\n",
    "    hls_config['LayerName'][Layer]['ReuseFactor'] = 1\n",
    "#If you want best numerical performance for high-accuray models, while the default latency strategy is faster but numerically more unstable\n",
    "sm_layer = list(hls_config[\"LayerName\"].keys())[-1]\n",
    "hls_config['LayerName'][sm_layer]['Strategy'] = 'stable'\n",
    "\n",
    "cfg = hls4ml.converters.create_config(backend='Vivado')\n",
    "cfg['IOType']     = 'io_stream' # Must set this if using Large CNNs!\n",
    "cfg['HLSConfig']  = hls_config\n",
    "cfg['KerasModel'] = model\n",
    "cfg['OutputDir']  = 'fpga_299_10x10_xcvu13_nclock/'\n",
    "cfg['Part'] = 'xcvu13p-flga2577-2-e'\n",
    "cfg['ClockPeriod'] = 2.777778\n",
    "cfg['ClockUncertainty'] = \"30.0%\"\n",
    "  \n",
    "hls_model = hls4ml.converters.keras_to_hls(cfg)"
   ]
  },
  {
   "cell_type": "code",
   "execution_count": 27,
   "metadata": {},
   "outputs": [
    {
     "name": "stdout",
     "output_type": "stream",
     "text": [
      "Writing HLS project\n",
      "Done\n"
     ]
    }
   ],
   "source": [
    "hls_model.compile()"
   ]
  },
  {
   "cell_type": "code",
   "execution_count": 28,
   "metadata": {
    "id": "cKnC_g4QNDI9"
   },
   "outputs": [],
   "source": [
    "hls4ml.utils.plot_model(hls_model, show_shapes=True, show_precision=True, to_file=\"UNL_12distill.png\")"
   ]
  },
  {
   "cell_type": "code",
   "execution_count": 29,
   "metadata": {},
   "outputs": [],
   "source": [
    "from hls4ml.model import profiling"
   ]
  },
  {
   "cell_type": "code",
   "execution_count": 30,
   "metadata": {
    "id": "4K3p_Uc4NDK2"
   },
   "outputs": [
    {
     "name": "stdout",
     "output_type": "stream",
     "text": [
      "Interpreting Model\n",
      "Topology:\n",
      "Layer name: input_1, layer type: InputLayer, input shapes: [[None, 10, 10, 1]], output shape: [None, 10, 10, 1]\n",
      "Layer name: conv2d, layer type: Conv2D, input shapes: [[None, 10, 10, 1]], output shape: [None, 10, 10, 4]\n",
      "Layer name: max_pooling2d, layer type: MaxPooling2D, input shapes: [[None, 10, 10, 4]], output shape: [None, 5, 5, 4]\n",
      "Layer name: conv2d_1, layer type: Conv2D, input shapes: [[None, 5, 5, 4]], output shape: [None, 5, 5, 4]\n",
      "Layer name: up_sampling2d, layer type: UpSampling2D, input shapes: [[None, 5, 5, 4]], output shape: [None, 10, 10, 4]\n",
      "Layer name: conv2d_2, layer type: Conv2D, input shapes: [[None, 10, 10, 4]], output shape: [None, 10, 10, 3]\n",
      "Creating HLS model\n",
      "WARNING: Layer conv2d requires \"dataflow\" pipeline style. Switching to \"dataflow\" pipeline style.\n",
      "Profiling weights (before optimization)\n",
      "Profiling weights (final / after optimization)\n"
     ]
    },
    {
     "data": {
      "text/plain": [
       "(<Figure size 640x480 with 1 Axes>,\n",
       " <Figure size 640x480 with 1 Axes>,\n",
       " None,\n",
       " None)"
      ]
     },
     "execution_count": 30,
     "metadata": {},
     "output_type": "execute_result"
    },
    {
     "data": {
      "image/png": "[encoded data removed]",
      "text/plain": [
       "<Figure size 640x480 with 1 Axes>"
      ]
     },
     "metadata": {},
     "output_type": "display_data"
    },
    {
     "data": {
      "image/png": "[encoded data removed]",
      "text/plain": [
       "<Figure size 640x480 with 1 Axes>"
      ]
     },
     "metadata": {},
     "output_type": "display_data"
    }
   ],
   "source": [
    "profiling.numerical(model=model, hls_model=hls_model)"
   ]
  },
  {
   "cell_type": "code",
   "execution_count": 31,
   "metadata": {},
   "outputs": [
    {
     "name": "stdout",
     "output_type": "stream",
     "text": [
      "WARNING:tensorflow:From /afs/hep.wisc.edu/home/hsharma/.local/lib/python3.8/site-packages/qkeras/qtools/qgraph.py:189: Tensor.experimental_ref (from tensorflow.python.framework.ops) is deprecated and will be removed in a future version.\n",
      "Instructions for updating:\n",
      "Use ref() instead.\n",
      "{\n",
      "    \"source_quantizers\": [\n",
      "        {\n",
      "            \"quantizer_type\": \"quantized_bits\",\n",
      "            \"bits\": 16,\n",
      "            \"int_bits\": 6,\n",
      "            \"is_signed\": true\n",
      "        }\n",
      "    ],\n",
      "    \"conv2d\": {\n",
      "        \"layer_type\": \"Conv2D\",\n",
      "        \"input_quantizer_list\": [\n",
      "            {\n",
      "                \"quantizer_type\": \"quantized_bits\",\n",
      "                \"bits\": 16,\n",
      "                \"int_bits\": 6,\n",
      "                \"is_signed\": true\n",
      "            }\n",
      "        ],\n",
      "        \"weight_quantizer\": {\n",
      "            \"quantizer_type\": \"floating_point\",\n",
      "            \"bits\": 16,\n",
      "            \"shape\": [\n",
      "                3,\n",
      "                3,\n",
      "                1,\n",
      "                4\n",
      "            ]\n",
      "        },\n",
      "        \"bias_quantizer\": {\n",
      "            \"quantizer_type\": \"floating_point\",\n",
      "            \"bits\": 16,\n",
      "            \"shape\": 4\n",
      "        },\n",
      "        \"multiplier\": {\n",
      "            \"quantizer_type\": \"floating_point\",\n",
      "            \"bits\": 16,\n",
      "            \"op_type\": \"mul\"\n",
      "        },\n",
      "        \"accumulator\": {\n",
      "            \"quantizer_type\": \"floating_point\",\n",
      "            \"bits\": 16,\n",
      "            \"op_type\": \"add\"\n",
      "        },\n",
      "        \"output_quantizer\": {\n",
      "            \"quantizer_type\": \"floating_point\",\n",
      "            \"bits\": 16,\n",
      "            \"shape\": [\n",
      "                -1,\n",
      "                10,\n",
      "                10,\n",
      "                4\n",
      "            ]\n",
      "        },\n",
      "        \"operation_count\": 3600\n",
      "    },\n",
      "    \"max_pooling2d\": {\n",
      "        \"layer_type\": \"MaxPooling2D\",\n",
      "        \"input_quantizer_list\": [\n",
      "            {\n",
      "                \"quantizer_type\": \"floating_point\",\n",
      "                \"bits\": 16\n",
      "            }\n",
      "        ],\n",
      "        \"output_quantizer\": {\n",
      "            \"quantizer_type\": \"floating_point\",\n",
      "            \"bits\": 16,\n",
      "            \"shape\": [\n",
      "                -1,\n",
      "                5,\n",
      "                5,\n",
      "                4\n",
      "            ]\n",
      "        },\n",
      "        \"operation_count\": 400\n",
      "    },\n",
      "    \"conv2d_1\": {\n",
      "        \"layer_type\": \"Conv2D\",\n",
      "        \"input_quantizer_list\": [\n",
      "            {\n",
      "                \"quantizer_type\": \"floating_point\",\n",
      "                \"bits\": 16\n",
      "            }\n",
      "        ],\n",
      "        \"weight_quantizer\": {\n",
      "            \"quantizer_type\": \"floating_point\",\n",
      "            \"bits\": 16,\n",
      "            \"shape\": [\n",
      "                3,\n",
      "                3,\n",
      "                4,\n",
      "                4\n",
      "            ]\n",
      "        },\n",
      "        \"bias_quantizer\": {\n",
      "            \"quantizer_type\": \"floating_point\",\n",
      "            \"bits\": 16,\n",
      "            \"shape\": 4\n",
      "        },\n",
      "        \"multiplier\": {\n",
      "            \"quantizer_type\": \"floating_point\",\n",
      "            \"bits\": 16,\n",
      "            \"op_type\": \"mul\"\n",
      "        },\n",
      "        \"accumulator\": {\n",
      "            \"quantizer_type\": \"floating_point\",\n",
      "            \"bits\": 16,\n",
      "            \"op_type\": \"add\"\n",
      "        },\n",
      "        \"output_quantizer\": {\n",
      "            \"quantizer_type\": \"floating_point\",\n",
      "            \"bits\": 16,\n",
      "            \"shape\": [\n",
      "                -1,\n",
      "                5,\n",
      "                5,\n",
      "                4\n",
      "            ]\n",
      "        },\n",
      "        \"operation_count\": 3600\n",
      "    },\n",
      "    \"up_sampling2d\": {\n",
      "        \"layer_type\": \"UpSampling2D\",\n",
      "        \"input_quantizer_list\": [\n",
      "            {\n",
      "                \"quantizer_type\": \"floating_point\",\n",
      "                \"bits\": 16\n",
      "            }\n",
      "        ],\n",
      "        \"output_quantizer\": {\n",
      "            \"quantizer_type\": \"floating_point\",\n",
      "            \"bits\": 16,\n",
      "            \"shape\": [\n",
      "                -1,\n",
      "                10,\n",
      "                10,\n",
      "                4\n",
      "            ]\n",
      "        },\n",
      "        \"operation_count\": 400\n",
      "    },\n",
      "    \"conv2d_2\": {\n",
      "        \"layer_type\": \"Conv2D\",\n",
      "        \"input_quantizer_list\": [\n",
      "            {\n",
      "                \"quantizer_type\": \"floating_point\",\n",
      "                \"bits\": 16\n",
      "            }\n",
      "        ],\n",
      "        \"weight_quantizer\": {\n",
      "            \"quantizer_type\": \"floating_point\",\n",
      "            \"bits\": 16,\n",
      "            \"shape\": [\n",
      "                3,\n",
      "                3,\n",
      "                4,\n",
      "                3\n",
      "            ]\n",
      "        },\n",
      "        \"bias_quantizer\": {\n",
      "            \"quantizer_type\": \"floating_point\",\n",
      "            \"bits\": 16,\n",
      "            \"shape\": 3\n",
      "        },\n",
      "        \"multiplier\": {\n",
      "            \"quantizer_type\": \"floating_point\",\n",
      "            \"bits\": 16,\n",
      "            \"op_type\": \"mul\"\n",
      "        },\n",
      "        \"accumulator\": {\n",
      "            \"quantizer_type\": \"floating_point\",\n",
      "            \"bits\": 16,\n",
      "            \"op_type\": \"add\"\n",
      "        },\n",
      "        \"output_quantizer\": {\n",
      "            \"quantizer_type\": \"floating_point\",\n",
      "            \"bits\": 16,\n",
      "            \"shape\": [\n",
      "                -1,\n",
      "                10,\n",
      "                10,\n",
      "                3\n",
      "            ]\n",
      "        },\n",
      "        \"operation_count\": 10800\n",
      "    }\n",
      "}\n",
      "{'conv2d': {'energy': {'inputs': 95.09,\n",
      "                       'op_cost': 5400.0,\n",
      "                       'outputs': 0.0,\n",
      "                       'parameters': 0.0},\n",
      "            'total': 5495.09},\n",
      " 'conv2d_1': {'energy': {'inputs': 0.0,\n",
      "                         'op_cost': 5400.0,\n",
      "                         'outputs': 0.0,\n",
      "                         'parameters': 0.0},\n",
      "              'total': 5400.0},\n",
      " 'conv2d_2': {'energy': {'inputs': 0.0,\n",
      "                         'op_cost': 16200.0,\n",
      "                         'outputs': 285.28,\n",
      "                         'parameters': 0.0},\n",
      "              'total': 16200.0},\n",
      " 'max_pooling2d': {'energy': {'inputs': 0.0,\n",
      "                              'op_cost': 0.0,\n",
      "                              'outputs': 0.0,\n",
      "                              'parameters': 0.0},\n",
      "                   'total': 0.0},\n",
      " 'up_sampling2d': {'energy': {'inputs': 0.0,\n",
      "                              'op_cost': 0.0,\n",
      "                              'outputs': 0.0,\n",
      "                              'parameters': 0.0},\n",
      "                   'total': 0.0}}\n",
      "\n",
      "Total energy: 0.027095 uJ\n"
     ]
    }
   ],
   "source": [
    "# Energy Profiling dmodel: Student w/o Quantization\n",
    "q = run_qtools.QTools(model, \n",
    "                      process=\"horowitz\", \n",
    "                      source_quantizers=[quantized_bits(16, 5, 1)], \n",
    "                      is_inference=True, \n",
    "                      weights_path=None,\n",
    "                      keras_quantizer=\"fp16\",\n",
    "                      keras_accumulator=\"fp16\", \n",
    "                      for_reference=False)\n",
    "q.qtools_stats_print()\n",
    "\n",
    "energy_dict = q.pe(\n",
    "    weights_on_memory=\"fixed\",\n",
    "    activations_on_memory=\"fixed\",\n",
    "    min_sram_size=8*16*1024*1024,\n",
    "    rd_wr_on_io=False)\n",
    "\n",
    "# get stats of energy distribution in each layer\n",
    "energy_profile = q.extract_energy_profile(\n",
    "    qtools_settings.cfg.include_energy, energy_dict)\n",
    "# extract sum of energy of each layer according to the rule specified in\n",
    "# qtools_settings.cfg.include_energy\n",
    "total_energy = q.extract_energy_sum(\n",
    "    qtools_settings.cfg.include_energy, energy_dict)\n",
    "\n",
    "pprint.pprint(energy_profile)\n",
    "print()\n",
    "\n",
    "print(\"Total energy: {:.6f} uJ\".format(total_energy / 1000000.0))"
   ]
  },
  {
   "cell_type": "code",
   "execution_count": null,
   "metadata": {},
   "outputs": [],
   "source": []
  }
 ],
 "metadata": {
  "colab": {
   "provenance": []
  },
  "kernelspec": {
   "display_name": "Python 3 (ipykernel)",
   "language": "python",
   "name": "python3"
  },
  "language_info": {
   "codemirror_mode": {
    "name": "ipython",
    "version": 3
   },
   "file_extension": ".py",
   "mimetype": "text/x-python",
   "name": "python",
   "nbconvert_exporter": "python",
   "pygments_lexer": "ipython3",
   "version": "3.8.16"
  }
 },
 "nbformat": 4,
 "nbformat_minor": 1
}
