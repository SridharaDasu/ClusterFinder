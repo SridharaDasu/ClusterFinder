{
 "cells": [
  {
   "cell_type": "code",
   "execution_count": 1,
   "metadata": {},
   "outputs": [],
   "source": [
    "import numpy as np\n",
    "import matplotlib.pyplot as plt\n",
    "import cv2\n",
    "from collections import Counter\n",
    "import time"
   ]
  },
  {
   "cell_type": "code",
   "execution_count": 3,
   "metadata": {},
   "outputs": [],
   "source": [
    "EMData = np.load(\"../data/EMData-20221116.npy\")\n",
    "HDData = np.load(\"../data/HDData-20221116.npy\")"
   ]
  },
  {
   "cell_type": "code",
   "execution_count": 4,
   "metadata": {},
   "outputs": [
    {
     "data": {
      "text/plain": [
       "((1000, 2, 25, 30), (1000, 2, 5, 6))"
      ]
     },
     "execution_count": 4,
     "metadata": {},
     "output_type": "execute_result"
    }
   ],
   "source": [
    "EMData.shape, HDData.shape"
   ]
  },
  {
   "cell_type": "code",
   "execution_count": 7,
   "metadata": {},
   "outputs": [
    {
     "data": {
      "image/png": "[encoded data removed]",
      "text/plain": [
       "<Figure size 432x288 with 1 Axes>"
      ]
     },
     "metadata": {
      "needs_background": "light"
     },
     "output_type": "display_data"
    }
   ],
   "source": [
    "# EM Input Visual\n",
    "sample_number = 12\n",
    "energy_snap = EMData[sample_number, 0, :, :]/np.max(EMData[sample_number, 0, :, :])\n",
    "energy_snap = 1 - energy_snap\n",
    "energy_snap = np.array(energy_snap * 255, dtype = np.uint8)\n",
    "energy_snap = cv2.cvtColor(energy_snap, cv2.COLOR_GRAY2BGR)\n",
    "\n",
    "plt.imshow(energy_snap)\n",
    "\n",
    "et_vals_em = energy_snap.reshape((-1,1))\n",
    "et_vals_em = np.float32(et_vals_em)"
   ]
  },
  {
   "cell_type": "code",
   "execution_count": 33,
   "metadata": {},
   "outputs": [
    {
     "data": {
      "text/plain": [
       "<matplotlib.image.AxesImage at 0x151a1b3a0>"
      ]
     },
     "execution_count": 33,
     "metadata": {},
     "output_type": "execute_result"
    },
    {
     "data": {
      "image/png": "[encoded data removed]",
      "text/plain": [
       "<Figure size 432x288 with 1 Axes>"
      ]
     },
     "metadata": {
      "needs_background": "light"
     },
     "output_type": "display_data"
    }
   ],
   "source": [
    "mc_out = EMData[sample_number, 1, :, :]\n",
    "mc_out = 1 - mc_out\n",
    "mc_out = np.array(mc_out * 255, dtype = np.uint8)\n",
    "mc_out = cv2.cvtColor(mc_out, cv2.COLOR_GRAY2BGR)\n",
    "\n",
    "plt.imshow(mc_out)"
   ]
  },
  {
   "cell_type": "code",
   "execution_count": 34,
   "metadata": {},
   "outputs": [
    {
     "data": {
      "text/plain": [
       "<matplotlib.image.AxesImage at 0x15159feb0>"
      ]
     },
     "execution_count": 34,
     "metadata": {},
     "output_type": "execute_result"
    },
    {
     "data": {
      "image/png": "[encoded data removed]",
      "text/plain": [
       "<Figure size 432x288 with 1 Axes>"
      ]
     },
     "metadata": {
      "needs_background": "light"
     },
     "output_type": "display_data"
    }
   ],
   "source": [
    "criteria = (cv2.TERM_CRITERIA_EPS + cv2.TERM_CRITERIA_MAX_ITER, 100, 0.50)\n",
    " \n",
    "k = 4  #background vs signal portion\n",
    "retval, labels, centers = cv2.kmeans(et_vals_em, k, None, criteria, 30, cv2.KMEANS_RANDOM_CENTERS)\n",
    " \n",
    "# convert data into 8-bit values\n",
    "centers = np.uint8(centers)\n",
    "segmented_data = centers[labels.flatten()]\n",
    " \n",
    "# reshape data into the original image dimensions\n",
    "segmented_image = segmented_data.reshape((energy_snap.shape))\n",
    " \n",
    "plt.imshow(segmented_image)"
   ]
  },
  {
   "cell_type": "code",
   "execution_count": 35,
   "metadata": {},
   "outputs": [],
   "source": [
    "# max number of labels belong to background/noise region\n",
    "bglabel = Counter(labels.flatten()).most_common(1)[-1][0]"
   ]
  },
  {
   "cell_type": "code",
   "execution_count": 36,
   "metadata": {},
   "outputs": [
    {
     "data": {
      "text/plain": [
       "<matplotlib.image.AxesImage at 0x151285ee0>"
      ]
     },
     "execution_count": 36,
     "metadata": {},
     "output_type": "execute_result"
    },
    {
     "data": {
      "image/png": "[encoded data removed]",
      "text/plain": [
       "<Figure size 432x288 with 1 Axes>"
      ]
     },
     "metadata": {
      "needs_background": "light"
     },
     "output_type": "display_data"
    }
   ],
   "source": [
    "# max number of labels belong to background/noise region\n",
    "signal_label = list(Counter(labels.flatten()))[-1]\n",
    "\n",
    "# relabeling the pixels\n",
    "for i in range(len(labels)):\n",
    "    if labels[i] != bglabel:\n",
    "        labels[i] = signal_label\n",
    "\n",
    "segmented_data = centers[labels.flatten()]\n",
    " \n",
    "# reshape data into the original image dimensions\n",
    "segmented_image = segmented_data.reshape((energy_snap.shape))\n",
    " \n",
    "plt.imshow(segmented_image)"
   ]
  },
  {
   "cell_type": "code",
   "execution_count": 37,
   "metadata": {},
   "outputs": [],
   "source": [
    "segmented_image = cv2.cvtColor(segmented_image, cv2.COLOR_BGR2GRAY)"
   ]
  },
  {
   "cell_type": "code",
   "execution_count": 38,
   "metadata": {},
   "outputs": [
    {
     "data": {
      "text/plain": [
       "array([  0, 254], dtype=uint8)"
      ]
     },
     "execution_count": 38,
     "metadata": {},
     "output_type": "execute_result"
    }
   ],
   "source": [
    "np.unique(segmented_image)"
   ]
  },
  {
   "cell_type": "code",
   "execution_count": 39,
   "metadata": {},
   "outputs": [],
   "source": [
    "# generating new labels depending on the clusters formed:\n",
    "CLUSTER_TAGS = [-1]\n",
    "\n",
    "def coord_test(x, y):\n",
    "    if x < 0 or y < 0 or x >= 25 or y >= 30:\n",
    "        return False\n",
    "    else:\n",
    "        True\n",
    "\n",
    "def check_nearby_ids(mat, x, y):\n",
    "    dirlt = [-1,0,1]\n",
    "    for dy in dirlt:\n",
    "        for dx in dirlt:\n",
    "            if mat[x-dx][y-dy] < -1:\n",
    "                return mat[x-dx][y-dy]\n",
    "\n",
    "    return -1\n",
    "\n",
    "def cluster_tagging(segmented_image, x, y):\n",
    "    dirlt = [-1,0,1]\n",
    "    if coord_test(x, y) == False:\n",
    "        return segmented_image\n",
    "\n",
    "    # any positive pixel untouched through implementation stays +ive\n",
    "    if segmented_image[x][y] in [0, 254]:\n",
    "        if segmented_image[x][y] == 254:\n",
    "            # setting cluster id to background\n",
    "            segmented_image[x][y] = -1\n",
    "            # print(segmented_image[x][y])\n",
    "            for dy in dirlt:\n",
    "                for dx in dirlt:\n",
    "                    if dx+dy == 0: continue\n",
    "                    cluster_tagging(segmented_image, x-dx, y-dy)\n",
    "        \n",
    "        else:\n",
    "            adj_id = check_nearby_ids(segmented_image, x, y)\n",
    "            if adj_id!=-1:\n",
    "                cluster_id = adj_id\n",
    "            else: \n",
    "                cluster_id = CLUSTER_TAGS[-1] - 1\n",
    "                CLUSTER_TAGS.append(cluster_id)\n",
    "                \n",
    "            segmented_image[x][y] = cluster_id\n",
    "            for dy in dirlt:\n",
    "                for dx in dirlt:\n",
    "                    if dx == 0 and dy == 0: continue\n",
    "                    cluster_tagging(segmented_image, x-dx, y-dy)\n",
    "    \n",
    "    return segmented_image"
   ]
  },
  {
   "cell_type": "code",
   "execution_count": 40,
   "metadata": {},
   "outputs": [],
   "source": [
    "tagged_pixels = cluster_tagging(np.array(segmented_image, dtype=int), 0, 0)"
   ]
  },
  {
   "cell_type": "code",
   "execution_count": 41,
   "metadata": {},
   "outputs": [
    {
     "data": {
      "text/plain": [
       "[-1, -2, -3, -4, -5, -6, -7, -8]"
      ]
     },
     "execution_count": 41,
     "metadata": {},
     "output_type": "execute_result"
    }
   ],
   "source": [
    "CLUSTER_TAGS"
   ]
  },
  {
   "cell_type": "code",
   "execution_count": 43,
   "metadata": {},
   "outputs": [
    {
     "data": {
      "image/png": "[encoded data removed]",
      "text/plain": [
       "<Figure size 432x288 with 1 Axes>"
      ]
     },
     "metadata": {
      "needs_background": "light"
     },
     "output_type": "display_data"
    }
   ],
   "source": [
    "from IPython import display\n",
    "pause_time = 0.5\n",
    "for cluster_id in np.unique(tagged_pixels)[:-1]:\n",
    "    test_out = segmented_image.copy()\n",
    "    test_out[tagged_pixels != cluster_id] = 254\n",
    "\n",
    "    plt.imshow(test_out)\n",
    "    display.display(plt.gcf())\n",
    "    display.clear_output(wait=True)\n",
    "    time.sleep(pause_time)"
   ]
  },
  {
   "cell_type": "code",
   "execution_count": 16,
   "metadata": {},
   "outputs": [
    {
     "name": "stdout",
     "output_type": "stream",
     "text": [
      "[(4, 3), (0, 0), (1, 1), (1, 3), (1, 4)]\n"
     ]
    }
   ],
   "source": [
    "# HD cluster centre selection\n",
    "\n",
    "tags, tagcount = np.unique(tagged_pixels, return_counts=True)\n",
    "HDEMClusters = tags[np.where(tagcount == tagcount.min())[0]]\n",
    "HD_centres = {}\n",
    "EMHD_coords = []\n",
    "\n",
    "for cluster_head in HDEMClusters:\n",
    "    coords = np.where(tagged_pixels == cluster_head)\n",
    "    EMHD_coords.append((coords[0][0]//5, coords[1][0]//6))\n",
    "\n",
    "print(EMHD_coords)\n",
    "\n",
    "for coord in EMHD_coords:\n",
    "    if coord in HD_centres:\n",
    "        HD_centres[coord] += 1\n",
    "    else:\n",
    "        HD_centres[coord] = 1"
   ]
  },
  {
   "cell_type": "code",
   "execution_count": 17,
   "metadata": {},
   "outputs": [
    {
     "data": {
      "text/plain": [
       "<matplotlib.image.AxesImage at 0x151645190>"
      ]
     },
     "execution_count": 17,
     "metadata": {},
     "output_type": "execute_result"
    },
    {
     "data": {
      "image/png": "[encoded data removed]",
      "text/plain": [
       "<Figure size 432x288 with 1 Axes>"
      ]
     },
     "metadata": {
      "needs_background": "light"
     },
     "output_type": "display_data"
    }
   ],
   "source": [
    "cluster_bkg = np.ones((5,6))\n",
    "for coords in EMHD_coords:\n",
    "    cluster_bkg[coords] = 0\n",
    "\n",
    "cluster_bkg = np.array(cluster_bkg * 255, dtype = np.uint8)\n",
    "cluster_bkg = cv2.cvtColor(cluster_bkg, cv2.COLOR_GRAY2BGR)\n",
    "plt.imshow(cluster_bkg)"
   ]
  },
  {
   "cell_type": "code",
   "execution_count": 18,
   "metadata": {},
   "outputs": [
    {
     "data": {
      "image/png": "[encoded data removed]",
      "text/plain": [
       "<Figure size 432x288 with 1 Axes>"
      ]
     },
     "metadata": {
      "needs_background": "light"
     },
     "output_type": "display_data"
    }
   ],
   "source": [
    "# HD Input Visual\n",
    "sample_number = 12\n",
    "energy_snap = HDData[sample_number, 0, :, :]/np.max(HDData[0,0, :, :])\n",
    "energy_snap = 1 - energy_snap\n",
    "energy_snap = np.array(energy_snap * 255, dtype = np.uint8)\n",
    "energy_snap = cv2.cvtColor(energy_snap, cv2.COLOR_GRAY2BGR)\n",
    "plt.imshow(energy_snap)\n",
    "\n",
    "et_vals_hd = energy_snap.reshape((-1,1))\n",
    "et_vals_hd = np.float32(et_vals_hd)"
   ]
  },
  {
   "cell_type": "code",
   "execution_count": 19,
   "metadata": {},
   "outputs": [
    {
     "data": {
      "text/plain": [
       "<matplotlib.image.AxesImage at 0x15190ba30>"
      ]
     },
     "execution_count": 19,
     "metadata": {},
     "output_type": "execute_result"
    },
    {
     "data": {
      "image/png": "[encoded data removed]",
      "text/plain": [
       "<Figure size 432x288 with 1 Axes>"
      ]
     },
     "metadata": {
      "needs_background": "light"
     },
     "output_type": "display_data"
    }
   ],
   "source": [
    "mc_out = HDData[sample_number, 1, :, :]\n",
    "mc_out = 1 - mc_out\n",
    "mc_out = np.array(mc_out * 255, dtype = np.uint8)\n",
    "mc_out = cv2.cvtColor(mc_out, cv2.COLOR_GRAY2BGR)\n",
    "\n",
    "plt.imshow(mc_out)"
   ]
  },
  {
   "cell_type": "code",
   "execution_count": 20,
   "metadata": {},
   "outputs": [
    {
     "data": {
      "text/plain": [
       "<matplotlib.image.AxesImage at 0x151982eb0>"
      ]
     },
     "execution_count": 20,
     "metadata": {},
     "output_type": "execute_result"
    },
    {
     "data": {
      "image/png": "[encoded data removed]",
      "text/plain": [
       "<Figure size 432x288 with 1 Axes>"
      ]
     },
     "metadata": {
      "needs_background": "light"
     },
     "output_type": "display_data"
    }
   ],
   "source": [
    "criteria = (cv2.TERM_CRITERIA_EPS + cv2.TERM_CRITERIA_MAX_ITER, 100, 0.80)\n",
    " \n",
    "k = 5  #background vs signal portion\n",
    "retval, labels, centers = cv2.kmeans(et_vals_hd, k, None, criteria, 30, cv2.KMEANS_RANDOM_CENTERS)\n",
    " \n",
    "# convert data into 8-bit values\n",
    "centers = np.uint8(centers)\n",
    "segmented_data = centers[labels.flatten()]\n",
    " \n",
    "# reshape data into the original image dimensions\n",
    "segmented_image = segmented_data.reshape((energy_snap.shape))\n",
    " \n",
    "plt.imshow(segmented_image)"
   ]
  },
  {
   "cell_type": "code",
   "execution_count": 21,
   "metadata": {},
   "outputs": [
    {
     "data": {
      "text/plain": [
       "<matplotlib.image.AxesImage at 0x1519efeb0>"
      ]
     },
     "execution_count": 21,
     "metadata": {},
     "output_type": "execute_result"
    },
    {
     "data": {
      "image/png": "[encoded data removed]",
      "text/plain": [
       "<Figure size 432x288 with 1 Axes>"
      ]
     },
     "metadata": {
      "needs_background": "light"
     },
     "output_type": "display_data"
    }
   ],
   "source": [
    "bglabel = Counter(labels.flatten()).most_common(1)[-1][0]\n",
    "\n",
    "# max number of labels belong to background/noise region\n",
    "signal_label = list(Counter(labels.flatten()))[1]\n",
    "\n",
    "# relabeling the pixels\n",
    "for i in range(len(labels)):\n",
    "    if labels[i] != bglabel:\n",
    "        labels[i] = signal_label\n",
    "\n",
    "segmented_data = centers[labels.flatten()]\n",
    "segmented_data[segmented_data==segmented_data.min()] = 0\n",
    " \n",
    "# reshape data into the original image dimensions\n",
    "segmented_image = segmented_data.reshape((energy_snap.shape))\n",
    " \n",
    "plt.imshow(segmented_image)"
   ]
  },
  {
   "cell_type": "code",
   "execution_count": 22,
   "metadata": {},
   "outputs": [],
   "source": [
    "# classify the HD clusters hits into one of the assumed cluster heads\n",
    "def tag_HD_Clusters(hd_center_heads, hd_segmented_image):\n",
    "    HD_ClUSTER_TAGS = {}\n",
    "    i = -1\n",
    "    for x in hd_center_heads:\n",
    "        HD_ClUSTER_TAGS[x] = i\n",
    "        i = i-1\n",
    "    \n",
    "    x_hd, y_hd = hd_segmented_image.shape\n",
    "    for xi in range(x_hd):\n",
    "        for yi in range(y_hd):\n",
    "            if hd_segmented_image[xi][yi] !=0:\n",
    "                continue\n",
    "            \n",
    "            print(xi, yi)\n",
    "            dist_min, opt_center = 100, None\n",
    "            for center in HD_ClUSTER_TAGS:\n",
    "                curr_dist = np.linalg.norm(np.array((xi, yi))-np.array(center))\n",
    "                print(curr_dist, center)\n",
    "                if curr_dist < dist_min:\n",
    "                    opt_center = center\n",
    "                    curr_dist = dist_min\n",
    "            \n",
    "            hd_segmented_image[xi][yi] = HD_ClUSTER_TAGS[opt_center]\n",
    "    \n",
    "    return hd_segmented_image\n"
   ]
  },
  {
   "cell_type": "code",
   "execution_count": 23,
   "metadata": {},
   "outputs": [
    {
     "data": {
      "text/plain": [
       "{(4, 3): 1, (0, 0): 1, (1, 1): 1, (1, 3): 1, (1, 4): 1}"
      ]
     },
     "execution_count": 23,
     "metadata": {},
     "output_type": "execute_result"
    }
   ],
   "source": [
    "HD_centres"
   ]
  },
  {
   "cell_type": "code",
   "execution_count": 24,
   "metadata": {},
   "outputs": [],
   "source": [
    "segmented_image = cv2.cvtColor(segmented_image, cv2.COLOR_BGR2GRAY)"
   ]
  },
  {
   "cell_type": "code",
   "execution_count": 25,
   "metadata": {},
   "outputs": [
    {
     "name": "stdout",
     "output_type": "stream",
     "text": [
      "0 0\n",
      "5.0 (4, 3)\n",
      "0.0 (0, 0)\n",
      "1.4142135623730951 (1, 1)\n",
      "3.1622776601683795 (1, 3)\n",
      "4.123105625617661 (1, 4)\n",
      "0 1\n",
      "4.47213595499958 (4, 3)\n",
      "1.0 (0, 0)\n",
      "1.0 (1, 1)\n",
      "2.23606797749979 (1, 3)\n",
      "3.1622776601683795 (1, 4)\n",
      "1 0\n",
      "4.242640687119285 (4, 3)\n",
      "1.0 (0, 0)\n",
      "1.0 (1, 1)\n",
      "3.0 (1, 3)\n",
      "4.0 (1, 4)\n",
      "1 1\n",
      "3.605551275463989 (4, 3)\n",
      "1.4142135623730951 (0, 0)\n",
      "0.0 (1, 1)\n",
      "2.0 (1, 3)\n",
      "3.0 (1, 4)\n",
      "1 2\n",
      "3.1622776601683795 (4, 3)\n",
      "2.23606797749979 (0, 0)\n",
      "1.0 (1, 1)\n",
      "1.0 (1, 3)\n",
      "2.0 (1, 4)\n",
      "1 3\n",
      "3.0 (4, 3)\n",
      "3.1622776601683795 (0, 0)\n",
      "2.0 (1, 1)\n",
      "0.0 (1, 3)\n",
      "1.0 (1, 4)\n",
      "1 4\n",
      "3.1622776601683795 (4, 3)\n",
      "4.123105625617661 (0, 0)\n",
      "3.0 (1, 1)\n",
      "1.0 (1, 3)\n",
      "0.0 (1, 4)\n",
      "2 0\n",
      "3.605551275463989 (4, 3)\n",
      "2.0 (0, 0)\n",
      "1.4142135623730951 (1, 1)\n",
      "3.1622776601683795 (1, 3)\n",
      "4.123105625617661 (1, 4)\n",
      "2 1\n",
      "2.8284271247461903 (4, 3)\n",
      "2.23606797749979 (0, 0)\n",
      "1.0 (1, 1)\n",
      "2.23606797749979 (1, 3)\n",
      "3.1622776601683795 (1, 4)\n",
      "2 2\n",
      "2.23606797749979 (4, 3)\n",
      "2.8284271247461903 (0, 0)\n",
      "1.4142135623730951 (1, 1)\n",
      "1.4142135623730951 (1, 3)\n",
      "2.23606797749979 (1, 4)\n",
      "2 3\n",
      "2.0 (4, 3)\n",
      "3.605551275463989 (0, 0)\n",
      "2.23606797749979 (1, 1)\n",
      "1.0 (1, 3)\n",
      "1.4142135623730951 (1, 4)\n",
      "2 4\n",
      "2.23606797749979 (4, 3)\n",
      "4.47213595499958 (0, 0)\n",
      "3.1622776601683795 (1, 1)\n",
      "1.4142135623730951 (1, 3)\n",
      "1.0 (1, 4)\n",
      "3 1\n",
      "2.23606797749979 (4, 3)\n",
      "3.1622776601683795 (0, 0)\n",
      "2.0 (1, 1)\n",
      "2.8284271247461903 (1, 3)\n",
      "3.605551275463989 (1, 4)\n",
      "3 2\n",
      "1.4142135623730951 (4, 3)\n",
      "3.605551275463989 (0, 0)\n",
      "2.23606797749979 (1, 1)\n",
      "2.23606797749979 (1, 3)\n",
      "2.8284271247461903 (1, 4)\n",
      "3 3\n",
      "1.0 (4, 3)\n",
      "4.242640687119285 (0, 0)\n",
      "2.8284271247461903 (1, 1)\n",
      "2.0 (1, 3)\n",
      "2.23606797749979 (1, 4)\n",
      "3 4\n",
      "1.4142135623730951 (4, 3)\n",
      "5.0 (0, 0)\n",
      "3.605551275463989 (1, 1)\n",
      "2.23606797749979 (1, 3)\n",
      "2.0 (1, 4)\n",
      "4 3\n",
      "0.0 (4, 3)\n",
      "5.0 (0, 0)\n",
      "3.605551275463989 (1, 1)\n",
      "3.0 (1, 3)\n",
      "3.1622776601683795 (1, 4)\n"
     ]
    }
   ],
   "source": [
    "tagged_pixels = tag_HD_Clusters(HD_centres, np.array(segmented_image, dtype=int))"
   ]
  },
  {
   "cell_type": "code",
   "execution_count": 26,
   "metadata": {},
   "outputs": [
    {
     "data": {
      "text/plain": [
       "array([ -5, 253])"
      ]
     },
     "execution_count": 26,
     "metadata": {},
     "output_type": "execute_result"
    }
   ],
   "source": [
    "np.unique(tagged_pixels)"
   ]
  },
  {
   "cell_type": "code",
   "execution_count": 27,
   "metadata": {},
   "outputs": [
    {
     "data": {
      "image/png": "[encoded data removed]",
      "text/plain": [
       "<Figure size 432x288 with 1 Axes>"
      ]
     },
     "metadata": {
      "needs_background": "light"
     },
     "output_type": "display_data"
    }
   ],
   "source": [
    "pause_time = 0.5\n",
    "for cluster_id in np.unique(tagged_pixels)[:-1]:\n",
    "    test_out = segmented_image.copy()\n",
    "    test_out[tagged_pixels != cluster_id] = 254\n",
    "\n",
    "    plt.imshow(test_out)\n",
    "    display.display(plt.gcf())\n",
    "    display.clear_output(wait=True)\n",
    "    time.sleep(pause_time)"
   ]
  },
  {
   "cell_type": "code",
   "execution_count": 87,
   "metadata": {},
   "outputs": [
    {
     "data": {
      "text/plain": [
       "<matplotlib.image.AxesImage at 0x14d0da460>"
      ]
     },
     "execution_count": 87,
     "metadata": {},
     "output_type": "execute_result"
    },
    {
     "data": {
      "image/png": "[encoded data removed]",
      "text/plain": [
       "<Figure size 432x288 with 1 Axes>"
      ]
     },
     "metadata": {
      "needs_background": "light"
     },
     "output_type": "display_data"
    }
   ],
   "source": [
    "criteria = (cv2.TERM_CRITERIA_EPS + cv2.TERM_CRITERIA_MAX_ITER, 100, 0.85)\n",
    " \n",
    "k = 2  #background vs signal portion\n",
    "retval, labels, centers = cv2.kmeans(et_vals_hd, k, None, criteria, 10, cv2.KMEANS_RANDOM_CENTERS)\n",
    " \n",
    "# convert data into 8-bit values\n",
    "centers = np.uint8(centers)\n",
    "segmented_data = centers[labels.flatten()]\n",
    " \n",
    "# reshape data into the original image dimensions\n",
    "segmented_image = segmented_data.reshape((energy_snap.shape))\n",
    " \n",
    "plt.imshow(segmented_image)"
   ]
  },
  {
   "cell_type": "code",
   "execution_count": null,
   "metadata": {},
   "outputs": [],
   "source": []
  },
  {
   "cell_type": "code",
   "execution_count": 10,
   "metadata": {},
   "outputs": [],
   "source": [
    "# resolution along axes\n",
    "# recontruction\n",
    "# position of cluster detected vs real position\n",
    "\n",
    "# energy_input vs output\n",
    "# Adding Noise"
   ]
  },
  {
   "cell_type": "code",
   "execution_count": 35,
   "metadata": {},
   "outputs": [],
   "source": [
    "def kmeans_predict(X):\n",
    "    criteria = (cv2.TERM_CRITERIA_EPS + cv2.TERM_CRITERIA_MAX_ITER, 100, 0.85)\n",
    "\n",
    "    k = 2  # background vs signal portion\n",
    "    _, labels, centers = cv2.kmeans(X, k, None, criteria, 10, cv2.KMEANS_RANDOM_CENTERS)\n",
    "    centers = np.uint8(centers)\n",
    "    segmented_data = centers[labels.flatten()]\n",
    "    return segmented_data"
   ]
  },
  {
   "cell_type": "code",
   "execution_count": 47,
   "metadata": {},
   "outputs": [],
   "source": [
    "from sklearn.metrics import jaccard_score, accuracy_score, precision_recall_fscore_support\n",
    "\n",
    "def performance_metrics(y_true, y_pred):\n",
    "    # segmenation/IoU based\n",
    "    jsc = jaccard_score(y_true, y_pred, average=\"weighted\")\n",
    "\n",
    "    # pixel based metrics\n",
    "    pr, rec, f1score, _ = precision_recall_fscore_support(y_true, y_pred, average='weighted')\n",
    "    acc = accuracy_score(y_true, y_pred)\n",
    "    \n",
    "    return jsc, pr, rec, f1score, acc"
   ]
  },
  {
   "cell_type": "code",
   "execution_count": 48,
   "metadata": {},
   "outputs": [],
   "source": [
    "def evaluate(XData):\n",
    "    all_ytrue, all_ypred = [], []\n",
    "    local_perf = {} # sample_num: performance tuple\n",
    "\n",
    "    # EM Input Visual\n",
    "    for sample_number in range(len(XData)):\n",
    "        energy_snap = EMData[sample_number, 0, :, :]/np.max(XData[sample_number, 0, :, :])\n",
    "        energy_snap = 1 - energy_snap\n",
    "\n",
    "        # y_true\n",
    "        mc_out = XData[sample_number, 1, :, :]\n",
    "        mc_out = 1 - mc_out\n",
    "        mc_out = np.float32(mc_out.reshape((-1,1)))\n",
    "\n",
    "        # image preprocessing\n",
    "        energy_snap = np.array(energy_snap * 255, dtype = np.uint8)\n",
    "        energy_snap = cv2.cvtColor(energy_snap, cv2.COLOR_GRAY2BGR)\n",
    "\n",
    "        x_in = np.float32(energy_snap.reshape((-1,1)))\n",
    "        y_out = kmeans_predict(x_in)\n",
    "\n",
    "        # output processing\n",
    "        y_out = y_out.reshape((energy_snap.shape))\n",
    "        y_out = cv2.cvtColor(y_out, cv2.COLOR_BGR2GRAY)\n",
    "\n",
    "        y_pred = y_out > 128\n",
    "        y_pred = np.float32(y_pred.reshape((-1,1)))\n",
    "\n",
    "        # evaluating performance\n",
    "        local_perf[sample_number] = performance_metrics(mc_out, y_pred)\n",
    "        all_ytrue.extend(mc_out)\n",
    "        all_ypred.extend(y_pred)\n",
    "\n",
    "    global_perf = performance_metrics(all_ytrue, all_ypred)\n",
    "\n",
    "    return local_perf, global_perf"
   ]
  },
  {
   "cell_type": "code",
   "execution_count": 50,
   "metadata": {},
   "outputs": [],
   "source": [
    "perf_data = evaluate(EMData)"
   ]
  },
  {
   "cell_type": "code",
   "execution_count": 65,
   "metadata": {},
   "outputs": [],
   "source": [
    "import matplotlib.pyplot as plt\n",
    "\n",
    "def plot_performance_data(perf_data):\n",
    "    local, average = perf_data\n",
    "    data_num = len(local)\n",
    "    jsc = [local[x][0] for x in local]\n",
    "    pr = [local[x][1] for x in local]\n",
    "    rec =  [local[x][2] for x in local]\n",
    "    f1score = [local[x][3] for x in local]\n",
    "    acc = [local[x][4] for x in local]\n",
    "\n",
    "    plt.title(\"Performance report\")\n",
    "    plt.plot([i for i in range(data_num)], jsc, \"r\")\n",
    "    plt.plot([i for i in range(data_num)], f1score, \"b\")\n",
    "    plt.plot([i for i in range(data_num)], acc, \"g\")\n",
    "\n",
    "    plt.ylabel(\"error\")\n",
    "    plt.legend([\"Jaccard Score\", \"F1 Score\", \"Accuracy\"])\n",
    "\n",
    "    plt.show()\n",
    "    return 0"
   ]
  },
  {
   "cell_type": "code",
   "execution_count": 66,
   "metadata": {},
   "outputs": [
    {
     "data": {
      "image/png": "[encoded data removed]",
      "text/plain": [
       "<Figure size 432x288 with 1 Axes>"
      ]
     },
     "metadata": {
      "needs_background": "light"
     },
     "output_type": "display_data"
    },
    {
     "data": {
      "text/plain": [
       "0"
      ]
     },
     "execution_count": 66,
     "metadata": {},
     "output_type": "execute_result"
    }
   ],
   "source": [
    "plot_performance_data(perf_data)"
   ]
  },
  {
   "cell_type": "code",
   "execution_count": null,
   "metadata": {},
   "outputs": [],
   "source": []
  }
 ],
 "metadata": {
  "interpreter": {
   "hash": "106f4c8027c214921b13a6c512ef7fb4dc22a69514d5f4d8b6a5dc68d3b26bbe"
  },
  "kernelspec": {
   "display_name": "Python 3.8.10 ('MLDL_env')",
   "language": "python",
   "name": "python3"
  },
  "language_info": {
   "codemirror_mode": {
    "name": "ipython",
    "version": 3
   },
   "file_extension": ".py",
   "mimetype": "text/x-python",
   "name": "python",
   "nbconvert_exporter": "python",
   "pygments_lexer": "ipython3",
   "version": "3.8.10"
  },
  "orig_nbformat": 4
 },
 "nbformat": 4,
 "nbformat_minor": 2
}
