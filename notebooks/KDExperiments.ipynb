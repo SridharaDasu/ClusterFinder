{
 "cells": [
  {
   "cell_type": "code",
   "execution_count": 1,
   "metadata": {
    "colab": {
     "base_uri": "https://localhost:8080/"
    },
    "executionInfo": {
     "elapsed": 15607,
     "status": "ok",
     "timestamp": 1676908755706,
     "user": {
      "displayName": "HARSHIT SHARMA",
      "userId": "03646130816822692409"
     },
     "user_tz": 360
    },
    "id": "HJjJrdqh1KsG",
    "outputId": "4ed790bf-7520-4244-ffa5-f2d459887cc0"
   },
   "outputs": [
    {
     "name": "stderr",
     "output_type": "stream",
     "text": [
      "2023-06-20 19:56:35.288293: I tensorflow/core/platform/cpu_feature_guard.cc:182] This TensorFlow binary is optimized to use available CPU instructions in performance-critical operations.\n",
      "To enable the following instructions: AVX2 FMA, in other operations, rebuild TensorFlow with the appropriate compiler flags.\n",
      "2023-06-20 19:56:36.114846: W tensorflow/compiler/tf2tensorrt/utils/py_utils.cc:38] TF-TRT Warning: Could not find TensorRT\n"
     ]
    }
   ],
   "source": [
    "import wandb\n",
    "from wandb.keras import WandbCallback"
   ]
  },
  {
   "cell_type": "code",
   "execution_count": 2,
   "metadata": {},
   "outputs": [],
   "source": [
    "import os\n",
    "os.environ['CUDA_VISIBLE_DEVICES'] = '-1'"
   ]
  },
  {
   "cell_type": "code",
   "execution_count": 3,
   "metadata": {
    "executionInfo": {
     "elapsed": 3486,
     "status": "ok",
     "timestamp": 1676908773630,
     "user": {
      "displayName": "HARSHIT SHARMA",
      "userId": "03646130816822692409"
     },
     "user_tz": 360
    },
    "id": "snrvtQAW0AUD"
   },
   "outputs": [],
   "source": [
    "import tensorflow as tf\n",
    "from tensorflow.keras.layers import MaxPooling2D, Input, concatenate, Conv2D, Activation, ZeroPadding2D, UpSampling2D, add\n",
    "from tensorflow.keras.models import *\n",
    "from qkeras import *\n",
    "\n",
    "#import tensorflow_datasets as tfds\n",
    "from tensorflow.keras.preprocessing.image import load_img\n",
    "\n",
    "import os\n",
    "import numpy as np\n",
    "from PIL import Image\n",
    "import matplotlib.pyplot as plt\n",
    "%matplotlib inline\n",
    "\n",
    "from sklearn.utils import shuffle\n",
    "from tqdm import tqdm"
   ]
  },
  {
   "cell_type": "code",
   "execution_count": 4,
   "metadata": {},
   "outputs": [
    {
     "name": "stdout",
     "output_type": "stream",
     "text": [
      "Num GPUs: 0\n"
     ]
    },
    {
     "name": "stderr",
     "output_type": "stream",
     "text": [
      "2023-06-20 19:56:37.855310: E tensorflow/compiler/xla/stream_executor/cuda/cuda_driver.cc:266] failed call to cuInit: CUDA_ERROR_NO_DEVICE: no CUDA-capable device is detected\n",
      "2023-06-20 19:56:37.855369: I tensorflow/compiler/xla/stream_executor/cuda/cuda_diagnostics.cc:168] retrieving CUDA diagnostic information for host: cmsgpu01.hep.wisc.edu\n",
      "2023-06-20 19:56:37.855382: I tensorflow/compiler/xla/stream_executor/cuda/cuda_diagnostics.cc:175] hostname: cmsgpu01.hep.wisc.edu\n",
      "2023-06-20 19:56:37.855470: I tensorflow/compiler/xla/stream_executor/cuda/cuda_diagnostics.cc:199] libcuda reported version is: 530.30.2\n",
      "2023-06-20 19:56:37.855518: I tensorflow/compiler/xla/stream_executor/cuda/cuda_diagnostics.cc:203] kernel reported version is: 530.30.2\n",
      "2023-06-20 19:56:37.855527: I tensorflow/compiler/xla/stream_executor/cuda/cuda_diagnostics.cc:309] kernel version seems to match DSO: 530.30.2\n"
     ]
    }
   ],
   "source": [
    "PRETRAINED = True\n",
    "physical_devices = tf.config.list_physical_devices('GPU')\n",
    "print(\"Num GPUs:\", len(physical_devices))"
   ]
  },
  {
   "cell_type": "code",
   "execution_count": 5,
   "metadata": {},
   "outputs": [],
   "source": [
    "def iou_coefficient(y_true, y_pred, smooth=1):\n",
    "    intersection = K.sum(K.abs(y_true * y_pred), axis=[1, 2, 3])\n",
    "    union = K.sum(y_true, [1, 2, 3]) + K.sum(y_pred, [1, 2, 3]) - intersection\n",
    "    iou = K.mean((intersection + smooth) / (union + smooth), axis=0)\n",
    "    return iou\n",
    "\n",
    "\n",
    "# jaccard similarity: the size of the intersection divided by the size of the union of two sets\n",
    "def jaccard_index(y_true, y_pred):\n",
    "    y_true_f = K.flatten(y_true)\n",
    "    y_pred_f = K.flatten(y_pred)\n",
    "    intersection = K.sum(y_true_f * y_pred_f)\n",
    "    return (intersection + 1.0) / (K.sum(y_true_f) + K.sum(y_pred_f) - intersection + 1.0)"
   ]
  },
  {
   "cell_type": "code",
   "execution_count": 6,
   "metadata": {
    "colab": {
     "base_uri": "https://localhost:8080/"
    },
    "executionInfo": {
     "elapsed": 46652,
     "status": "ok",
     "timestamp": 1676908823040,
     "user": {
      "displayName": "HARSHIT SHARMA",
      "userId": "03646130816822692409"
     },
     "user_tz": 360
    },
    "id": "bQwUMEaT0AVu",
    "outputId": "e8bfa712-d298-4bd0-c9e8-96d7c52cb333"
   },
   "outputs": [
    {
     "name": "stderr",
     "output_type": "stream",
     "text": [
      "100%|██████████| 10000/10000 [00:01<00:00, 5935.71it/s]\n"
     ]
    },
    {
     "data": {
      "text/plain": [
       "(10000, 10000)"
      ]
     },
     "execution_count": 6,
     "metadata": {},
     "output_type": "execute_result"
    }
   ],
   "source": [
    "#TODO: Data generation\n",
    "BASE_PATH = \"/nfs_scratch/hsharma/MachineLearning/ClusterFinder/data/images/\"\n",
    "IMG_PATH = 'input/'\n",
    "ANNOTATION_PATH = 'trimaps/'\n",
    "num = 10000\n",
    "\n",
    "input_img_paths = sorted(\n",
    "    [\n",
    "        os.path.join(BASE_PATH, IMG_PATH, fname)\n",
    "        for fname in os.listdir(BASE_PATH+IMG_PATH)\n",
    "        if fname.endswith(\".png\") and \"(\" not in fname\n",
    "    ]\n",
    ")[:num]\n",
    "\n",
    "\n",
    "annotation_img_paths = []\n",
    "\n",
    "for fname in tqdm(input_img_paths[:num]):\n",
    "    annp = os.path.join(BASE_PATH, ANNOTATION_PATH, fname.split(\"/\")[-1].replace(\"img\", \"annm\"))\n",
    "    if os.path.isfile(annp):\n",
    "        annotation_img_paths.append(annp)\n",
    "        input_img_paths.append(fname)\n",
    "    else:\n",
    "        pass\n",
    "\n",
    "input_img_paths = input_img_paths[num:]\n",
    "len(input_img_paths), len(annotation_img_paths)"
   ]
  },
  {
   "cell_type": "code",
   "execution_count": 7,
   "metadata": {
    "colab": {
     "base_uri": "https://localhost:8080/"
    },
    "executionInfo": {
     "elapsed": 8,
     "status": "ok",
     "timestamp": 1676908823041,
     "user": {
      "displayName": "HARSHIT SHARMA",
      "userId": "03646130816822692409"
     },
     "user_tz": 360
    },
    "id": "dJnwPUOzM09F",
    "outputId": "20864d78-0023-4666-b1ad-bd26395fddd1"
   },
   "outputs": [
    {
     "data": {
      "text/plain": [
       "[]"
      ]
     },
     "execution_count": 7,
     "metadata": {},
     "output_type": "execute_result"
    }
   ],
   "source": [
    "[x for x in input_img_paths if \"(\" in x]"
   ]
  },
  {
   "cell_type": "code",
   "execution_count": 8,
   "metadata": {
    "colab": {
     "base_uri": "https://localhost:8080/"
    },
    "executionInfo": {
     "elapsed": 134,
     "status": "ok",
     "timestamp": 1676908823170,
     "user": {
      "displayName": "HARSHIT SHARMA",
      "userId": "03646130816822692409"
     },
     "user_tz": 360
    },
    "id": "nLoE53Sa_D9G",
    "outputId": "fdbcaa3d-c838-4f63-8c26-1aadf7716557"
   },
   "outputs": [
    {
     "data": {
      "text/plain": [
       "('/nfs_scratch/hsharma/MachineLearning/ClusterFinder/data/images/input/ECAL_img_0.png',\n",
       " '/nfs_scratch/hsharma/MachineLearning/ClusterFinder/data/images/trimaps/ECAL_annm_0.png')"
      ]
     },
     "execution_count": 8,
     "metadata": {},
     "output_type": "execute_result"
    }
   ],
   "source": [
    "input_img_paths[0], annotation_img_paths[0]"
   ]
  },
  {
   "cell_type": "code",
   "execution_count": 9,
   "metadata": {
    "colab": {
     "base_uri": "https://localhost:8080/",
     "height": 937
    },
    "executionInfo": {
     "elapsed": 3574,
     "status": "ok",
     "timestamp": 1676908826741,
     "user": {
      "displayName": "HARSHIT SHARMA",
      "userId": "03646130816822692409"
     },
     "user_tz": 360
    },
    "id": "E62hiSoV0AXi",
    "outputId": "9974e98f-26fa-44ea-8d50-7ecf4299163c"
   },
   "outputs": [
    {
     "name": "stdout",
     "output_type": "stream",
     "text": [
      "[3580 6733 1473 6141]\n"
     ]
    },
    {
     "data": {
      "image/png": "[encoded data removed]",
      "text/plain": [
       "<Figure size 1200x1600 with 8 Axes>"
      ]
     },
     "metadata": {},
     "output_type": "display_data"
    }
   ],
   "source": [
    "num_example_to_display = 4\n",
    "\n",
    "sample_idxs = np.random.randint(0, len(input_img_paths)-1, size=(num_example_to_display,))\n",
    "#sample_idxs = [0, 1, 2, 3]\n",
    "print(sample_idxs)\n",
    "\n",
    "fig, axs = plt.subplots(nrows=num_example_to_display, ncols=2, figsize=(12,4*num_example_to_display))\n",
    "\n",
    "for i, sample_idx in enumerate(sample_idxs):\n",
    "  img = Image.open(input_img_paths[sample_idx]) \n",
    "  mask = Image.open(annotation_img_paths[sample_idx])\n",
    "  #img = Image.fromarray(np.array(img))\n",
    "  axs[i][0].imshow(img)\n",
    "  axs[i][1].imshow(mask, cmap='gray')"
   ]
  },
  {
   "cell_type": "code",
   "execution_count": 10,
   "metadata": {
    "executionInfo": {
     "elapsed": 2,
     "status": "ok",
     "timestamp": 1676908826741,
     "user": {
      "displayName": "HARSHIT SHARMA",
      "userId": "03646130816822692409"
     },
     "user_tz": 360
    },
    "id": "5iuTPwRA0OWN"
   },
   "outputs": [],
   "source": [
    "IMG_SHAPE = 32\n",
    "\n",
    "def normalize(image, mask):\n",
    "    image = tf.cast(image, tf.float32) / 255.0\n",
    "    mask -= 1\n",
    "    return image, mask\n",
    "\n",
    "def load_and_preprocess(img_filepath, mask_filepath):\n",
    "    img = tf.io.read_file(img_filepath)\n",
    "    img = tf.io.decode_jpeg(img, channels=3)\n",
    "    img = tf.image.resize(img, [IMG_SHAPE, IMG_SHAPE])\n",
    "\n",
    "    mask = tf.io.read_file(mask_filepath)\n",
    "    mask = tf.io.decode_png(mask, channels=1)\n",
    "    mask = tf.image.resize(mask, [IMG_SHAPE, IMG_SHAPE])\n",
    "\n",
    "    img, mask = normalize(img, mask)\n",
    "\n",
    "    return img, mask"
   ]
  },
  {
   "cell_type": "code",
   "execution_count": 11,
   "metadata": {
    "executionInfo": {
     "elapsed": 2429,
     "status": "ok",
     "timestamp": 1676908829168,
     "user": {
      "displayName": "HARSHIT SHARMA",
      "userId": "03646130816822692409"
     },
     "user_tz": 360
    },
    "id": "XU2h5tne0OX5"
   },
   "outputs": [],
   "source": [
    "AUTO = tf.data.experimental.AUTOTUNE\n",
    "BATCH_SIZE = 32\n",
    "\n",
    "input_img_paths, annotation_img_paths = shuffle(input_img_paths, annotation_img_paths, random_state=42)\n",
    "input_img_paths_train, annotation_img_paths_train = input_img_paths[: -1200], annotation_img_paths[: -1200]\n",
    "input_img_paths_test, annotation_img_paths_test = input_img_paths[-1200:-800], annotation_img_paths[-1200:-800]\n",
    "\n",
    "trainloader = tf.data.Dataset.from_tensor_slices((input_img_paths_train, annotation_img_paths_train))\n",
    "testloader = tf.data.Dataset.from_tensor_slices((input_img_paths_test, annotation_img_paths_test))\n",
    "\n",
    "trainloader = (\n",
    "    trainloader\n",
    "    .shuffle(1024)\n",
    "    .map(load_and_preprocess, num_parallel_calls=AUTO)\n",
    "    .batch(BATCH_SIZE)\n",
    "    .prefetch(AUTO)\n",
    ")\n",
    "\n",
    "testloader = (\n",
    "    testloader\n",
    "    .map(load_and_preprocess, num_parallel_calls=AUTO)\n",
    "    .batch(BATCH_SIZE)\n",
    "    .prefetch(AUTO)\n",
    ")"
   ]
  },
  {
   "cell_type": "code",
   "execution_count": 12,
   "metadata": {
    "executionInfo": {
     "elapsed": 2,
     "status": "ok",
     "timestamp": 1676908829168,
     "user": {
      "displayName": "HARSHIT SHARMA",
      "userId": "03646130816822692409"
     },
     "user_tz": 360
    },
    "id": "9DBLQ6sDUXZU"
   },
   "outputs": [],
   "source": [
    "input_img_paths_test, annotation_img_paths_test = input_img_paths[-800:], annotation_img_paths[-800:]\n",
    "maintestloader = tf.data.Dataset.from_tensor_slices((input_img_paths_test, annotation_img_paths_test))\n",
    "\n",
    "maintestloader = (\n",
    "    maintestloader\n",
    "    .map(load_and_preprocess, num_parallel_calls=AUTO)\n",
    "    .batch(BATCH_SIZE)\n",
    "    .prefetch(AUTO)\n",
    ")"
   ]
  },
  {
   "cell_type": "code",
   "execution_count": 13,
   "metadata": {
    "colab": {
     "base_uri": "https://localhost:8080/",
     "height": 919
    },
    "executionInfo": {
     "elapsed": 8925,
     "status": "ok",
     "timestamp": 1676908838090,
     "user": {
      "displayName": "HARSHIT SHARMA",
      "userId": "03646130816822692409"
     },
     "user_tz": 360
    },
    "id": "Mm4bl76I0OZ8",
    "outputId": "060fe625-0cc8-4e48-ae1d-55ff4a1104ce"
   },
   "outputs": [
    {
     "name": "stderr",
     "output_type": "stream",
     "text": [
      "2023-06-20 19:56:43.317944: I tensorflow/core/common_runtime/executor.cc:1197] [/device:CPU:0] (DEBUG INFO) Executor start aborting (this does not indicate an error and you can ignore this message): INVALID_ARGUMENT: You must feed a value for placeholder tensor 'Placeholder/_1' with dtype string and shape [8800]\n",
      "\t [[{{node Placeholder/_1}}]]\n",
      "2023-06-20 19:56:43.318596: I tensorflow/core/common_runtime/executor.cc:1197] [/device:CPU:0] (DEBUG INFO) Executor start aborting (this does not indicate an error and you can ignore this message): INVALID_ARGUMENT: You must feed a value for placeholder tensor 'Placeholder/_0' with dtype string and shape [8800]\n",
      "\t [[{{node Placeholder/_0}}]]\n"
     ]
    },
    {
     "data": {
      "image/png": "[encoded data removed]",
      "text/plain": [
       "<Figure size 1200x1600 with 8 Axes>"
      ]
     },
     "metadata": {},
     "output_type": "display_data"
    }
   ],
   "source": [
    "num_example_to_display = 4\n",
    "\n",
    "img, mask = next(iter(trainloader))\n",
    "\n",
    "fig, axs = plt.subplots(nrows=num_example_to_display, ncols=2, figsize=(12,4*num_example_to_display))\n",
    "\n",
    "for i in range(num_example_to_display):\n",
    "  axs[i][0].imshow(img[i]);\n",
    "  axs[i][1].imshow(np.squeeze(mask[i],-1), cmap='gray');"
   ]
  },
  {
   "cell_type": "code",
   "execution_count": 14,
   "metadata": {
    "colab": {
     "base_uri": "https://localhost:8080/"
    },
    "executionInfo": {
     "elapsed": 9,
     "status": "ok",
     "timestamp": 1676908838091,
     "user": {
      "displayName": "HARSHIT SHARMA",
      "userId": "03646130816822692409"
     },
     "user_tz": 360
    },
    "id": "nusSCFINN2IQ",
    "outputId": "521b9660-801d-4fd7-cfbc-9ce9a734d18a"
   },
   "outputs": [
    {
     "data": {
      "text/plain": [
       "TensorShape([32, 32, 1])"
      ]
     },
     "execution_count": 14,
     "metadata": {},
     "output_type": "execute_result"
    }
   ],
   "source": [
    "mask[0].shape"
   ]
  },
  {
   "cell_type": "markdown",
   "metadata": {},
   "source": [
    "### Modeling"
   ]
  },
  {
   "cell_type": "code",
   "execution_count": 15,
   "metadata": {},
   "outputs": [],
   "source": [
    "class Distiller(tf.keras.Model):\n",
    "    def __init__(self, student, teacher):\n",
    "        super().__init__()\n",
    "        self.teacher = teacher\n",
    "        self.student = student\n",
    "\n",
    "    def compile(\n",
    "        self,\n",
    "        optimizer,\n",
    "        metrics,\n",
    "        student_loss_fn,\n",
    "        distillation_loss_fn,\n",
    "        alpha=0.1,\n",
    "        temperature=3,\n",
    "    ):\n",
    "        \"\"\" Configure the distiller.\n",
    "\n",
    "        Args:\n",
    "            optimizer: Keras optimizer for the student weights\n",
    "            metrics: Keras metrics for evaluation\n",
    "            student_loss_fn: Loss function of difference between student\n",
    "                predictions and ground-truth\n",
    "            distillation_loss_fn: Loss function of difference between soft\n",
    "                student predictions and soft teacher predictions\n",
    "            alpha: weight to student_loss_fn and 1-alpha to distillation_loss_fn\n",
    "            temperature: Temperature for softening probability distributions.\n",
    "                Larger temperature gives softer distributions.\n",
    "        \"\"\"\n",
    "        super().compile(optimizer=optimizer, metrics=metrics)\n",
    "        self.student_loss_fn = student_loss_fn\n",
    "        self.distillation_loss_fn = distillation_loss_fn\n",
    "        self.alpha = alpha\n",
    "        self.temperature = temperature\n",
    "\n",
    "    def train_step(self, data):\n",
    "        # Unpack data\n",
    "        x, y = data\n",
    "\n",
    "        # Forward pass of teacher\n",
    "        teacher_predictions = self.teacher(x, training=False)\n",
    "\n",
    "        with tf.GradientTape() as tape:\n",
    "            # Forward pass of student\n",
    "            student_predictions = self.student(x, training=True)\n",
    "\n",
    "            # Compute losses\n",
    "            student_loss = self.student_loss_fn(y, student_predictions)\n",
    "\n",
    "            # Compute scaled distillation loss from https://arxiv.org/abs/1503.02531\n",
    "            # The magnitudes of the gradients produced by the soft targets scale\n",
    "            # as 1/T^2, multiply them by T^2 when using both hard and soft targets.\n",
    "            distillation_loss = (\n",
    "                self.distillation_loss_fn(\n",
    "                    tf.nn.softmax(teacher_predictions / self.temperature, axis=1),\n",
    "                    tf.nn.softmax(student_predictions / self.temperature, axis=1),\n",
    "                )\n",
    "                * self.temperature**2\n",
    "            )\n",
    "\n",
    "            loss = self.alpha * student_loss + (1 - self.alpha) * distillation_loss\n",
    "\n",
    "        # Compute gradients\n",
    "        trainable_vars = self.student.trainable_variables\n",
    "        gradients = tape.gradient(loss, trainable_vars)\n",
    "\n",
    "        # Update weights\n",
    "        self.optimizer.apply_gradients(zip(gradients, trainable_vars))\n",
    "\n",
    "        # Update the metrics configured in `compile()`.\n",
    "        self.compiled_metrics.update_state(y, student_predictions)\n",
    "\n",
    "        # Return a dict of performance\n",
    "        results = {m.name: m.result() for m in self.metrics}\n",
    "        results.update(\n",
    "            {\"student_loss\": student_loss, \"distillation_loss\": distillation_loss}\n",
    "        )\n",
    "        return results\n",
    "\n",
    "    def test_step(self, data):\n",
    "        # Unpack the data\n",
    "        x, y = data\n",
    "\n",
    "        # Compute predictions\n",
    "        y_prediction = self.student(x, training=False)\n",
    "\n",
    "        # Calculate the loss\n",
    "        student_loss = self.student_loss_fn(y, y_prediction)\n",
    "\n",
    "        # Update the metrics.\n",
    "        self.compiled_metrics.update_state(y, y_prediction)\n",
    "\n",
    "        # Return a dict of performance\n",
    "        results = {m.name: m.result() for m in self.metrics}\n",
    "        results.update({\"student_loss\": student_loss})\n",
    "        return results"
   ]
  },
  {
   "cell_type": "code",
   "execution_count": 16,
   "metadata": {},
   "outputs": [],
   "source": [
    "OUTPUT_CHANNEL = 3\n",
    "\n",
    "class UNETLiteV4Model:\n",
    "    '''\n",
    "    Build UNET based model for segmentation task.\n",
    "    '''\n",
    "    def prepare_model(self, OUTPUT_CHANNEL, input_size=(IMG_SHAPE,IMG_SHAPE,3)):\n",
    "        inputs = Input(input_size)\n",
    "\n",
    "        conv1, pool1 = self.__ConvBlock(4, (3,3), (2,2), 'relu', 'same', inputs) \n",
    "        conv2, up3 = self.__UpConvBlock(8, 4, (3,3), (2,2), (2,2), 'relu', 'same', pool1, conv1)\n",
    "\n",
    "        conv4 = self.__ConvBlock(4, (3,3), (2,2), 'relu', 'same', up3, False)\n",
    "\n",
    "        outputs = Conv2D(OUTPUT_CHANNEL, (3, 3), activation='softmax', padding='same')(conv4)\n",
    "\n",
    "        return Model(inputs=[inputs], outputs=[outputs])  \n",
    "\n",
    "    def __ConvBlock(self, filters, kernel_size, pool_size, activation, padding, connecting_layer, pool_layer=True):\n",
    "        conv = Conv2D(filters=filters, kernel_size=kernel_size, activation=activation, padding=padding)(connecting_layer)\n",
    "        conv = Conv2D(filters=filters, kernel_size=kernel_size, activation=activation, padding=padding)(conv)\n",
    "        if pool_layer:\n",
    "            pool = MaxPooling2D(pool_size)(conv)\n",
    "            return conv, pool\n",
    "        else:\n",
    "            return conv\n",
    "\n",
    "    def __UpConvBlock(self, filters, up_filters, kernel_size, up_kernel, up_stride, activation, padding, connecting_layer, shared_layer):\n",
    "        conv = Conv2D(filters=filters, kernel_size=kernel_size, activation=activation, padding=padding)(connecting_layer)\n",
    "        conv = Conv2D(filters=filters, kernel_size=kernel_size, activation=activation, padding=padding)(conv)\n",
    "        up = Conv2DTranspose(filters=up_filters, kernel_size=up_kernel, strides=up_stride, padding=padding)(conv)\n",
    "        up = concatenate([up, shared_layer], axis=3)\n",
    "\n",
    "        return conv, up"
   ]
  },
  {
   "cell_type": "code",
   "execution_count": 17,
   "metadata": {},
   "outputs": [],
   "source": [
    "class UNETLiteV3Model:\n",
    "    '''\n",
    "    Build UNET based model for segmentation task.\n",
    "    '''\n",
    "    def prepare_model(self, OUTPUT_CHANNEL, input_size=(IMG_SHAPE,IMG_SHAPE,3)):\n",
    "        inputs = Input(input_size)\n",
    "\n",
    "        conv1, pool1 = self.__ConvBlock(4, (3,3), (2,2), 'relu', 'same', inputs) \n",
    "        conv2, pool2 = self.__ConvBlock(8, (3,3), (2,2), 'relu', 'same', pool1)\n",
    "        \n",
    "        conv5, up6 = self.__UpConvBlock(16, 8, (3,3), (2,2), (2,2), 'relu', 'same', pool2, conv2)\n",
    "        conv6, up7 = self.__UpConvBlock(8, 4, (3,3), (2,2), (2,2), 'relu', 'same', up6, conv1)\n",
    "\n",
    "        conv7 = self.__ConvBlock(4, (3,3), (2,2), 'relu', 'same', up7, False)\n",
    "\n",
    "        outputs = Conv2D(OUTPUT_CHANNEL, (3, 3), activation='softmax', padding='same')(conv7)\n",
    "\n",
    "        return Model(inputs=[inputs], outputs=[outputs])  \n",
    "\n",
    "    def __ConvBlock(self, filters, kernel_size, pool_size, activation, padding, connecting_layer, pool_layer=True):\n",
    "        conv = Conv2D(filters=filters, kernel_size=kernel_size, activation=activation, padding=padding)(connecting_layer)\n",
    "        conv = Conv2D(filters=filters, kernel_size=kernel_size, activation=activation, padding=padding)(conv)\n",
    "        if pool_layer:\n",
    "            pool = MaxPooling2D(pool_size)(conv)\n",
    "            return conv, pool\n",
    "        else:\n",
    "            return conv\n",
    "\n",
    "    def __UpConvBlock(self, filters, up_filters, kernel_size, up_kernel, up_stride, activation, padding, connecting_layer, shared_layer):\n",
    "        conv = Conv2D(filters=filters, kernel_size=kernel_size, activation=activation, padding=padding)(connecting_layer)\n",
    "        conv = Conv2D(filters=filters, kernel_size=kernel_size, activation=activation, padding=padding)(conv)\n",
    "        up = Conv2DTranspose(filters=up_filters, kernel_size=up_kernel, strides=up_stride, padding=padding)(conv)\n",
    "        up = concatenate([up, shared_layer], axis=3)\n",
    "\n",
    "        return conv, up"
   ]
  },
  {
   "cell_type": "code",
   "execution_count": 18,
   "metadata": {},
   "outputs": [],
   "source": [
    "class HEPAEModel:\n",
    "    '''\n",
    "    Build UNET based model for segmentation task.\n",
    "    '''\n",
    "    def prepare_model(self, OUTPUT_CHANNEL, input_size=(IMG_SHAPE,IMG_SHAPE,3)):\n",
    "        encoding_dim = 8 # 4x Compression\n",
    "        \n",
    "        inputs = Input(input_size)\n",
    "        encoded = Dense(encoding_dim, activation='relu')(inputs)\n",
    "        decoded = Dense(32, activation='softmax')(encoded)\n",
    "\n",
    "        return Model(inputs=[inputs], outputs=[decoded])"
   ]
  },
  {
   "cell_type": "code",
   "execution_count": 19,
   "metadata": {},
   "outputs": [
    {
     "name": "stdout",
     "output_type": "stream",
     "text": [
      "Model: \"model\"\n",
      "__________________________________________________________________________________________________\n",
      " Layer (type)                   Output Shape         Param #     Connected to                     \n",
      "==================================================================================================\n",
      " input_1 (InputLayer)           [(None, 32, 32, 3)]  0           []                               \n",
      "                                                                                                  \n",
      " conv2d (Conv2D)                (None, 32, 32, 8)    224         ['input_1[0][0]']                \n",
      "                                                                                                  \n",
      " conv2d_1 (Conv2D)              (None, 32, 32, 8)    584         ['conv2d[0][0]']                 \n",
      "                                                                                                  \n",
      " max_pooling2d (MaxPooling2D)   (None, 16, 16, 8)    0           ['conv2d_1[0][0]']               \n",
      "                                                                                                  \n",
      " conv2d_2 (Conv2D)              (None, 16, 16, 16)   1168        ['max_pooling2d[0][0]']          \n",
      "                                                                                                  \n",
      " conv2d_3 (Conv2D)              (None, 16, 16, 16)   2320        ['conv2d_2[0][0]']               \n",
      "                                                                                                  \n",
      " max_pooling2d_1 (MaxPooling2D)  (None, 8, 8, 16)    0           ['conv2d_3[0][0]']               \n",
      "                                                                                                  \n",
      " conv2d_4 (Conv2D)              (None, 8, 8, 32)     4640        ['max_pooling2d_1[0][0]']        \n",
      "                                                                                                  \n",
      " conv2d_5 (Conv2D)              (None, 8, 8, 32)     9248        ['conv2d_4[0][0]']               \n",
      "                                                                                                  \n",
      " conv2d_transpose (Conv2DTransp  (None, 16, 16, 16)  2064        ['conv2d_5[0][0]']               \n",
      " ose)                                                                                             \n",
      "                                                                                                  \n",
      " concatenate (Concatenate)      (None, 16, 16, 32)   0           ['conv2d_transpose[0][0]',       \n",
      "                                                                  'conv2d_3[0][0]']               \n",
      "                                                                                                  \n",
      " conv2d_6 (Conv2D)              (None, 16, 16, 16)   4624        ['concatenate[0][0]']            \n",
      "                                                                                                  \n",
      " conv2d_7 (Conv2D)              (None, 16, 16, 16)   2320        ['conv2d_6[0][0]']               \n",
      "                                                                                                  \n",
      " conv2d_transpose_1 (Conv2DTran  (None, 32, 32, 8)   520         ['conv2d_7[0][0]']               \n",
      " spose)                                                                                           \n",
      "                                                                                                  \n",
      " concatenate_1 (Concatenate)    (None, 32, 32, 16)   0           ['conv2d_transpose_1[0][0]',     \n",
      "                                                                  'conv2d_1[0][0]']               \n",
      "                                                                                                  \n",
      " conv2d_8 (Conv2D)              (None, 32, 32, 8)    1160        ['concatenate_1[0][0]']          \n",
      "                                                                                                  \n",
      " conv2d_9 (Conv2D)              (None, 32, 32, 8)    584         ['conv2d_8[0][0]']               \n",
      "                                                                                                  \n",
      " conv2d_10 (Conv2D)             (None, 32, 32, 3)    219         ['conv2d_9[0][0]']               \n",
      "                                                                                                  \n",
      "==================================================================================================\n",
      "Total params: 29,675\n",
      "Trainable params: 29,675\n",
      "Non-trainable params: 0\n",
      "__________________________________________________________________________________________________\n"
     ]
    }
   ],
   "source": [
    "TMODEL_PATH = \"/nfs_scratch/hsharma/MachineLearning/ClusterFinder/notebooks/wandb/run-20230227_185529-sjhgebn1/files/model-best.h5\"\n",
    "teacher_model = load_model(TMODEL_PATH)\n",
    "teacher_model.summary()"
   ]
  },
  {
   "cell_type": "code",
   "execution_count": 20,
   "metadata": {},
   "outputs": [
    {
     "name": "stdout",
     "output_type": "stream",
     "text": [
      "Model: \"model\"\n",
      "__________________________________________________________________________________________________\n",
      " Layer (type)                   Output Shape         Param #     Connected to                     \n",
      "==================================================================================================\n",
      " input_1 (InputLayer)           [(None, 32, 32, 3)]  0           []                               \n",
      "                                                                                                  \n",
      " conv2d (Conv2D)                (None, 32, 32, 4)    112         ['input_1[0][0]']                \n",
      "                                                                                                  \n",
      " conv2d_1 (Conv2D)              (None, 32, 32, 4)    148         ['conv2d[0][0]']                 \n",
      "                                                                                                  \n",
      " max_pooling2d (MaxPooling2D)   (None, 16, 16, 4)    0           ['conv2d_1[0][0]']               \n",
      "                                                                                                  \n",
      " conv2d_2 (Conv2D)              (None, 16, 16, 8)    296         ['max_pooling2d[0][0]']          \n",
      "                                                                                                  \n",
      " conv2d_3 (Conv2D)              (None, 16, 16, 8)    584         ['conv2d_2[0][0]']               \n",
      "                                                                                                  \n",
      " max_pooling2d_1 (MaxPooling2D)  (None, 8, 8, 8)     0           ['conv2d_3[0][0]']               \n",
      "                                                                                                  \n",
      " conv2d_4 (Conv2D)              (None, 8, 8, 16)     1168        ['max_pooling2d_1[0][0]']        \n",
      "                                                                                                  \n",
      " conv2d_5 (Conv2D)              (None, 8, 8, 16)     2320        ['conv2d_4[0][0]']               \n",
      "                                                                                                  \n",
      " conv2d_transpose (Conv2DTransp  (None, 16, 16, 8)   520         ['conv2d_5[0][0]']               \n",
      " ose)                                                                                             \n",
      "                                                                                                  \n",
      " concatenate (Concatenate)      (None, 16, 16, 16)   0           ['conv2d_transpose[0][0]',       \n",
      "                                                                  'conv2d_3[0][0]']               \n",
      "                                                                                                  \n",
      " conv2d_6 (Conv2D)              (None, 16, 16, 8)    1160        ['concatenate[0][0]']            \n",
      "                                                                                                  \n",
      " conv2d_7 (Conv2D)              (None, 16, 16, 8)    584         ['conv2d_6[0][0]']               \n",
      "                                                                                                  \n",
      " conv2d_transpose_1 (Conv2DTran  (None, 32, 32, 4)   132         ['conv2d_7[0][0]']               \n",
      " spose)                                                                                           \n",
      "                                                                                                  \n",
      " concatenate_1 (Concatenate)    (None, 32, 32, 8)    0           ['conv2d_transpose_1[0][0]',     \n",
      "                                                                  'conv2d_1[0][0]']               \n",
      "                                                                                                  \n",
      " conv2d_8 (Conv2D)              (None, 32, 32, 4)    292         ['concatenate_1[0][0]']          \n",
      "                                                                                                  \n",
      " conv2d_9 (Conv2D)              (None, 32, 32, 4)    148         ['conv2d_8[0][0]']               \n",
      "                                                                                                  \n",
      " conv2d_10 (Conv2D)             (None, 32, 32, 3)    111         ['conv2d_9[0][0]']               \n",
      "                                                                                                  \n",
      "==================================================================================================\n",
      "Total params: 7,575\n",
      "Trainable params: 7,575\n",
      "Non-trainable params: 0\n",
      "__________________________________________________________________________________________________\n"
     ]
    }
   ],
   "source": [
    "student_model = UNETLiteV3Model().prepare_model(OUTPUT_CHANNEL, input_size=(32, 32, 3))\n",
    "student_model.summary()"
   ]
  },
  {
   "cell_type": "code",
   "execution_count": 21,
   "metadata": {
    "executionInfo": {
     "elapsed": 102,
     "status": "ok",
     "timestamp": 1676909316204,
     "user": {
      "displayName": "HARSHIT SHARMA",
      "userId": "03646130816822692409"
     },
     "user_tz": 360
    },
    "id": "PYns25vC0c_k"
   },
   "outputs": [],
   "source": [
    "segmentation_classes = ['cluster', 'cluster_outline', 'background']\n",
    "\n",
    "# returns a dictionary of labels\n",
    "def labels():\n",
    "    l = {}\n",
    "    for i, label in enumerate(segmentation_classes):\n",
    "        l[i] = label\n",
    "    return l\n",
    "\n",
    "# util function for generating interactive image mask from components\n",
    "def wandb_mask(bg_img, pred_mask, true_mask):\n",
    "    return wandb.Image(bg_img, masks={\n",
    "      \"prediction\" : {\n",
    "          \"mask_data\" : pred_mask, \n",
    "          \"class_labels\" : labels()\n",
    "      },\n",
    "      \"ground truth\" : {\n",
    "          \"mask_data\" : true_mask, \n",
    "          \"class_labels\" : labels()\n",
    "      }\n",
    "    }\n",
    "  )"
   ]
  },
  {
   "cell_type": "code",
   "execution_count": 22,
   "metadata": {
    "executionInfo": {
     "elapsed": 94,
     "status": "ok",
     "timestamp": 1676909317846,
     "user": {
      "displayName": "HARSHIT SHARMA",
      "userId": "03646130816822692409"
     },
     "user_tz": 360
    },
    "id": "TOUZOxOg0dBZ"
   },
   "outputs": [],
   "source": [
    "class SemanticLogger(tf.keras.callbacks.Callback):\n",
    "    def __init__(self):\n",
    "        super(SemanticLogger, self).__init__()\n",
    "        self.val_images, self.val_masks = next(iter(testloader))\n",
    "\n",
    "    def on_epoch_end(self, logs, epoch):\n",
    "        pred_masks = self.model.predict(self.val_images)\n",
    "        pred_masks = np.argmax(pred_masks, axis=-1)\n",
    "\n",
    "        val_images = tf.image.convert_image_dtype(self.val_images, tf.uint8)\n",
    "        val_masks = tf.image.convert_image_dtype(self.val_masks, tf.uint8)\n",
    "        val_masks = tf.squeeze(val_masks, axis=-1)\n",
    "        \n",
    "        pred_masks = tf.image.convert_image_dtype(pred_masks, tf.uint8)\n",
    "\n",
    "        mask_list = []\n",
    "        for i in range(len(self.val_images)):\n",
    "            mask_list.append(wandb_mask(val_images[i].numpy(), \n",
    "                                      pred_masks[i].numpy(), \n",
    "                                      val_masks[i].numpy()))\n",
    "\n",
    "        wandb.log({\"predictions\" : mask_list})"
   ]
  },
  {
   "cell_type": "code",
   "execution_count": 46,
   "metadata": {},
   "outputs": [
    {
     "data": {
      "text/html": [
       "wandb version 0.15.3 is available!  To upgrade, please run:\n",
       " $ pip install wandb --upgrade"
      ],
      "text/plain": [
       "<IPython.core.display.HTML object>"
      ]
     },
     "metadata": {},
     "output_type": "display_data"
    },
    {
     "data": {
      "text/html": [
       "Tracking run with wandb version 0.15.2"
      ],
      "text/plain": [
       "<IPython.core.display.HTML object>"
      ]
     },
     "metadata": {},
     "output_type": "display_data"
    },
    {
     "data": {
      "text/html": [
       "Run data is saved locally in <code>/nfs_scratch/hsharma/MachineLearning/ClusterFinder/notebooks/wandb/run-20230524_142335-3xrqr05e</code>"
      ],
      "text/plain": [
       "<IPython.core.display.HTML object>"
      ]
     },
     "metadata": {},
     "output_type": "display_data"
    },
    {
     "data": {
      "text/html": [
       "Syncing run <strong><a href='https://wandb.ai/uwm-cvml-core/unet-cluster-kd-segmentation/runs/3xrqr05e' target=\"_blank\">feasible-paper-3</a></strong> to <a href='https://wandb.ai/uwm-cvml-core/unet-cluster-kd-segmentation' target=\"_blank\">Weights & Biases</a> (<a href='https://wandb.me/run' target=\"_blank\">docs</a>)<br/>"
      ],
      "text/plain": [
       "<IPython.core.display.HTML object>"
      ]
     },
     "metadata": {},
     "output_type": "display_data"
    },
    {
     "data": {
      "text/html": [
       " View project at <a href='https://wandb.ai/uwm-cvml-core/unet-cluster-kd-segmentation' target=\"_blank\">https://wandb.ai/uwm-cvml-core/unet-cluster-kd-segmentation</a>"
      ],
      "text/plain": [
       "<IPython.core.display.HTML object>"
      ]
     },
     "metadata": {},
     "output_type": "display_data"
    },
    {
     "data": {
      "text/html": [
       " View run at <a href='https://wandb.ai/uwm-cvml-core/unet-cluster-kd-segmentation/runs/3xrqr05e' target=\"_blank\">https://wandb.ai/uwm-cvml-core/unet-cluster-kd-segmentation/runs/3xrqr05e</a>"
      ],
      "text/plain": [
       "<IPython.core.display.HTML object>"
      ]
     },
     "metadata": {},
     "output_type": "display_data"
    },
    {
     "name": "stdout",
     "output_type": "stream",
     "text": [
      "Epoch 1/25\n",
      "275/275 [==============================] - 11s 32ms/step - accuracy: 0.9897 - iou_coefficient: 1.0533 - student_loss: 0.0351 - distillation_loss: 1.9389e-04 - val_accuracy: 0.9912 - val_iou_coefficient: 1.0536 - val_student_loss: 0.0240\n",
      "Epoch 2/25\n",
      "275/275 [==============================] - 9s 31ms/step - accuracy: 0.9913 - iou_coefficient: 1.0533 - student_loss: 0.0292 - distillation_loss: 1.6244e-04 - val_accuracy: 0.9918 - val_iou_coefficient: 1.0536 - val_student_loss: 0.0221\n",
      "Epoch 3/25\n",
      "275/275 [==============================] - 9s 31ms/step - accuracy: 0.9917 - iou_coefficient: 1.0533 - student_loss: 0.0280 - distillation_loss: 1.5616e-04 - val_accuracy: 0.9923 - val_iou_coefficient: 1.0536 - val_student_loss: 0.0212\n",
      "Epoch 4/25\n",
      "275/275 [==============================] - 9s 31ms/step - accuracy: 0.9923 - iou_coefficient: 1.0533 - student_loss: 0.0260 - distillation_loss: 1.4692e-04 - val_accuracy: 0.9922 - val_iou_coefficient: 1.0536 - val_student_loss: 0.0198\n",
      "Epoch 5/25\n",
      "275/275 [==============================] - 9s 31ms/step - accuracy: 0.9927 - iou_coefficient: 1.0533 - student_loss: 0.0246 - distillation_loss: 1.4015e-04 - val_accuracy: 0.9926 - val_iou_coefficient: 1.0536 - val_student_loss: 0.0200\n",
      "Epoch 6/25\n",
      "275/275 [==============================] - 9s 31ms/step - accuracy: 0.9929 - iou_coefficient: 1.0533 - student_loss: 0.0240 - distillation_loss: 1.3712e-04 - val_accuracy: 0.9932 - val_iou_coefficient: 1.0536 - val_student_loss: 0.0181\n",
      "Epoch 7/25\n",
      "275/275 [==============================] - 9s 31ms/step - accuracy: 0.9935 - iou_coefficient: 1.0533 - student_loss: 0.0220 - distillation_loss: 1.2789e-04 - val_accuracy: 0.9940 - val_iou_coefficient: 1.0536 - val_student_loss: 0.0153\n",
      "Epoch 8/25\n",
      "275/275 [==============================] - 9s 31ms/step - accuracy: 0.9939 - iou_coefficient: 1.0533 - student_loss: 0.0207 - distillation_loss: 1.2215e-04 - val_accuracy: 0.9942 - val_iou_coefficient: 1.0536 - val_student_loss: 0.0156\n",
      "Epoch 9/25\n",
      "275/275 [==============================] - 9s 31ms/step - accuracy: 0.9941 - iou_coefficient: 1.0533 - student_loss: 0.0202 - distillation_loss: 1.2075e-04 - val_accuracy: 0.9947 - val_iou_coefficient: 1.0536 - val_student_loss: 0.0138\n",
      "Epoch 10/25\n",
      "275/275 [==============================] - 9s 31ms/step - accuracy: 0.9937 - iou_coefficient: 1.0533 - student_loss: 0.0219 - distillation_loss: 1.2858e-04 - val_accuracy: 0.9947 - val_iou_coefficient: 1.0536 - val_student_loss: 0.0145\n",
      "Epoch 11/25\n",
      "275/275 [==============================] - 9s 31ms/step - accuracy: 0.9950 - iou_coefficient: 1.0533 - student_loss: 0.0171 - distillation_loss: 1.0880e-04 - val_accuracy: 0.9950 - val_iou_coefficient: 1.0536 - val_student_loss: 0.0128\n",
      "Epoch 12/25\n",
      "275/275 [==============================] - 9s 32ms/step - accuracy: 0.9953 - iou_coefficient: 1.0533 - student_loss: 0.0160 - distillation_loss: 1.0546e-04 - val_accuracy: 0.9952 - val_iou_coefficient: 1.0536 - val_student_loss: 0.0120\n",
      "Epoch 13/25\n",
      "275/275 [==============================] - 9s 31ms/step - accuracy: 0.9589 - iou_coefficient: 1.0533 - student_loss: 0.1669 - distillation_loss: 9.4831e-04 - val_accuracy: 0.9618 - val_iou_coefficient: 1.0536 - val_student_loss: 0.1126\n",
      "Epoch 14/25\n",
      "275/275 [==============================] - 9s 31ms/step - accuracy: 0.9769 - iou_coefficient: 1.0533 - student_loss: 0.0800 - distillation_loss: 4.6715e-04 - val_accuracy: 0.9836 - val_iou_coefficient: 1.0536 - val_student_loss: 0.0444\n",
      "Epoch 15/25\n",
      "275/275 [==============================] - 9s 31ms/step - accuracy: 0.9853 - iou_coefficient: 1.0533 - student_loss: 0.0514 - distillation_loss: 2.8586e-04 - val_accuracy: 0.9874 - val_iou_coefficient: 1.0536 - val_student_loss: 0.0326\n",
      "Epoch 16/25\n",
      "275/275 [==============================] - 9s 31ms/step - accuracy: 0.9870 - iou_coefficient: 1.0533 - student_loss: 0.0456 - distillation_loss: 2.5079e-04 - val_accuracy: 0.9890 - val_iou_coefficient: 1.0536 - val_student_loss: 0.0282\n",
      "Epoch 17/25\n",
      "275/275 [==============================] - 9s 31ms/step - accuracy: 0.9894 - iou_coefficient: 1.0533 - student_loss: 0.0357 - distillation_loss: 1.9763e-04 - val_accuracy: 0.9904 - val_iou_coefficient: 1.0536 - val_student_loss: 0.0227\n",
      "Epoch 18/25\n",
      "275/275 [==============================] - 9s 31ms/step - accuracy: 0.9904 - iou_coefficient: 1.0533 - student_loss: 0.0322 - distillation_loss: 1.7943e-04 - val_accuracy: 0.9910 - val_iou_coefficient: 1.0536 - val_student_loss: 0.0190\n",
      "Epoch 19/25\n",
      "275/275 [==============================] - 9s 31ms/step - accuracy: 0.9917 - iou_coefficient: 1.0533 - student_loss: 0.0275 - distillation_loss: 1.5613e-04 - val_accuracy: 0.9922 - val_iou_coefficient: 1.0536 - val_student_loss: 0.0181\n",
      "Epoch 20/25\n",
      "275/275 [==============================] - 9s 31ms/step - accuracy: 0.9920 - iou_coefficient: 1.0533 - student_loss: 0.0270 - distillation_loss: 1.5454e-04 - val_accuracy: 0.9928 - val_iou_coefficient: 1.0536 - val_student_loss: 0.0171\n",
      "Epoch 21/25\n",
      "275/275 [==============================] - 9s 31ms/step - accuracy: 0.9930 - iou_coefficient: 1.0533 - student_loss: 0.0232 - distillation_loss: 1.3743e-04 - val_accuracy: 0.9933 - val_iou_coefficient: 1.0536 - val_student_loss: 0.0142\n",
      "Epoch 22/25\n",
      "275/275 [==============================] - 9s 31ms/step - accuracy: 0.9936 - iou_coefficient: 1.0533 - student_loss: 0.0214 - distillation_loss: 1.3007e-04 - val_accuracy: 0.9940 - val_iou_coefficient: 1.0536 - val_student_loss: 0.0126\n",
      "Epoch 23/25\n",
      "275/275 [==============================] - 9s 32ms/step - accuracy: 0.9668 - iou_coefficient: 1.0533 - student_loss: 0.1252 - distillation_loss: 7.6460e-04 - val_accuracy: 0.9758 - val_iou_coefficient: 1.0536 - val_student_loss: 0.0633\n",
      "Epoch 24/25\n",
      "275/275 [==============================] - 9s 31ms/step - accuracy: 0.9860 - iou_coefficient: 1.0533 - student_loss: 0.0482 - distillation_loss: 2.7408e-04 - val_accuracy: 0.9887 - val_iou_coefficient: 1.0536 - val_student_loss: 0.0265\n",
      "Epoch 25/25\n",
      "275/275 [==============================] - 9s 31ms/step - accuracy: 0.9899 - iou_coefficient: 1.0533 - student_loss: 0.0342 - distillation_loss: 1.9479e-04 - val_accuracy: 0.9908 - val_iou_coefficient: 1.0536 - val_student_loss: 0.0200\n"
     ]
    },
    {
     "data": {
      "text/html": [
       "Waiting for W&B process to finish... <strong style=\"color:green\">(success).</strong>"
      ],
      "text/plain": [
       "<IPython.core.display.HTML object>"
      ]
     },
     "metadata": {},
     "output_type": "display_data"
    },
    {
     "data": {
      "text/html": [
       "<style>\n",
       "    table.wandb td:nth-child(1) { padding: 0 10px; text-align: left ; width: auto;} td:nth-child(2) {text-align: left ; width: 100%}\n",
       "    .wandb-row { display: flex; flex-direction: row; flex-wrap: wrap; justify-content: flex-start; width: 100% }\n",
       "    .wandb-col { display: flex; flex-direction: column; flex-basis: 100%; flex: 1; padding: 10px; }\n",
       "    </style>\n",
       "<div class=\"wandb-row\"><div class=\"wandb-col\"><h3>Run history:</h3><br/><table class=\"wandb\"><tr><td>accuracy</td><td>▇▇▇▇████████▁▄▆▆▇▇▇▇██▃▆▇</td></tr><tr><td>distillation_loss</td><td>▂▂▂▂▁▁▁▁▁▁▁▁█▃▂▂▂▂▂▁▁▁▅▂▂</td></tr><tr><td>epoch</td><td>▁▁▂▂▂▂▃▃▃▄▄▄▅▅▅▅▆▆▆▇▇▇▇██</td></tr><tr><td>iou_coefficient</td><td>▁▅▃▃▃▁▃█▆▅▃▆▁▃▃▃▅▁▃▃▃█▃▁▆</td></tr><tr><td>student_loss</td><td>▂▂▂▂▁▂▁▁▁▁▁▁█▃▂▂▂▂▂▁▁▁▅▃▂</td></tr><tr><td>val_accuracy</td><td>▇▇▇▇▇███████▁▆▆▇▇▇▇▇██▄▇▇</td></tr><tr><td>val_iou_coefficient</td><td>████████████████▁▁▅▁█████</td></tr><tr><td>val_student_loss</td><td>▂▂▂▂▂▁▁▁▁▁▁▁█▃▂▂▂▁▁▁▁▁▅▂▂</td></tr></table><br/></div><div class=\"wandb-col\"><h3>Run summary:</h3><br/><table class=\"wandb\"><tr><td>accuracy</td><td>0.98992</td></tr><tr><td>distillation_loss</td><td>0.00016</td></tr><tr><td>epoch</td><td>24</td></tr><tr><td>iou_coefficient</td><td>1.05333</td></tr><tr><td>student_loss</td><td>0.02808</td></tr><tr><td>val_accuracy</td><td>0.99077</td></tr><tr><td>val_iou_coefficient</td><td>1.05356</td></tr><tr><td>val_student_loss</td><td>0.01996</td></tr></table><br/></div></div>"
      ],
      "text/plain": [
       "<IPython.core.display.HTML object>"
      ]
     },
     "metadata": {},
     "output_type": "display_data"
    },
    {
     "data": {
      "text/html": [
       " View run <strong style=\"color:#cdcd00\">feasible-paper-3</strong> at: <a href='https://wandb.ai/uwm-cvml-core/unet-cluster-kd-segmentation/runs/3xrqr05e' target=\"_blank\">https://wandb.ai/uwm-cvml-core/unet-cluster-kd-segmentation/runs/3xrqr05e</a><br/>Synced 6 W&B file(s), 1 media file(s), 0 artifact file(s) and 0 other file(s)"
      ],
      "text/plain": [
       "<IPython.core.display.HTML object>"
      ]
     },
     "metadata": {},
     "output_type": "display_data"
    },
    {
     "data": {
      "text/html": [
       "Find logs at: <code>./wandb/run-20230524_142335-3xrqr05e/logs</code>"
      ],
      "text/plain": [
       "<IPython.core.display.HTML object>"
      ]
     },
     "metadata": {},
     "output_type": "display_data"
    }
   ],
   "source": [
    "wandb.init(project='unet-cluster-kd-segmentation', reinit=False)\n",
    "batch_size = 32\n",
    "\n",
    "distiller = Distiller(student=student_model, teacher=teacher_model)\n",
    "distiller.compile(\n",
    "    optimizer=tf.keras.optimizers.Adam(),\n",
    "    metrics=[\"accuracy\", iou_coefficient],\n",
    "    student_loss_fn=tf.keras.losses.SparseCategoricalCrossentropy(),\n",
    "    distillation_loss_fn=tf.keras.losses.KLDivergence(),\n",
    "    alpha=0.1,\n",
    "    temperature=10,\n",
    ")\n",
    "\n",
    "# Distill teacher to student\n",
    "distiller.fit(trainloader, epochs=25, batch_size=batch_size, \n",
    "              validation_data=testloader, verbose=1, \n",
    "              callbacks=[WandbCallback()]\n",
    ")\n",
    "\n",
    "wandb.finish()"
   ]
  },
  {
   "cell_type": "code",
   "execution_count": 70,
   "metadata": {},
   "outputs": [
    {
     "name": "stdout",
     "output_type": "stream",
     "text": [
      "model saved: /nfs_scratch/hsharma/MachineLearning/ClusterFinder/notebooks/wandb/run-20230520_154645-1mdtw3qy/files/student-model-best.h5\n"
     ]
    }
   ],
   "source": [
    "run_path = \"run-20230520_154645-1mdtw3qy\"\n",
    "dmodel_save_path = \"/nfs_scratch/hsharma/MachineLearning/ClusterFinder/notebooks/wandb/\"+run_path+\"/files/student-model-best.h5\"\n",
    "distiller.student.compile(optimizer=\"adam\", loss=\"categorical_crossentropy\", metrics=[\"accuracy\"])\n",
    "distiller.student.save(dmodel_save_path)\n",
    "print(\"model saved:\", dmodel_save_path)\n"
   ]
  },
  {
   "cell_type": "markdown",
   "metadata": {
    "id": "QYhdqG96yMde"
   },
   "source": [
    "### Prediction & Analysis"
   ]
  },
  {
   "cell_type": "code",
   "execution_count": 15,
   "metadata": {
    "colab": {
     "base_uri": "https://localhost:8080/",
     "height": 53
    },
    "executionInfo": {
     "elapsed": 12,
     "status": "ok",
     "timestamp": 1676823019490,
     "user": {
      "displayName": "HARSHIT SHARMA",
      "userId": "03646130816822692409"
     },
     "user_tz": 360
    },
    "id": "XgjPx-dEoNC6",
    "outputId": "0e4eabf6-79ec-48fc-ba53-3020881b7449"
   },
   "outputs": [],
   "source": [
    "from keras.models import load_model\n",
    "\n",
    "Model_logs = {\"ENET\": [\"run-20230226_175518-8y9uyk1u\"], \n",
    "             \"UNETv2LITE\": [\"run-20230227_185529-sjhgebn1\"],\n",
    "              \"UNETv3LITE\": [\"run-20230303_140554-80pvvkn4\"], # model1\n",
    "              \"UNETv4LITE\": [\"run-20230308_112406-8zhdka9h\"], # model2\n",
    "             \"HEPAENET\":[\"run-20230227_181304-zog286i7\"],\n",
    "             \"HEPCONVNET\": [\"run-20230227_184034-2315xvt8\"]}\n",
    "\n",
    "run_path = \"run-20230520_154645-1mdtw3qy\"\n",
    "if PRETRAINED == True:\n",
    "    MODEL_PATH = \"/nfs_scratch/hsharma/MachineLearning/ClusterFinder/notebooks/wandb/\"+run_path+\"/files/student-model-best.h5\"\n",
    "    model = load_model(MODEL_PATH)"
   ]
  },
  {
   "cell_type": "code",
   "execution_count": 16,
   "metadata": {
    "id": "Rz7pbwLExuGr"
   },
   "outputs": [
    {
     "name": "stderr",
     "output_type": "stream",
     "text": [
      "2023-06-20 19:56:55.095523: I tensorflow/core/common_runtime/executor.cc:1197] [/device:CPU:0] (DEBUG INFO) Executor start aborting (this does not indicate an error and you can ignore this message): INVALID_ARGUMENT: You must feed a value for placeholder tensor 'Placeholder/_1' with dtype string and shape [400]\n",
      "\t [[{{node Placeholder/_1}}]]\n",
      "2023-06-20 19:56:55.096124: I tensorflow/core/common_runtime/executor.cc:1197] [/device:CPU:0] (DEBUG INFO) Executor start aborting (this does not indicate an error and you can ignore this message): INVALID_ARGUMENT: You must feed a value for placeholder tensor 'Placeholder/_1' with dtype string and shape [400]\n",
      "\t [[{{node Placeholder/_1}}]]\n"
     ]
    }
   ],
   "source": [
    "val_img, val_mask = next(iter(testloader))"
   ]
  },
  {
   "cell_type": "code",
   "execution_count": 17,
   "metadata": {
    "colab": {
     "base_uri": "https://localhost:8080/"
    },
    "executionInfo": {
     "elapsed": 676,
     "status": "ok",
     "timestamp": 1676823020159,
     "user": {
      "displayName": "HARSHIT SHARMA",
      "userId": "03646130816822692409"
     },
     "user_tz": 360
    },
    "id": "zxZFxAu5x22C",
    "outputId": "3d768547-cb3d-4d69-8c1f-dd50d9d66cf3"
   },
   "outputs": [
    {
     "name": "stdout",
     "output_type": "stream",
     "text": [
      "1/1 [==============================] - 0s 185ms/step\n"
     ]
    }
   ],
   "source": [
    "pred_mask = model.predict(val_img)\n",
    "pred_mask = np.argmax(pred_mask, axis=-1)\n",
    "pred_mask = np.expand_dims(pred_mask, axis=-1)"
   ]
  },
  {
   "cell_type": "code",
   "execution_count": 18,
   "metadata": {
    "colab": {
     "base_uri": "https://localhost:8080/",
     "height": 919
    },
    "executionInfo": {
     "elapsed": 1982,
     "status": "ok",
     "timestamp": 1676823022138,
     "user": {
      "displayName": "HARSHIT SHARMA",
      "userId": "03646130816822692409"
     },
     "user_tz": 360
    },
    "id": "IDP769Pix-fx",
    "outputId": "4f72a643-e38b-40af-ba72-53243b5fb7ef"
   },
   "outputs": [
    {
     "data": {
      "image/png": "[encoded data removed]",
      "text/plain": [
       "<Figure size 1200x1600 with 12 Axes>"
      ]
     },
     "metadata": {},
     "output_type": "display_data"
    }
   ],
   "source": [
    "num_example_to_display = 4\n",
    "\n",
    "fig, axs = plt.subplots(nrows=num_example_to_display, ncols=3, figsize=(12,4*num_example_to_display))\n",
    "  \n",
    "for i in range(num_example_to_display):\n",
    "    axs[i][0].imshow(val_img[i])\n",
    "    axs[i][1].imshow(np.squeeze(val_mask[i],-1), cmap='gray');\n",
    "    axs[i][2].imshow(np.squeeze(pred_mask[i],-1), cmap='gray')"
   ]
  },
  {
   "cell_type": "code",
   "execution_count": 46,
   "metadata": {},
   "outputs": [],
   "source": [
    "vin = np.array(val_img[0])"
   ]
  },
  {
   "cell_type": "code",
   "execution_count": 41,
   "metadata": {},
   "outputs": [
    {
     "data": {
      "text/plain": [
       "(array([ 3,  3,  3,  3,  3,  3,  3,  3,  3,  3,  3,  3,  3,  3,  3,  4,  4,\n",
       "         4,  4,  4,  4,  4,  4,  4,  4,  4,  4,  5,  5,  5,  5,  5,  5,  5,\n",
       "         5,  5,  5,  5,  5,  5,  5,  5,  7,  7,  7,  7,  7,  7,  9,  9,  9,\n",
       "        16, 16, 16, 16, 16, 16, 17, 17, 17]),\n",
       " array([14, 14, 14, 25, 25, 25, 26, 26, 26, 27, 27, 27, 28, 28, 28, 25, 25,\n",
       "        25, 26, 26, 26, 27, 27, 27, 28, 28, 28,  5,  5,  5, 25, 25, 25, 26,\n",
       "        26, 26, 27, 27, 27, 28, 28, 28, 20, 20, 20, 25, 25, 25, 12, 12, 12,\n",
       "         4,  4,  4,  5,  5,  5, 18, 18, 18]),\n",
       " array([0, 1, 2, 0, 1, 2, 0, 1, 2, 0, 1, 2, 0, 1, 2, 0, 1, 2, 0, 1, 2, 0,\n",
       "        1, 2, 0, 1, 2, 0, 1, 2, 0, 1, 2, 0, 1, 2, 0, 1, 2, 0, 1, 2, 0, 1,\n",
       "        2, 0, 1, 2, 0, 1, 2, 0, 1, 2, 0, 1, 2, 0, 1, 2]))"
      ]
     },
     "execution_count": 41,
     "metadata": {},
     "output_type": "execute_result"
    }
   ],
   "source": [
    "np.where(vin<0.99)"
   ]
  },
  {
   "cell_type": "code",
   "execution_count": 51,
   "metadata": {},
   "outputs": [
    {
     "data": {
      "text/plain": [
       "<matplotlib.image.AxesImage at 0x7fb10012b5e0>"
      ]
     },
     "execution_count": 51,
     "metadata": {},
     "output_type": "execute_result"
    },
    {
     "data": {
      "image/png": "[encoded data removed]",
      "text/plain": [
       "<Figure size 640x480 with 1 Axes>"
      ]
     },
     "metadata": {},
     "output_type": "display_data"
    }
   ],
   "source": [
    "vin[np.where(vin<0.99)] = 0.0\n",
    "plt.imshow(vin)"
   ]
  },
  {
   "cell_type": "code",
   "execution_count": 60,
   "metadata": {},
   "outputs": [
    {
     "data": {
      "text/plain": [
       "((32, 32, 32, 1), (1, 32, 32, 1))"
      ]
     },
     "execution_count": 60,
     "metadata": {},
     "output_type": "execute_result"
    }
   ],
   "source": [
    "pred_mask.shape, pvin.shape"
   ]
  },
  {
   "cell_type": "code",
   "execution_count": 63,
   "metadata": {},
   "outputs": [
    {
     "data": {
      "text/plain": [
       "(32, 32)"
      ]
     },
     "execution_count": 63,
     "metadata": {},
     "output_type": "execute_result"
    }
   ],
   "source": [
    "np.squeeze(pvin[0],-1).shape"
   ]
  },
  {
   "cell_type": "code",
   "execution_count": 57,
   "metadata": {},
   "outputs": [
    {
     "name": "stdout",
     "output_type": "stream",
     "text": [
      "1/1 [==============================] - 0s 28ms/step\n"
     ]
    }
   ],
   "source": [
    "pvin = model.predict(np.expand_dims(vin, axis=0))\n",
    "pvin = np.argmax(pvin, axis=-1)\n",
    "pvin = np.expand_dims(pvin, axis=-1)"
   ]
  },
  {
   "cell_type": "code",
   "execution_count": 72,
   "metadata": {},
   "outputs": [],
   "source": [
    "val_mask = np.array(val_mask)\n",
    "val_mask[np.where(val_mask == 2)] = 1\n",
    "pred_mask[np.where(pred_mask == 2)] = 1\n",
    "pvin[np.where(pvin == 2)] = 1"
   ]
  },
  {
   "cell_type": "code",
   "execution_count": 73,
   "metadata": {},
   "outputs": [
    {
     "data": {
      "image/png": "[encoded data removed]",
      "text/plain": [
       "<Figure size 1200x800 with 6 Axes>"
      ]
     },
     "metadata": {},
     "output_type": "display_data"
    }
   ],
   "source": [
    "fig, axs = plt.subplots(nrows=2, ncols=3, figsize=(12,4*2))\n",
    "  \n",
    "for i in range(1):\n",
    "    axs[i][0].imshow(vin)\n",
    "    axs[i][1].imshow(np.squeeze(val_mask[0],-1), cmap='gray');\n",
    "    axs[i][2].imshow(np.squeeze(pvin[0],-1), cmap='gray')\n",
    "\n",
    "for i in range(1, 2):\n",
    "    axs[i][0].imshow(val_img[i-1])\n",
    "    axs[i][1].imshow(np.squeeze(val_mask[i-1],-1), cmap='gray');\n",
    "    axs[i][2].imshow(np.squeeze(pred_mask[i-1],-1), cmap='gray')"
   ]
  },
  {
   "cell_type": "markdown",
   "metadata": {
    "id": "-jhwM7Hjn5dz"
   },
   "source": [
    "### T2: Instance Detection"
   ]
  },
  {
   "cell_type": "code",
   "execution_count": 75,
   "metadata": {
    "id": "lZ21Sbjkp-i-"
   },
   "outputs": [],
   "source": [
    "import cv2"
   ]
  },
  {
   "cell_type": "code",
   "execution_count": 76,
   "metadata": {
    "id": "3uBtv3D0qhM_"
   },
   "outputs": [],
   "source": [
    "val_mask = np.array(val_mask)\n",
    "val_mask[np.where(val_mask == 2)] = 1\n",
    "pred_mask[np.where(pred_mask == 2)] = 1"
   ]
  },
  {
   "cell_type": "code",
   "execution_count": 77,
   "metadata": {
    "colab": {
     "base_uri": "https://localhost:8080/",
     "height": 919
    },
    "executionInfo": {
     "elapsed": 999,
     "status": "ok",
     "timestamp": 1676823023324,
     "user": {
      "displayName": "HARSHIT SHARMA",
      "userId": "03646130816822692409"
     },
     "user_tz": 360
    },
    "id": "oT6HLIIVrMEn",
    "outputId": "1fcc5b41-0bb9-4481-8802-517cdba7b6ab"
   },
   "outputs": [
    {
     "data": {
      "image/png": "[encoded data removed]",
      "text/plain": [
       "<Figure size 1200x1600 with 12 Axes>"
      ]
     },
     "metadata": {},
     "output_type": "display_data"
    }
   ],
   "source": [
    "num_example_to_display = 4\n",
    "\n",
    "fig, axs = plt.subplots(nrows=num_example_to_display, ncols=3, figsize=(12,4*num_example_to_display))\n",
    "\n",
    "for i in range(num_example_to_display):\n",
    "  axs[i][0].imshow(val_img[i])\n",
    "  axs[i][1].imshow(np.squeeze(val_mask[i],-1), cmap='gray')\n",
    "  axs[i][2].imshow(np.squeeze(pred_mask[i],-1), cmap='gray')"
   ]
  },
  {
   "cell_type": "code",
   "execution_count": 78,
   "metadata": {
    "id": "NZQ9x9hBplnL"
   },
   "outputs": [],
   "source": [
    "def ccl_generator(pred, mc_truth):\n",
    "    test_image = np.squeeze(pred).astype(\"uint8\")\n",
    "    thresh = cv2.threshold(test_image, 0, 255,\n",
    "        cv2.THRESH_BINARY_INV | cv2.THRESH_OTSU)[1]\n",
    "\n",
    "    output_pred = cv2.connectedComponentsWithStats(\n",
    "        thresh, 4, cv2.CV_32S)\n",
    "    (numLabels_pred, labels_pred, stats_pred, centroids) = output_pred\n",
    "\n",
    "    test_image = np.squeeze(mc_truth).astype(\"uint8\")\n",
    "    thresh = cv2.threshold(test_image, 0, 255,\n",
    "        cv2.THRESH_BINARY_INV | cv2.THRESH_OTSU)[1]\n",
    "\n",
    "    output_mc = cv2.connectedComponentsWithStats(\n",
    "        thresh, 4, cv2.CV_32S)\n",
    "    (numLabels_mc, labels_mc, stats_mc, centroids) = output_mc\n",
    "\n",
    "    return labels_pred, labels_mc"
   ]
  },
  {
   "cell_type": "code",
   "execution_count": 79,
   "metadata": {
    "colab": {
     "base_uri": "https://localhost:8080/",
     "height": 919
    },
    "executionInfo": {
     "elapsed": 1295,
     "status": "ok",
     "timestamp": 1676823024617,
     "user": {
      "displayName": "HARSHIT SHARMA",
      "userId": "03646130816822692409"
     },
     "user_tz": 360
    },
    "id": "xygLZYIaryqQ",
    "outputId": "0b9623c5-8aad-4113-fef5-e049a542ced9"
   },
   "outputs": [
    {
     "data": {
      "image/png": "[encoded data removed]",
      "text/plain": [
       "<Figure size 1200x1600 with 12 Axes>"
      ]
     },
     "metadata": {},
     "output_type": "display_data"
    }
   ],
   "source": [
    "num_example_to_display = 4\n",
    "fig, axs = plt.subplots(nrows=num_example_to_display, ncols=3, figsize=(12,4*num_example_to_display))\n",
    "  \n",
    "for i in range(num_example_to_display):\n",
    "  lpred, lmc = ccl_generator(pred_mask[i], val_mask[i])\n",
    "  axs[i][0].imshow(val_img[i])\n",
    "  axs[i][1].imshow(lmc)\n",
    "  axs[i][2].imshow(lpred)"
   ]
  },
  {
   "cell_type": "markdown",
   "metadata": {
    "id": "xMFumFmAmHUc"
   },
   "source": [
    "## Testing"
   ]
  },
  {
   "cell_type": "markdown",
   "metadata": {
    "id": "eOhePXrsxfv2"
   },
   "source": [
    "#### Helper Code"
   ]
  },
  {
   "cell_type": "code",
   "execution_count": 80,
   "metadata": {
    "id": "StK5ZzFiDhfO"
   },
   "outputs": [],
   "source": [
    "from collections import Counter\n",
    "\n",
    "def eta_phi_res(ROI_mc, ROI_algo):\n",
    "    eta_mc = max(ROI_mc[0]) - min(ROI_mc[0])\n",
    "    phi_mc = max(ROI_mc[1]) - min(ROI_mc[1])\n",
    "\n",
    "    eta_algo = max(ROI_algo[0]) - min(ROI_algo[0])\n",
    "    phi_algo = max(ROI_algo[1]) - min(ROI_algo[1])\n",
    "\n",
    "    return abs(eta_mc - eta_algo), abs(phi_mc - phi_algo)"
   ]
  },
  {
   "cell_type": "code",
   "execution_count": 81,
   "metadata": {
    "id": "ujU5DemMygbw"
   },
   "outputs": [],
   "source": [
    "\"\"\"\n",
    "def mc_label_convert(segmented_image, mc_truth):\n",
    "    all_labels = np.unique(mc_truth)\n",
    "    hm = {}\n",
    "    for curr_label in all_labels:\n",
    "        selected_ROI = segmented_image[np.where(mc_truth == curr_label)]\n",
    "        hm[curr_label] = np.unique(selected_ROI)\n",
    "    \n",
    "    bkg = []\n",
    "    for lt in hm.values():\n",
    "        bkg.extend(lt)\n",
    "\n",
    "    bkg_label = Counter(bkg).most_common(1)[-1][0]\n",
    "\n",
    "    #setting background label\n",
    "    segmented_image[np.where(segmented_image == bkg_label)] = 0.0\n",
    "    hm.pop(0.0)\n",
    "    \n",
    "    for label in list(hm.keys())[::-1]:\n",
    "        marked_pixels = []\n",
    "        for pxm in hm[label]:\n",
    "            if pxm == bkg_label:\n",
    "                continue\n",
    "                \n",
    "            marked_pixels.append(np.where(segmented_image==pxm))\n",
    "            \n",
    "        for mp in marked_pixels:\n",
    "            segmented_image[mp] = label\n",
    "\n",
    "    return segmented_image\n",
    "\"\"\"\n",
    "\n",
    "def mc_label_convert(segmented_image, mc_truth):\n",
    "    all_labels = np.unique(mc_truth)\n",
    "    hm = {}\n",
    "    # Background Matching\n",
    "    u, c = np.unique(mc_truth, return_counts=True)\n",
    "    bkg_label_mc = u[np.argmax(c)]\n",
    "    \n",
    "    u, c = np.unique(segmented_image, return_counts=True)\n",
    "    bkg_label_algo = u[np.argmax(c)]\n",
    "    \n",
    "    hm[bkg_label_mc] = bkg_label_algo\n",
    "    \n",
    "    for curr_label in all_labels:\n",
    "        if curr_label == bkg_label_mc:\n",
    "            continue\n",
    "            \n",
    "        selected_ROI = segmented_image[np.where(mc_truth == curr_label)]\n",
    "        u, c = np.unique(selected_ROI, return_counts=True)\n",
    "        count_map = [x for x in zip(u,c) if x[0]!=bkg_label_algo]\n",
    "        # max_overlap_index\n",
    "        print(count_map)\n",
    "        hm[curr_label] = max(count_map, key=lambda x:x[1])[0]\n",
    "    \n",
    "    # unmapped_labels\n",
    "    unmapped = []\n",
    "    for old_label in np.unique(segmented_image):\n",
    "        if old_label not in hm.values():\n",
    "            unmapped.append(old_label)\n",
    "    \n",
    "    uhm = {}\n",
    "    max_mc_label = max(max(hm.keys()), max(hm.values()))+1\n",
    "    for ol in unmapped:\n",
    "        uhm[max_mc_label] = ol\n",
    "        max_mc_label+=1\n",
    "    \n",
    "    # start mapping old_labels to mc_labels\n",
    "    for label in uhm:\n",
    "        mp = np.where(segmented_image==uhm[label])\n",
    "        segmented_image[mp] = label\n",
    "    \n",
    "    for label in hm:\n",
    "        mp = np.where(segmented_image==hm[label])\n",
    "        segmented_image[mp] = label\n",
    "    \n",
    "    return segmented_image"
   ]
  },
  {
   "cell_type": "code",
   "execution_count": 82,
   "metadata": {
    "id": "qoy0iYP6ypvf"
   },
   "outputs": [],
   "source": [
    "def test(predicted, mc_truth, energy_snap):\n",
    "    thresh = 2\n",
    "    y_pred = []\n",
    "    energy_dist = []\n",
    "    for label in np.unique(mc_truth):\n",
    "        if label == 0.0:\n",
    "            continue\n",
    "\n",
    "        matched, rel_energy = False, -1\n",
    "        ROI_mc = np.where(mc_truth==label)\n",
    "        ROI_algo = np.where(predicted==label)\n",
    "\n",
    "        E_mc = np.sum(energy_snap[ROI_mc])\n",
    "        E_algo = np.sum(energy_snap[ROI_algo])\n",
    "\n",
    "        if len(ROI_algo[0]) == 0:\n",
    "            matched = (False, \"False Negative\")\n",
    "            rel_energy = 1\n",
    "        \n",
    "        # Might need to rewrite as a reverse loop check (loop over predicted)\n",
    "        elif len(ROI_mc[0]) == 0 and len(ROI_algo[0]) !=0:\n",
    "            matched = (False, \"False Positive\")\n",
    "            rel_energy = 1\n",
    "\n",
    "        else:\n",
    "            eta_res, phi_res = eta_phi_res(ROI_mc, ROI_algo)\n",
    "\n",
    "            if eta_res < thresh and phi_res < thresh:\n",
    "                matched = True\n",
    "                rel_energy = abs(E_algo - E_mc)/E_mc\n",
    "            else:\n",
    "                matched = (False, \"Very Low Overlap\")\n",
    "                rel_energy = 1\n",
    "\n",
    "        # collecting testing data\n",
    "        y_pred.append(matched)\n",
    "        if rel_energy >= 0: energy_dist.append(rel_energy)\n",
    "    \n",
    "    return y_pred, energy_dist"
   ]
  },
  {
   "cell_type": "code",
   "execution_count": 83,
   "metadata": {},
   "outputs": [],
   "source": [
    "def new_test(predicted, mc_truth, energy_snap):\n",
    "    thresh, y_pred, energy_dist, fposi = 2, [], [], 0\n",
    "    \n",
    "    for label in np.unique(mc_truth):\n",
    "        matched, rel_energy = False, -1\n",
    "        if label == 0.0:\n",
    "            continue\n",
    "        \n",
    "        # Select MC Region given label\n",
    "        ROI_mc = np.where(mc_truth==label)\n",
    "        ROI_predicted = predicted[ROI_mc]\n",
    "        \n",
    "        # inspect labels in the ROI_Predicted_region and select max\n",
    "        u, c = np.unique(ROI_predicted, return_counts=True)\n",
    "        count_map = [x for x in zip(u,c)]\n",
    "        count_map = sorted(count_map, key=lambda x:x[1])\n",
    "        \n",
    "        # false negatives\n",
    "        if count_map[-1][0] == 0.0:\n",
    "            # false_negative\n",
    "            matched = (False, \"No Overlap\")\n",
    "            rel_energy = 1\n",
    "        else:\n",
    "            active_label = count_map[-1][0]\n",
    "            ROI_algo = np.where(predicted==active_label)\n",
    "            eta_res, phi_res = eta_phi_res(ROI_mc, ROI_algo)\n",
    "            \n",
    "            if eta_res < thresh and phi_res < thresh:\n",
    "                matched = True\n",
    "                E_mc = np.sum(energy_snap[ROI_mc])\n",
    "                E_algo = np.sum(energy_snap[ROI_algo])\n",
    "                rel_energy = abs(E_algo - E_mc)/E_mc\n",
    "            else:\n",
    "                matched = (False, \"Very Low Overlap\")\n",
    "                rel_energy = 1\n",
    "            \n",
    "            #set active label to zero\n",
    "            predicted[ROI_algo] = 0.0\n",
    "        \n",
    "        y_pred.append(matched)\n",
    "        if rel_energy >= 0: energy_dist.append(rel_energy)\n",
    "    \n",
    "    u, c = np.unique(ROI_predicted, return_counts=True)\n",
    "    fposi = len(u)-1\n",
    "    \n",
    "    return y_pred, energy_dist, fposi"
   ]
  },
  {
   "cell_type": "markdown",
   "metadata": {
    "id": "GOkrHllwzGTH"
   },
   "source": [
    "#### Main run"
   ]
  },
  {
   "cell_type": "code",
   "execution_count": 84,
   "metadata": {
    "colab": {
     "base_uri": "https://localhost:8080/"
    },
    "executionInfo": {
     "elapsed": 11383,
     "status": "ok",
     "timestamp": 1676823035997,
     "user": {
      "displayName": "HARSHIT SHARMA",
      "userId": "03646130816822692409"
     },
     "user_tz": 360
    },
    "id": "vjS3p5LKVC84",
    "outputId": "804c3c94-7931-4d60-8be1-8c318766ac97"
   },
   "outputs": [
    {
     "name": "stdout",
     "output_type": "stream",
     "text": [
      "1/1 [==============================] - 0s 31ms/step\n",
      "1/1 [==============================] - 0s 29ms/step\n",
      "1/1 [==============================] - 0s 30ms/step\n",
      "1/1 [==============================] - 0s 29ms/step\n",
      "1/1 [==============================] - 0s 29ms/step\n",
      "1/1 [==============================] - 0s 28ms/step\n",
      "1/1 [==============================] - 0s 30ms/step\n",
      "1/1 [==============================] - 0s 29ms/step\n",
      "1/1 [==============================] - 0s 29ms/step\n",
      "1/1 [==============================] - 0s 29ms/step\n",
      "1/1 [==============================] - 0s 29ms/step\n",
      "1/1 [==============================] - 0s 29ms/step\n",
      "1/1 [==============================] - 0s 29ms/step\n",
      "1/1 [==============================] - 0s 29ms/step\n",
      "1/1 [==============================] - 0s 29ms/step\n",
      "1/1 [==============================] - 0s 30ms/step\n",
      "1/1 [==============================] - 0s 29ms/step\n",
      "1/1 [==============================] - 0s 30ms/step\n",
      "1/1 [==============================] - 0s 29ms/step\n",
      "1/1 [==============================] - 0s 30ms/step\n",
      "1/1 [==============================] - 0s 30ms/step\n",
      "1/1 [==============================] - 0s 29ms/step\n",
      "1/1 [==============================] - 0s 29ms/step\n",
      "1/1 [==============================] - 0s 30ms/step\n",
      "1/1 [==============================] - 0s 39ms/step\n",
      "1/1 [==============================] - 0s 28ms/step\n",
      "1/1 [==============================] - 0s 30ms/step\n",
      "1/1 [==============================] - 0s 29ms/step\n",
      "1/1 [==============================] - 0s 29ms/step\n",
      "1/1 [==============================] - 0s 29ms/step\n"
     ]
    }
   ],
   "source": [
    "val_img, val_mask, pred_mask = [], [], []\n",
    "for _ in range(30):\n",
    "    val_img_i, val_mask_i = next(iter(maintestloader))\n",
    "    pred_mask_i = model.predict(val_img_i)\n",
    "    pred_mask_i = np.argmax(pred_mask_i, axis=-1)\n",
    "    pred_mask_i = np.expand_dims(pred_mask_i, axis=-1)\n",
    "\n",
    "    val_img.extend(val_img_i)\n",
    "    val_mask.extend(val_mask_i)\n",
    "    pred_mask.extend(pred_mask_i)"
   ]
  },
  {
   "cell_type": "code",
   "execution_count": 85,
   "metadata": {
    "id": "ZhNTBVVjWJeS"
   },
   "outputs": [],
   "source": [
    "val_img = np.array(val_img)\n",
    "val_mask = np.array(val_mask)\n",
    "pred_mask = np.array(pred_mask)"
   ]
  },
  {
   "cell_type": "code",
   "execution_count": 86,
   "metadata": {},
   "outputs": [],
   "source": [
    "val_mask[np.where(val_mask == 2)] = 1\n",
    "pred_mask[np.where(pred_mask == 2)] = 1"
   ]
  },
  {
   "cell_type": "code",
   "execution_count": 87,
   "metadata": {},
   "outputs": [
    {
     "data": {
      "text/plain": [
       "((960, 32, 32, 3), (960, 32, 32, 1), (960, 32, 32, 1))"
      ]
     },
     "execution_count": 87,
     "metadata": {},
     "output_type": "execute_result"
    }
   ],
   "source": [
    "val_img.shape, val_mask.shape, pred_mask.shape"
   ]
  },
  {
   "cell_type": "code",
   "execution_count": 88,
   "metadata": {},
   "outputs": [
    {
     "name": "stderr",
     "output_type": "stream",
     "text": [
      "/tmp/ipykernel_48840/3460219227.py:32: RuntimeWarning: invalid value encountered in scalar divide\n",
      "  rel_energy = abs(E_algo - E_mc)/E_mc\n"
     ]
    }
   ],
   "source": [
    "all_matched, all_rel_energy, fposi, sn = [], [], 0, 0\n",
    "for i in range(len(val_img)):\n",
    "    energy_snap = np.squeeze(val_img[i])\n",
    "    lpred, lmc = ccl_generator(pred_mask[i], val_mask[i])\n",
    "    try:\n",
    "        matched, rel_energy, fposi_sub = new_test(lpred, lmc, energy_snap)\n",
    "\n",
    "        # matched\n",
    "        all_matched.extend(matched)\n",
    "        all_rel_energy.extend(rel_energy)\n",
    "\n",
    "        sn += 1\n",
    "        fposi+=fposi_sub\n",
    "        \n",
    "    except Exception as e:\n",
    "        raise e\n",
    "        print(\"Error in \", i)\n",
    "        pass"
   ]
  },
  {
   "cell_type": "code",
   "execution_count": 89,
   "metadata": {
    "colab": {
     "base_uri": "https://localhost:8080/"
    },
    "executionInfo": {
     "elapsed": 1754,
     "status": "ok",
     "timestamp": 1676823037906,
     "user": {
      "displayName": "HARSHIT SHARMA",
      "userId": "03646130816822692409"
     },
     "user_tz": 360
    },
    "id": "GnQPB9nMxkR6",
    "outputId": "97f45937-50f8-4f1b-a6a3-e01e51552e4c"
   },
   "outputs": [
    {
     "data": {
      "text/plain": [
       "'all_matched, all_rel_energy, sn = [], [], 0\\nfor i in range(len(val_img)):\\n    CLUSTER_TAGS = [-1]\\n    energy_snap = np.squeeze(val_img[i])\\n    lpred, lmc = ccl_generator(pred_mask[i], val_mask[i])\\n    try:\\n        predicted = mc_label_convert(lpred, lmc)\\n        matched, rel_energy = test(predicted, lmc, energy_snap)\\n\\n        # matched\\n        all_matched.extend(matched)\\n        all_rel_energy.extend(rel_energy)\\n\\n        sn += 1\\n    except Exception as e:\\n        #raise e\\n        print(\"Error in \", i)\\n        pass'"
      ]
     },
     "execution_count": 89,
     "metadata": {},
     "output_type": "execute_result"
    }
   ],
   "source": [
    "# old test iterator\n",
    "\"\"\"all_matched, all_rel_energy, sn = [], [], 0\n",
    "for i in range(len(val_img)):\n",
    "    CLUSTER_TAGS = [-1]\n",
    "    energy_snap = np.squeeze(val_img[i])\n",
    "    lpred, lmc = ccl_generator(pred_mask[i], val_mask[i])\n",
    "    try:\n",
    "        predicted = mc_label_convert(lpred, lmc)\n",
    "        matched, rel_energy = test(predicted, lmc, energy_snap)\n",
    "\n",
    "        # matched\n",
    "        all_matched.extend(matched)\n",
    "        all_rel_energy.extend(rel_energy)\n",
    "\n",
    "        sn += 1\n",
    "    except Exception as e:\n",
    "        #raise e\n",
    "        print(\"Error in \", i)\n",
    "        pass\"\"\""
   ]
  },
  {
   "cell_type": "code",
   "execution_count": 90,
   "metadata": {
    "colab": {
     "base_uri": "https://localhost:8080/",
     "height": 297
    },
    "executionInfo": {
     "elapsed": 189,
     "status": "ok",
     "timestamp": 1676823038090,
     "user": {
      "displayName": "HARSHIT SHARMA",
      "userId": "03646130816822692409"
     },
     "user_tz": 360
    },
    "id": "b10-MiVZzOZT",
    "outputId": "6955301a-49f9-45f4-c176-a6f37a61a8dc"
   },
   "outputs": [
    {
     "data": {
      "text/plain": [
       "Text(0.5, 0, 'normalized energy difference')"
      ]
     },
     "execution_count": 90,
     "metadata": {},
     "output_type": "execute_result"
    },
    {
     "data": {
      "image/png": "[encoded data removed]",
      "text/plain": [
       "<Figure size 640x480 with 1 Axes>"
      ]
     },
     "metadata": {},
     "output_type": "display_data"
    }
   ],
   "source": [
    "sub_rel = [i for i in all_rel_energy if i<=1]\n",
    "plt.hist(sub_rel, bins=50)  # density=False would make counts\n",
    "plt.ylabel('occurance')\n",
    "plt.xlabel('normalized energy difference')"
   ]
  },
  {
   "cell_type": "code",
   "execution_count": 91,
   "metadata": {
    "colab": {
     "base_uri": "https://localhost:8080/"
    },
    "executionInfo": {
     "elapsed": 9,
     "status": "ok",
     "timestamp": 1676823038091,
     "user": {
      "displayName": "HARSHIT SHARMA",
      "userId": "03646130816822692409"
     },
     "user_tz": 360
    },
    "id": "S8vBMwKfzi4I",
    "outputId": "cb431126-8360-4e2b-f10c-90a5fbeb7b4b"
   },
   "outputs": [
    {
     "name": "stdout",
     "output_type": "stream",
     "text": [
      "Correct Matches:  6300\n",
      "Incorrect Matched (false negative):  840\n",
      "Incorrect Matched (false positives):  150\n"
     ]
    }
   ],
   "source": [
    "matches = len([x for x in all_matched if x==True])\n",
    "print(\"Correct Matches: \", matches)\n",
    "print(\"Incorrect Matched (false negative): \", len(all_matched) - matches)\n",
    "print(\"Incorrect Matched (false positives): \", fposi)"
   ]
  },
  {
   "cell_type": "code",
   "execution_count": 92,
   "metadata": {
    "id": "btO0LClszyRN"
   },
   "outputs": [],
   "source": [
    "unmatched = [x[1] for x in all_matched if type(x)==tuple]"
   ]
  },
  {
   "cell_type": "code",
   "execution_count": 93,
   "metadata": {
    "colab": {
     "base_uri": "https://localhost:8080/"
    },
    "executionInfo": {
     "elapsed": 6,
     "status": "ok",
     "timestamp": 1676823038240,
     "user": {
      "displayName": "HARSHIT SHARMA",
      "userId": "03646130816822692409"
     },
     "user_tz": 360
    },
    "id": "EmQ8vEhTzt71",
    "outputId": "048d3a04-04a4-426d-cabf-b6c19cd7015a"
   },
   "outputs": [
    {
     "name": "stdout",
     "output_type": "stream",
     "text": [
      "Threshold Mismatch:  240\n",
      "No Overlap:  600\n"
     ]
    }
   ],
   "source": [
    "threshold_mismatch = len([x for x in unmatched if x=='Very Low Overlap'])\n",
    "print(\"Threshold Mismatch: \", threshold_mismatch)\n",
    "\n",
    "fneg = len([x for x in unmatched if x=='No Overlap'])\n",
    "print(\"No Overlap: \", fneg)"
   ]
  },
  {
   "cell_type": "markdown",
   "metadata": {},
   "source": [
    "## Granular Testing"
   ]
  },
  {
   "cell_type": "code",
   "execution_count": 223,
   "metadata": {},
   "outputs": [],
   "source": [
    "def cluster_energy_map(predicted, mc_truth, energy_snap):\n",
    "    # forms tuple with format [(Energy MC Cluster, Energy Predicted Cluster)....]\n",
    "    thresh = 2\n",
    "    energy_dist = []\n",
    "    for label in np.unique(mc_truth):\n",
    "        if label == 0.0:\n",
    "            continue\n",
    "\n",
    "        ROI_mc = np.where(mc_truth==label)\n",
    "        ROI_algo = np.where(predicted==label)\n",
    "        \n",
    "        E_mc = np.sum(energy_snap[ROI_mc])\n",
    "        E_algo = np.sum(energy_snap[ROI_algo])\n",
    "        \n",
    "        energy_dist.append((E_mc, E_algo, label))\n",
    "    \n",
    "    return energy_dist"
   ]
  },
  {
   "cell_type": "code",
   "execution_count": 229,
   "metadata": {},
   "outputs": [],
   "source": [
    "def mc_label_convert(segmented_image, mc_truth):\n",
    "    all_labels = np.unique(mc_truth)\n",
    "    hm = {}\n",
    "    \n",
    "    # Background Matching\n",
    "    u, c = np.unique(mc_truth, return_counts=True)\n",
    "    bkg_label_mc = u[np.argmax(c)]\n",
    "    \n",
    "    u, c = np.unique(segmented_image, return_counts=True)\n",
    "    bkg_label_algo = u[np.argmax(c)]\n",
    "    hm[bkg_label_mc] = bkg_label_algo\n",
    "    \n",
    "    for curr_label in all_labels:\n",
    "        if curr_label == bkg_label_mc:\n",
    "            continue\n",
    "            \n",
    "        selected_ROI = segmented_image[np.where(mc_truth == curr_label)]\n",
    "        u, c = np.unique(selected_ROI, return_counts=True)\n",
    "        \n",
    "        count_map = [x for x in zip(u,c) if x[0]!=bkg_label_algo]\n",
    "        \n",
    "        if count_map:\n",
    "            hm[curr_label] = max(count_map, key=lambda x:x[1])[0]\n",
    "    \n",
    "    # unmapped_labels\n",
    "    unmapped = []\n",
    "    for old_label in np.unique(segmented_image):\n",
    "        if old_label not in hm.values():\n",
    "            unmapped.append(old_label)\n",
    "    \n",
    "    uhm = {}\n",
    "    max_mc_label = max(max(hm.keys()), max(hm.values()))+1\n",
    "    for ol in unmapped:\n",
    "        uhm[max_mc_label] = ol\n",
    "        max_mc_label+=1\n",
    "    \n",
    "    # start mapping old_labels to mc_labels\n",
    "    for label in uhm:\n",
    "        mp = np.where(segmented_image==uhm[label])\n",
    "        segmented_image[mp] = label\n",
    "    \n",
    "    for label in hm:\n",
    "        mp = np.where(segmented_image==hm[label])\n",
    "        segmented_image[mp] = label\n",
    "    \n",
    "    return segmented_image"
   ]
  },
  {
   "cell_type": "code",
   "execution_count": 236,
   "metadata": {},
   "outputs": [],
   "source": [
    "all_energy_mappings = []\n",
    "index_info = []\n",
    "for i in range(len(val_img)):\n",
    "    #i=10\n",
    "    CLUSTER_TAGS = [-1]\n",
    "    energy_snap = np.squeeze(val_img[i])\n",
    "    lpred, lmc = ccl_generator(pred_mask[i], val_mask[i])\n",
    "    try:\n",
    "    #if True:\n",
    "        #print(i)\n",
    "        predicted = mc_label_convert(lpred, lmc)\n",
    "        energy_dist = cluster_energy_map(predicted, lmc, energy_snap)\n",
    "\n",
    "        all_energy_mappings.extend(energy_dist)\n",
    "        img_index_info = [i]*len(energy_dist)\n",
    "        index_info.extend(img_index_info)\n",
    "        #break\n",
    "\n",
    "    except:\n",
    "        print(\"Error in \", i)\n",
    "        pass"
   ]
  },
  {
   "cell_type": "code",
   "execution_count": 237,
   "metadata": {},
   "outputs": [],
   "source": [
    "algo_sup_predicted = [x for x in zip(index_info, all_energy_mappings) if x[1][0]<x[1][1]]\n",
    "MC_sup_predicted = [x for x in zip(index_info, all_energy_mappings) if x[1][0]>x[1][1]]\n",
    "equal_predicted = [x for x in zip(index_info, all_energy_mappings) if x[1][0]==x[1][1]]"
   ]
  },
  {
   "cell_type": "code",
   "execution_count": 238,
   "metadata": {},
   "outputs": [
    {
     "data": {
      "text/plain": [
       "(540, 900, 5700)"
      ]
     },
     "execution_count": 238,
     "metadata": {},
     "output_type": "execute_result"
    }
   ],
   "source": [
    "len(algo_sup_predicted), len(MC_sup_predicted), len(equal_predicted)"
   ]
  },
  {
   "cell_type": "code",
   "execution_count": 239,
   "metadata": {},
   "outputs": [
    {
     "data": {
      "text/plain": [
       "[(5, (2.964706, 27.764706, 4)),\n",
       " (6, (2.9058824, 5.9058824, 3)),\n",
       " (6, (5.5764704, 8.57647, 5)),\n",
       " (8, (2.682353, 5.682353, 3)),\n",
       " (10, (2.6117647, 54.65882, 7)),\n",
       " (11, (11.04706, 14.047058, 6)),\n",
       " (12, (29.435295, 35.435295, 4)),\n",
       " (14, (2.6588235, 52.70589, 9)),\n",
       " (15, (7.741177, 13.741177, 2)),\n",
       " (15, (2.6352942, 5.635294, 7))]"
      ]
     },
     "execution_count": 239,
     "metadata": {},
     "output_type": "execute_result"
    }
   ],
   "source": [
    "# Algo Sup Analysis\n",
    "algo_sup_predicted[:10]"
   ]
  },
  {
   "cell_type": "markdown",
   "metadata": {},
   "source": [
    "#### DEBUGGING"
   ]
  },
  {
   "cell_type": "code",
   "execution_count": 208,
   "metadata": {},
   "outputs": [],
   "source": [
    "i = 11\n",
    "lpred, lmc = ccl_generator(pred_mask[i], val_mask[i])"
   ]
  },
  {
   "cell_type": "code",
   "execution_count": 209,
   "metadata": {},
   "outputs": [],
   "source": [
    "u, c = np.unique(lpred, return_counts=True)"
   ]
  },
  {
   "cell_type": "code",
   "execution_count": 210,
   "metadata": {},
   "outputs": [],
   "source": [
    "lpred = mc_label_convert(lpred, lmc)"
   ]
  },
  {
   "cell_type": "code",
   "execution_count": 242,
   "metadata": {},
   "outputs": [
    {
     "data": {
      "text/plain": [
       "(array([0, 1, 2, 3, 4, 5, 6, 7, 8], dtype=int32),\n",
       " array([ 0,  1,  2,  3,  4,  5,  6,  7,  8, 10], dtype=int32))"
      ]
     },
     "execution_count": 242,
     "metadata": {},
     "output_type": "execute_result"
    }
   ],
   "source": [
    "np.unique(lmc), np.unique(lpred)"
   ]
  },
  {
   "cell_type": "code",
   "execution_count": null,
   "metadata": {},
   "outputs": [],
   "source": [
    "np.unique(lmc), np.unique(lpred)"
   ]
  },
  {
   "cell_type": "code",
   "execution_count": null,
   "metadata": {},
   "outputs": [],
   "source": [
    "# Masking Debug\n",
    "i = 11\n",
    "lpred, lmc = ccl_generator(pred_mask[i], val_mask[i])\n",
    "lpred = mc_label_convert(lpred, lmc)\n",
    "\n",
    "num_example_to_display = 1\n",
    "fig, axs = plt.subplots(nrows=num_example_to_display, ncols=2, figsize=(12,4*num_example_to_display))\n",
    "\n",
    "for j in range(num_example_to_display):\n",
    "    i = algo_sup_predicted_i[j]\n",
    "    lpred, lmc = ccl_generator(pred_mask[i], val_mask[i])\n",
    "    lpred = mc_label_convert(lpred, lmc)\n",
    "    \n",
    "    axs[j][0].imshow(val_img[i])\n",
    "    axs[j][1].imshow(lmc)\n",
    "    axs[j][2].imshow(lpred)"
   ]
  },
  {
   "cell_type": "code",
   "execution_count": 240,
   "metadata": {},
   "outputs": [
    {
     "data": {
      "image/png": "[encoded data removed]",
      "text/plain": [
       "<Figure size 1200x800 with 6 Axes>"
      ]
     },
     "metadata": {},
     "output_type": "display_data"
    }
   ],
   "source": [
    "# DEBUG\n",
    "num_example_to_display = 2\n",
    "algo_sup_predicted_i = [6,11]\n",
    "fig, axs = plt.subplots(nrows=num_example_to_display, ncols=3, figsize=(12,4*num_example_to_display))\n",
    "\n",
    "for j in range(num_example_to_display):\n",
    "    i = algo_sup_predicted_i[j]\n",
    "    lpred, lmc = ccl_generator(pred_mask[i], val_mask[i])\n",
    "    lpred = mc_label_convert(lpred, lmc)\n",
    "    \n",
    "    axs[j][0].imshow(val_img[i])\n",
    "    axs[j][1].imshow(lmc)\n",
    "    axs[j][2].imshow(lpred)"
   ]
  },
  {
   "cell_type": "markdown",
   "metadata": {},
   "source": [
    "## Weights Analysis"
   ]
  },
  {
   "cell_type": "code",
   "execution_count": 205,
   "metadata": {},
   "outputs": [],
   "source": [
    "conv_layers = []\n",
    "for layer in model.layers:\n",
    "    if \"conv\" in layer.name:\n",
    "        conv_layers.append(layer)"
   ]
  },
  {
   "cell_type": "code",
   "execution_count": 207,
   "metadata": {},
   "outputs": [
    {
     "data": {
      "text/plain": [
       "[<tf.Variable 'conv2d_10/kernel:0' shape=(3, 3, 4, 3) dtype=float32, numpy=\n",
       " array([[[[-1.4035053 , -0.1691594 ,  0.5675656 ],\n",
       "          [-1.1871152 ,  0.7690637 , -0.31745037],\n",
       "          [-0.2992162 ,  0.22094612,  0.28447524],\n",
       "          [-0.7458423 , -0.04057514,  0.6524691 ]],\n",
       " \n",
       "         [[-0.5535876 , -0.14646491, -0.2700452 ],\n",
       "          [-0.52451366, -0.6197916 ,  0.2833118 ],\n",
       "          [ 0.07278182,  0.12390114,  0.06175253],\n",
       "          [-0.38205716,  0.5824628 , -0.4543049 ]],\n",
       " \n",
       "         [[-0.76782376,  0.1783538 , -0.16027261],\n",
       "          [-1.964151  , -0.17168693,  0.66626644],\n",
       "          [-0.07286557,  0.03414439,  0.3442133 ],\n",
       "          [-0.2962506 , -0.14498486,  0.21456781]]],\n",
       " \n",
       " \n",
       "        [[[ 0.31782386,  0.46076563, -0.79639685],\n",
       "          [-1.7392197 ,  1.157387  , -1.0183835 ],\n",
       "          [ 0.2372554 ,  0.00982026, -0.05115276],\n",
       "          [-0.6411901 ,  0.47011515, -0.55396944]],\n",
       " \n",
       "         [[-0.7550947 ,  0.7621841 , -0.8723858 ],\n",
       "          [-2.5892565 , -0.27853298,  1.3734565 ],\n",
       "          [ 1.015233  ,  0.14246278, -0.16077697],\n",
       "          [-0.6452219 ,  1.4462554 , -1.2143614 ]],\n",
       " \n",
       "         [[ 0.04904111,  0.9989316 , -0.9437246 ],\n",
       "          [ 2.137301  , -0.24797507, -0.6975155 ],\n",
       "          [ 0.1907349 , -0.08755085,  0.39165416],\n",
       "          [ 0.01767517,  0.7328878 , -0.9137735 ]]],\n",
       " \n",
       " \n",
       "        [[[-0.5168407 ,  0.33257282, -0.18426584],\n",
       "          [-1.4523857 ,  1.5396568 , -1.2855016 ],\n",
       "          [ 0.892935  , -0.52866316,  0.25699535],\n",
       "          [-1.0738237 , -0.18041378,  0.17029381]],\n",
       " \n",
       "         [[-1.0236335 ,  0.4438392 ,  0.19172677],\n",
       "          [-1.1697304 , -0.32597804,  1.0252501 ],\n",
       "          [ 0.50388247, -0.56191975,  0.41884258],\n",
       "          [-1.0487765 ,  0.22453816, -0.0424839 ]],\n",
       " \n",
       "         [[-1.0358268 ,  0.50106233, -0.4251016 ],\n",
       "          [ 0.2372014 , -0.40726715,  0.4734528 ],\n",
       "          [ 0.5540151 , -0.5666736 ,  0.67597383],\n",
       "          [-0.5823693 , -0.01871158, -0.01014814]]]], dtype=float32)>,\n",
       " <tf.Variable 'conv2d_10/bias:0' shape=(3,) dtype=float32, numpy=array([-0.29419154, -0.03685386,  0.2515948 ], dtype=float32)>]"
      ]
     },
     "execution_count": 207,
     "metadata": {},
     "output_type": "execute_result"
    }
   ],
   "source": [
    "conv_layers[-1].weights"
   ]
  },
  {
   "cell_type": "code",
   "execution_count": null,
   "metadata": {},
   "outputs": [],
   "source": []
  }
 ],
 "metadata": {
  "accelerator": "GPU",
  "colab": {
   "authorship_tag": "ABX9TyOfhUvJGUuZejGW+R/JWugG",
   "collapsed_sections": [
    "eOhePXrsxfv2"
   ],
   "provenance": []
  },
  "gpuClass": "standard",
  "kernelspec": {
   "display_name": "Python 3 (ipykernel)",
   "language": "python",
   "name": "python3"
  },
  "language_info": {
   "codemirror_mode": {
    "name": "ipython",
    "version": 3
   },
   "file_extension": ".py",
   "mimetype": "text/x-python",
   "name": "python",
   "nbconvert_exporter": "python",
   "pygments_lexer": "ipython3",
   "version": "3.8.16"
  }
 },
 "nbformat": 4,
 "nbformat_minor": 1
}
