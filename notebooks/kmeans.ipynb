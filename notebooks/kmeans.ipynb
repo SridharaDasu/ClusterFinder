{
 "cells": [
  {
   "cell_type": "code",
   "execution_count": 27,
   "metadata": {},
   "outputs": [],
   "source": [
    "import cv2\n",
    "import numpy as np\n",
    "import matplotlib.pyplot as plt\n",
    "from collections import Counter"
   ]
  },
  {
   "cell_type": "markdown",
   "metadata": {},
   "source": [
    "## Electromagnetic Screen"
   ]
  },
  {
   "cell_type": "markdown",
   "metadata": {},
   "source": [
    "### Single Sample"
   ]
  },
  {
   "cell_type": "code",
   "execution_count": 28,
   "metadata": {},
   "outputs": [],
   "source": [
    "EMData = np.load(\"../data/EMData-20230116.npy\")"
   ]
  },
  {
   "cell_type": "code",
   "execution_count": 52,
   "metadata": {},
   "outputs": [],
   "source": [
    "CRITERIA = (cv2.TERM_CRITERIA_EPS + cv2.TERM_CRITERIA_MAX_ITER, 100, 0.50)\n",
    "CLUSTER_TAGS = [-1]\n",
    "\n",
    "def coord_test(x, y):\n",
    "    if x < 0 or y < 0 or x >= 25 or y >= 30:\n",
    "        return False\n",
    "    else:\n",
    "        True\n",
    "\n",
    "def check_nearby_ids(mat, x, y):\n",
    "    dirlt = [-1,0,1]\n",
    "    for dy in dirlt:\n",
    "        for dx in dirlt:\n",
    "            if mat[x-dx][y-dy] < -1:\n",
    "                return mat[x-dx][y-dy]\n",
    "\n",
    "    return -1\n",
    "\n",
    "def cluster_tagging(segmented_image, x, y):\n",
    "    dirlt = [-1,0,1]\n",
    "    if coord_test(x, y) == False:\n",
    "        return segmented_image\n",
    "\n",
    "    # any positive pixel untouched through implementation stays +ive\n",
    "    if segmented_image[x][y] in [0, 254]:\n",
    "        if segmented_image[x][y] == 254:\n",
    "            # setting cluster id to background\n",
    "            segmented_image[x][y] = -1\n",
    "            # print(segmented_image[x][y])\n",
    "            for dy in dirlt:\n",
    "                for dx in dirlt:\n",
    "                    if dx+dy == 0: continue\n",
    "                    cluster_tagging(segmented_image, x-dx, y-dy)\n",
    "        \n",
    "        else:\n",
    "            adj_id = check_nearby_ids(segmented_image, x, y)\n",
    "            if adj_id!=-1:\n",
    "                cluster_id = adj_id\n",
    "            else: \n",
    "                cluster_id = CLUSTER_TAGS[-1] - 1\n",
    "                CLUSTER_TAGS.append(cluster_id)\n",
    "                \n",
    "            segmented_image[x][y] = cluster_id\n",
    "            for dy in dirlt:\n",
    "                for dx in dirlt:\n",
    "                    if dx == 0 and dy == 0: continue\n",
    "                    cluster_tagging(segmented_image, x-dx, y-dy)\n",
    "    \n",
    "    return segmented_image\n",
    "\n",
    "def relabel(labels):\n",
    "    # max number of labels belong to background/noise region\n",
    "    bglabel = Counter(labels.flatten()).most_common(1)[-1][0]\n",
    "    signal_label = list(Counter(labels.flatten()))[-1]\n",
    "\n",
    "    # relabeling the pixels\n",
    "    for i in range(len(labels)):\n",
    "        if labels[i] != bglabel:\n",
    "            labels[i] = signal_label\n",
    "    \n",
    "    return labels\n",
    "\n",
    "def cluster_detect(energy_snap, verbose=True):\n",
    "    # kmeans from energy snap\n",
    "    energy_snap = energy_snap/np.max(energy_snap)\n",
    "    energy_snap = 1 - energy_snap\n",
    "    energy_snap = np.array(energy_snap * 255, dtype = np.uint8)\n",
    "    energy_snap = cv2.cvtColor(energy_snap, cv2.COLOR_GRAY2BGR)\n",
    "\n",
    "    #if verbose:\n",
    "    #    plt.imshow(energy_snap)\n",
    "\n",
    "    et_vals_em = energy_snap.reshape((-1,1))\n",
    "    et_vals_em = np.float32(et_vals_em)\n",
    " \n",
    "    k = 5  #background vs signal portion\n",
    "    _, labels, centers = cv2.kmeans(et_vals_em, k, None, CRITERIA, 30, cv2.KMEANS_RANDOM_CENTERS)\n",
    "    \n",
    "    # convert data into 8-bit values\n",
    "    labels = relabel(labels)\n",
    "    centers = np.uint8(centers)\n",
    "    segmented_data = centers[labels.flatten()]\n",
    "    \n",
    "    # reshape data into the original image dimensions\n",
    "    segmented_image = segmented_data.reshape((energy_snap.shape))\n",
    "    \n",
    "    # reshuffling detected clusters from energy based to locality based\n",
    "    segmented_image = cv2.cvtColor(segmented_image, cv2.COLOR_BGR2GRAY)\n",
    "\n",
    "    segmented_image[np.where(segmented_image == min(np.unique(segmented_image)))] = 0\n",
    "    segmented_image[np.where(segmented_image == max(np.unique(segmented_image)))] = 254\n",
    "\n",
    "    if verbose:\n",
    "        plt.imshow(segmented_image)\n",
    "        \n",
    "    tagged_pixels = cluster_tagging(np.array(segmented_image, dtype=int), 0, 0)\n",
    "\n",
    "    return tagged_pixels"
   ]
  },
  {
   "cell_type": "code",
   "execution_count": 53,
   "metadata": {},
   "outputs": [
    {
     "data": {
      "image/png": "[encoded data removed]",
      "text/plain": [
       "<Figure size 432x288 with 1 Axes>"
      ]
     },
     "metadata": {
      "needs_background": "light"
     },
     "output_type": "display_data"
    }
   ],
   "source": [
    "# EM Input Visual\n",
    "sample_number = 0\n",
    "energy_snap = EMData[sample_number, 0, :, :]\n",
    "segmented_image = cluster_detect(energy_snap, verbose=True)"
   ]
  },
  {
   "cell_type": "code",
   "execution_count": 54,
   "metadata": {},
   "outputs": [
    {
     "data": {
      "text/plain": [
       "array([-9, -8, -7, -6, -5, -4, -3, -2, -1])"
      ]
     },
     "execution_count": 54,
     "metadata": {},
     "output_type": "execute_result"
    }
   ],
   "source": [
    "np.unique(segmented_image)"
   ]
  },
  {
   "cell_type": "code",
   "execution_count": 55,
   "metadata": {},
   "outputs": [
    {
     "data": {
      "text/plain": [
       "<matplotlib.image.AxesImage at 0x129f9dd90>"
      ]
     },
     "execution_count": 55,
     "metadata": {},
     "output_type": "execute_result"
    },
    {
     "data": {
      "image/png": "[encoded data removed]",
      "text/plain": [
       "<Figure size 432x288 with 1 Axes>"
      ]
     },
     "metadata": {
      "needs_background": "light"
     },
     "output_type": "display_data"
    }
   ],
   "source": [
    "mc_truth = EMData[sample_number, 1, :, :]\n",
    "mc_out = np.copy(mc_truth)\n",
    "mc_out[np.where(mc_out==-1)] = mc_out.max() + 1\n",
    "mc_out = 1-mc_out\n",
    "mc_out = np.array(mc_out * 255, dtype = np.uint8)\n",
    "#mc_out = cv2.cvtColor(mc_out, cv2.COLOR_GRAY2BGR)\n",
    "\n",
    "plt.imshow(mc_out)"
   ]
  },
  {
   "cell_type": "markdown",
   "metadata": {},
   "source": [
    "#### Testing pipeline\n",
    "\n",
    "1. Map the new labels to MC truth labels\n",
    "2. Loop over Detected and MC Clusters\n",
    "3. **Match Condition:**\n",
    "    - |neta_algo - neta_mc|  <  threshold  &&  |phi_algo - phi_mc|  <  Threshold\n",
    "4. **Testing Points per loop:**\n",
    "    - (E_algo - E_MC) / E_MC\n",
    "    - Found in MC and not in Detected (False Negative)\n",
    "    - Found in Detected and not in MC (False Positive)"
   ]
  },
  {
   "cell_type": "code",
   "execution_count": 47,
   "metadata": {},
   "outputs": [],
   "source": [
    "def mc_label_convert(segmented_image, mc_truth):\n",
    "    all_labels = np.unique(mc_truth)\n",
    "    hm = {}\n",
    "    for curr_label in all_labels:\n",
    "        selected_ROI = segmented_image[np.where(mc_truth == curr_label)]\n",
    "        hm[curr_label] = np.unique(selected_ROI)\n",
    "    \n",
    "    bkg = []\n",
    "    for lt in hm.values():\n",
    "        bkg.extend(lt)\n",
    "\n",
    "    bkg_label = Counter(bkg).most_common(1)[-1][0]\n",
    "\n",
    "    #setting background label\n",
    "    segmented_image[np.where(segmented_image == bkg_label)] = 0.0\n",
    "    hm.pop(0.0)\n",
    "    \n",
    "    for label in list(hm.keys())[::-1]:\n",
    "        marked_pixels = []\n",
    "        for pxm in hm[label]:\n",
    "            if pxm == bkg_label:\n",
    "                continue\n",
    "                \n",
    "            marked_pixels.append(np.where(segmented_image==pxm))\n",
    "            \n",
    "        for mp in marked_pixels:\n",
    "            segmented_image[mp] = label\n",
    "\n",
    "    return segmented_image"
   ]
  },
  {
   "cell_type": "code",
   "execution_count": 48,
   "metadata": {},
   "outputs": [
    {
     "data": {
      "text/plain": [
       "(array([-6, -5, -4, -3, -2, -1]), array([-1.,  0.,  1.,  2.]))"
      ]
     },
     "execution_count": 48,
     "metadata": {},
     "output_type": "execute_result"
    }
   ],
   "source": [
    "np.unique(segmented_image), np.unique(mc_truth)"
   ]
  },
  {
   "cell_type": "code",
   "execution_count": 49,
   "metadata": {},
   "outputs": [],
   "source": [
    "predicted = mc_label_convert(segmented_image, mc_truth)"
   ]
  },
  {
   "cell_type": "code",
   "execution_count": 50,
   "metadata": {},
   "outputs": [
    {
     "data": {
      "text/plain": [
       "(array([-1,  0,  2]), array([-1.,  0.,  1.,  2.]))"
      ]
     },
     "execution_count": 50,
     "metadata": {},
     "output_type": "execute_result"
    }
   ],
   "source": [
    "np.unique(predicted), np.unique(mc_truth)"
   ]
  },
  {
   "cell_type": "code",
   "execution_count": 21,
   "metadata": {},
   "outputs": [],
   "source": [
    "def eta_phi_res(ROI_mc, ROI_algo):\n",
    "    eta_mc = max(ROI_mc[0]) - min(ROI_mc[0])\n",
    "    phi_mc = max(ROI_mc[1]) - min(ROI_mc[1])\n",
    "\n",
    "    eta_algo = max(ROI_algo[0]) - min(ROI_algo[0])\n",
    "    phi_algo = max(ROI_algo[1]) - min(ROI_algo[1])\n",
    "\n",
    "    return abs(eta_mc - eta_algo), abs(phi_mc - phi_algo)"
   ]
  },
  {
   "cell_type": "code",
   "execution_count": null,
   "metadata": {},
   "outputs": [
    {
     "ename": "ValueError",
     "evalue": "max() arg is an empty sequence",
     "output_type": "error",
     "traceback": [
      "\u001b[0;31m---------------------------------------------------------------------------\u001b[0m",
      "\u001b[0;31mValueError\u001b[0m                                Traceback (most recent call last)",
      "\u001b[1;32m/Users/harshitsharma/UW Madison/Project Work/ClusterFinder/notebooks/kmeans.ipynb Cell 13'\u001b[0m in \u001b[0;36m<cell line: 5>\u001b[0;34m()\u001b[0m\n\u001b[1;32m     <a href='vscode-notebook-cell:/Users/harshitsharma/UW%20Madison/Project%20Work/ClusterFinder/notebooks/kmeans.ipynb#ch0000031?line=12'>13</a>\u001b[0m E_mc \u001b[39m=\u001b[39m np\u001b[39m.\u001b[39msum(energy_snap[ROI_mc])\n\u001b[1;32m     <a href='vscode-notebook-cell:/Users/harshitsharma/UW%20Madison/Project%20Work/ClusterFinder/notebooks/kmeans.ipynb#ch0000031?line=13'>14</a>\u001b[0m E_algo \u001b[39m=\u001b[39m np\u001b[39m.\u001b[39msum(energy_snap[ROI_algo])\n\u001b[0;32m---> <a href='vscode-notebook-cell:/Users/harshitsharma/UW%20Madison/Project%20Work/ClusterFinder/notebooks/kmeans.ipynb#ch0000031?line=14'>15</a>\u001b[0m eta_res, phi_res \u001b[39m=\u001b[39m eta_phi_res(ROI_mc, ROI_algo)\n\u001b[1;32m     <a href='vscode-notebook-cell:/Users/harshitsharma/UW%20Madison/Project%20Work/ClusterFinder/notebooks/kmeans.ipynb#ch0000031?line=16'>17</a>\u001b[0m \u001b[39mif\u001b[39;00m eta_res \u001b[39m<\u001b[39m thresh \u001b[39mand\u001b[39;00m phi_res \u001b[39m<\u001b[39m thresh:\n\u001b[1;32m     <a href='vscode-notebook-cell:/Users/harshitsharma/UW%20Madison/Project%20Work/ClusterFinder/notebooks/kmeans.ipynb#ch0000031?line=17'>18</a>\u001b[0m     matched \u001b[39m=\u001b[39m \u001b[39mTrue\u001b[39;00m\n",
      "\u001b[1;32m/Users/harshitsharma/UW Madison/Project Work/ClusterFinder/notebooks/kmeans.ipynb Cell 12'\u001b[0m in \u001b[0;36meta_phi_res\u001b[0;34m(ROI_mc, ROI_algo)\u001b[0m\n\u001b[1;32m      <a href='vscode-notebook-cell:/Users/harshitsharma/UW%20Madison/Project%20Work/ClusterFinder/notebooks/kmeans.ipynb#ch0000034?line=1'>2</a>\u001b[0m eta_mc \u001b[39m=\u001b[39m \u001b[39mmax\u001b[39m(ROI_mc[\u001b[39m0\u001b[39m]) \u001b[39m-\u001b[39m \u001b[39mmin\u001b[39m(ROI_mc[\u001b[39m0\u001b[39m])\n\u001b[1;32m      <a href='vscode-notebook-cell:/Users/harshitsharma/UW%20Madison/Project%20Work/ClusterFinder/notebooks/kmeans.ipynb#ch0000034?line=2'>3</a>\u001b[0m phi_mc \u001b[39m=\u001b[39m \u001b[39mmax\u001b[39m(ROI_mc[\u001b[39m1\u001b[39m]) \u001b[39m-\u001b[39m \u001b[39mmin\u001b[39m(ROI_mc[\u001b[39m1\u001b[39m])\n\u001b[0;32m----> <a href='vscode-notebook-cell:/Users/harshitsharma/UW%20Madison/Project%20Work/ClusterFinder/notebooks/kmeans.ipynb#ch0000034?line=4'>5</a>\u001b[0m eta_algo \u001b[39m=\u001b[39m \u001b[39mmax\u001b[39;49m(ROI_algo[\u001b[39m0\u001b[39;49m]) \u001b[39m-\u001b[39m \u001b[39mmin\u001b[39m(ROI_algo[\u001b[39m0\u001b[39m])\n\u001b[1;32m      <a href='vscode-notebook-cell:/Users/harshitsharma/UW%20Madison/Project%20Work/ClusterFinder/notebooks/kmeans.ipynb#ch0000034?line=5'>6</a>\u001b[0m phi_algo \u001b[39m=\u001b[39m \u001b[39mmax\u001b[39m(ROI_algo[\u001b[39m1\u001b[39m]) \u001b[39m-\u001b[39m \u001b[39mmin\u001b[39m(ROI_algo[\u001b[39m1\u001b[39m])\n\u001b[1;32m      <a href='vscode-notebook-cell:/Users/harshitsharma/UW%20Madison/Project%20Work/ClusterFinder/notebooks/kmeans.ipynb#ch0000034?line=7'>8</a>\u001b[0m \u001b[39mreturn\u001b[39;00m \u001b[39mabs\u001b[39m(eta_mc \u001b[39m-\u001b[39m eta_algo), \u001b[39mabs\u001b[39m(phi_mc \u001b[39m-\u001b[39m phi_algo)\n",
      "\u001b[0;31mValueError\u001b[0m: max() arg is an empty sequence"
     ]
    }
   ],
   "source": [
    "# Reconstruction Energy\n",
    "thresh = 4\n",
    "y_pred = []\n",
    "energy_dist = []\n",
    "for label in np.unique(mc_truth):\n",
    "    if label == 0.0:\n",
    "        continue\n",
    "\n",
    "    matched, rel_energy = False, -1\n",
    "    ROI_mc = np.where(mc_truth==label)\n",
    "    ROI_algo = np.where(predicted==label)\n",
    "\n",
    "    E_mc = np.sum(energy_snap[ROI_mc])\n",
    "    E_algo = np.sum(energy_snap[ROI_algo])\n",
    "\n",
    "    if len(ROI_algo) == 0:\n",
    "        matched = (False, \"False Negative\")\n",
    "\n",
    "    if len(ROI_mc) == 0 and len(ROI_algo) !=0:\n",
    "        matched = (False, \"False Positive\")\n",
    "\n",
    "    eta_res, phi_res = eta_phi_res(ROI_mc, ROI_algo)\n",
    "\n",
    "    if eta_res < thresh and phi_res < thresh:\n",
    "        matched = True\n",
    "        rel_energy = abs(E_algo - E_mc)/E_mc\n",
    "    else:\n",
    "        matched = (False, \"Very Low Overlap\")\n",
    "        rel_energy = 1 # E_algo == 0\n",
    "    \n",
    "    # collecting testing data\n",
    "    y_pred.append(matched)\n",
    "    if rel_energy >= 0: energy_dist.append(rel_energy)"
   ]
  },
  {
   "cell_type": "code",
   "execution_count": 254,
   "metadata": {},
   "outputs": [
    {
     "data": {
      "text/plain": [
       "([True, False, False, False], [0.0, 1, 1, 1])"
      ]
     },
     "execution_count": 254,
     "metadata": {},
     "output_type": "execute_result"
    }
   ],
   "source": [
    "y_pred, energy_dist"
   ]
  },
  {
   "cell_type": "code",
   "execution_count": null,
   "metadata": {},
   "outputs": [],
   "source": [
    "# different types particles (2), therefore 2 types plot \n",
    "# add entries for mismatched"
   ]
  },
  {
   "cell_type": "markdown",
   "metadata": {},
   "source": [
    "### Complete Run"
   ]
  },
  {
   "cell_type": "code",
   "execution_count": 33,
   "metadata": {},
   "outputs": [],
   "source": [
    "CRITERIA = (cv2.TERM_CRITERIA_EPS + cv2.TERM_CRITERIA_MAX_ITER, 100, 0.50)\n",
    "CLUSTER_TAGS = [-1]\n",
    "\n",
    "def coord_test(x, y):\n",
    "    if x < 0 or y < 0 or x >= 25 or y >= 30:\n",
    "        return False\n",
    "    else:\n",
    "        True\n",
    "\n",
    "def check_nearby_ids(mat, x, y):\n",
    "    dirlt = [-1,0,1]\n",
    "    for dy in dirlt:\n",
    "        for dx in dirlt:\n",
    "            if mat[x-dx][y-dy] < -1:\n",
    "                return mat[x-dx][y-dy]\n",
    "\n",
    "    return -1\n",
    "\n",
    "def cluster_tagging(segmented_image, x, y):\n",
    "    dirlt = [-1,0,1]\n",
    "    if coord_test(x, y) == False:\n",
    "        return segmented_image\n",
    "\n",
    "    # any positive pixel untouched through implementation stays +ive\n",
    "    if segmented_image[x][y] in [0, 254]:\n",
    "        if segmented_image[x][y] == 254:\n",
    "            # setting cluster id to background\n",
    "            segmented_image[x][y] = -1\n",
    "            # print(segmented_image[x][y])\n",
    "            for dy in dirlt:\n",
    "                for dx in dirlt:\n",
    "                    if dx+dy == 0: continue\n",
    "                    cluster_tagging(segmented_image, x-dx, y-dy)\n",
    "        \n",
    "        else:\n",
    "            adj_id = check_nearby_ids(segmented_image, x, y)\n",
    "            if adj_id!=-1:\n",
    "                cluster_id = adj_id\n",
    "            else: \n",
    "                cluster_id = CLUSTER_TAGS[-1] - 1\n",
    "                CLUSTER_TAGS.append(cluster_id)\n",
    "                \n",
    "            segmented_image[x][y] = cluster_id\n",
    "            for dy in dirlt:\n",
    "                for dx in dirlt:\n",
    "                    if dx == 0 and dy == 0: continue\n",
    "                    cluster_tagging(segmented_image, x-dx, y-dy)\n",
    "    \n",
    "    return segmented_image\n",
    "\n",
    "def relabel(labels):\n",
    "    # max number of labels belong to background/noise region\n",
    "    bglabel = Counter(labels.flatten()).most_common(1)[-1][0]\n",
    "    signal_label = list(Counter(labels.flatten()))[-1]\n",
    "\n",
    "    # relabeling the pixels\n",
    "    for i in range(len(labels)):\n",
    "        if labels[i] != bglabel:\n",
    "            labels[i] = signal_label\n",
    "    \n",
    "    return labels\n",
    "\n",
    "def cluster_detect(energy_snap, verbose=True):\n",
    "    # kmeans from energy snap\n",
    "    energy_snap = energy_snap/np.max(energy_snap)\n",
    "    energy_snap = 1 - energy_snap\n",
    "    energy_snap = np.array(energy_snap * 255, dtype = np.uint8)\n",
    "    energy_snap = cv2.cvtColor(energy_snap, cv2.COLOR_GRAY2BGR)\n",
    "\n",
    "    #if verbose:\n",
    "    #    plt.imshow(energy_snap)\n",
    "\n",
    "    et_vals_em = energy_snap.reshape((-1,1))\n",
    "    et_vals_em = np.float32(et_vals_em)\n",
    " \n",
    "    k = 5  #background vs signal portion\n",
    "    _, labels, centers = cv2.kmeans(et_vals_em, k, None, CRITERIA, 30, cv2.KMEANS_RANDOM_CENTERS)\n",
    "    \n",
    "    # convert data into 8-bit values\n",
    "    labels = relabel(labels)\n",
    "    centers = np.uint8(centers)\n",
    "    segmented_data = centers[labels.flatten()]\n",
    "    \n",
    "    # reshape data into the original image dimensions\n",
    "    segmented_image = segmented_data.reshape((energy_snap.shape))\n",
    "    \n",
    "    # reshuffling detected clusters from energy based to locality based\n",
    "    segmented_image = cv2.cvtColor(segmented_image, cv2.COLOR_BGR2GRAY)\n",
    "\n",
    "    segmented_image[np.where(segmented_image == min(np.unique(segmented_image)))] = 0\n",
    "    segmented_image[np.where(segmented_image == max(np.unique(segmented_image)))] = 254\n",
    "\n",
    "    if verbose:\n",
    "        plt.imshow(segmented_image)\n",
    "        \n",
    "    tagged_pixels = cluster_tagging(np.array(segmented_image, dtype=int), 0, 0)\n",
    "\n",
    "    return tagged_pixels\n",
    "    \n",
    "def test(predicted, mc_truth):\n",
    "    thresh = 3\n",
    "    y_pred = []\n",
    "    energy_dist = []\n",
    "    for label in np.unique(mc_truth):\n",
    "        if label == 0.0:\n",
    "            continue\n",
    "\n",
    "        matched, rel_energy = False, -1\n",
    "        ROI_mc = np.where(mc_truth==label)\n",
    "        ROI_algo = np.where(predicted==label)\n",
    "\n",
    "        E_mc = np.sum(energy_snap[ROI_mc])\n",
    "        E_algo = np.sum(energy_snap[ROI_algo])\n",
    "\n",
    "        if len(ROI_algo[0]) == 0:\n",
    "            matched = (False, \"False Negative\")\n",
    "            rel_energy = 1 #TODO: Check value??\n",
    "\n",
    "        elif len(ROI_mc[0]) == 0 and len(ROI_algo[0]) !=0:\n",
    "            matched = (False, \"False Positive\")\n",
    "            rel_energy = 1 #TODO: Check value??\n",
    "\n",
    "        else:\n",
    "            eta_res, phi_res = eta_phi_res(ROI_mc, ROI_algo)\n",
    "\n",
    "            if eta_res < thresh and phi_res < thresh:\n",
    "                matched = True\n",
    "                rel_energy = abs(E_algo - E_mc)/E_mc\n",
    "            else:\n",
    "                matched = (False, \"Very Low Overlap\")\n",
    "                rel_energy = 1 # E_algo == 0\n",
    "\n",
    "        # collecting testing data\n",
    "        y_pred.append(matched)\n",
    "        if rel_energy >= 0: energy_dist.append(rel_energy)\n",
    "    \n",
    "    return y_pred, energy_dist"
   ]
  },
  {
   "cell_type": "code",
   "execution_count": 34,
   "metadata": {},
   "outputs": [],
   "source": [
    "def mc_label_convert(segmented_image, mc_truth):\n",
    "    all_labels = np.unique(mc_truth)\n",
    "    hm = {}\n",
    "    for curr_label in all_labels:\n",
    "        selected_ROI = segmented_image[np.where(mc_truth == curr_label)]\n",
    "        hm[curr_label] = np.unique(selected_ROI)\n",
    "    \n",
    "    bkg = []\n",
    "    for lt in hm.values():\n",
    "        bkg.extend(lt)\n",
    "\n",
    "    bkg_label = Counter(bkg).most_common(1)[-1][0]\n",
    "\n",
    "    #setting background label\n",
    "    segmented_image[np.where(segmented_image == bkg_label)] = 0.0\n",
    "    hm.pop(0.0)\n",
    "    \n",
    "    for label in list(hm.keys())[::-1]:\n",
    "        marked_pixels = []\n",
    "        for pxm in hm[label]:\n",
    "            if pxm == bkg_label:\n",
    "                continue\n",
    "                \n",
    "            marked_pixels.append(np.where(segmented_image==pxm))\n",
    "            \n",
    "        for mp in marked_pixels:\n",
    "            segmented_image[mp] = label\n",
    "\n",
    "    return segmented_image"
   ]
  },
  {
   "cell_type": "code",
   "execution_count": 35,
   "metadata": {},
   "outputs": [],
   "source": [
    "def eta_phi_res(ROI_mc, ROI_algo):\n",
    "    eta_mc = max(ROI_mc[0]) - min(ROI_mc[0])\n",
    "    phi_mc = max(ROI_mc[1]) - min(ROI_mc[1])\n",
    "\n",
    "    eta_algo = max(ROI_algo[0]) - min(ROI_algo[0])\n",
    "    phi_algo = max(ROI_algo[1]) - min(ROI_algo[1])\n",
    "\n",
    "    return abs(eta_mc - eta_algo), abs(phi_mc - phi_algo)"
   ]
  },
  {
   "cell_type": "code",
   "execution_count": 36,
   "metadata": {},
   "outputs": [],
   "source": [
    "EMData = np.load(\"../data/EMData-20230120.npy\")"
   ]
  },
  {
   "cell_type": "code",
   "execution_count": 37,
   "metadata": {},
   "outputs": [
    {
     "data": {
      "text/plain": [
       "(10000, 2, 25, 30)"
      ]
     },
     "execution_count": 37,
     "metadata": {},
     "output_type": "execute_result"
    }
   ],
   "source": [
    "EMData.shape"
   ]
  },
  {
   "cell_type": "code",
   "execution_count": 38,
   "metadata": {},
   "outputs": [],
   "source": [
    "all_matched, all_rel_energy, sn = [], [], 0\n",
    "for i in range(EMData.shape[0]):\n",
    "    CLUSTER_TAGS = [-1]\n",
    "    energy_snap = EMData[i, 0, :, :]\n",
    "    try:\n",
    "        segmented_image = cluster_detect(energy_snap, verbose=False)\n",
    "        mc_truth = EMData[i, 1, :, :]\n",
    "        predicted = mc_label_convert(segmented_image, mc_truth)\n",
    "        matched, rel_energy = test(predicted, mc_truth)\n",
    "\n",
    "        # matched\n",
    "        all_matched.extend(matched)\n",
    "        all_rel_energy.extend(rel_energy)\n",
    "\n",
    "        sn += 1\n",
    "    except:\n",
    "        #TODO: resolve edge cases, sample 6, \n",
    "        pass"
   ]
  },
  {
   "cell_type": "code",
   "execution_count": 47,
   "metadata": {},
   "outputs": [
    {
     "data": {
      "text/plain": [
       "Text(0.5, 0, 'normalized energy difference')"
      ]
     },
     "execution_count": 47,
     "metadata": {},
     "output_type": "execute_result"
    },
    {
     "data": {
      "image/png": "[encoded data removed]",
      "text/plain": [
       "<Figure size 432x288 with 1 Axes>"
      ]
     },
     "metadata": {
      "needs_background": "light"
     },
     "output_type": "display_data"
    }
   ],
   "source": [
    "sub_rel = [i for i in all_rel_energy if i<=1]\n",
    "plt.hist(sub_rel, bins=50)  # density=False would make counts\n",
    "plt.ylabel('occurance')\n",
    "plt.xlabel('normalized energy difference')"
   ]
  },
  {
   "cell_type": "code",
   "execution_count": 46,
   "metadata": {},
   "outputs": [
    {
     "data": {
      "text/plain": [
       "Text(0.5, 0, 'normalized energy difference')"
      ]
     },
     "execution_count": 46,
     "metadata": {},
     "output_type": "execute_result"
    },
    {
     "data": {
      "image/png": "[encoded data removed]",
      "text/plain": [
       "<Figure size 432x288 with 1 Axes>"
      ]
     },
     "metadata": {
      "needs_background": "light"
     },
     "output_type": "display_data"
    }
   ],
   "source": [
    "sub_rel = [i for i in all_rel_energy if i<1]\n",
    "plt.hist(sub_rel, bins=50)  # density=False would make counts\n",
    "plt.ylabel('occurance')\n",
    "plt.xlabel('normalized energy difference')"
   ]
  },
  {
   "cell_type": "code",
   "execution_count": 58,
   "metadata": {},
   "outputs": [
    {
     "data": {
      "text/plain": [
       "Text(0.5, 0, 'normalized energy difference')"
      ]
     },
     "execution_count": 58,
     "metadata": {},
     "output_type": "execute_result"
    },
    {
     "data": {
      "image/png": "[encoded data removed]",
      "text/plain": [
       "<Figure size 432x288 with 1 Axes>"
      ]
     },
     "metadata": {
      "needs_background": "light"
     },
     "output_type": "display_data"
    }
   ],
   "source": [
    "sub_rel = [i for i in all_rel_energy if (i<0.4)]\n",
    "plt.hist(sub_rel, bins=50)  # density=False would make counts\n",
    "plt.ylabel('occurance')\n",
    "plt.xlabel('normalized energy difference')"
   ]
  },
  {
   "cell_type": "code",
   "execution_count": null,
   "metadata": {},
   "outputs": [],
   "source": [
    "def mc_label_convert(segmented_image, mc_truth):\n",
    "    all_labels = np.unique(mc_truth)\n",
    "    hm = {}\n",
    "    for curr_label in all_labels:\n",
    "        selected_ROI = segmented_image[np.where(mc_truth == curr_label)]\n",
    "        hm[curr_label] = np.unique(selected_ROI)\n",
    "    \n",
    "    bkg = []\n",
    "    for lt in hm.values():\n",
    "        bkg.extend(lt)\n",
    "\n",
    "    bkg_label = Counter(bkg).most_common(1)[-1][0]\n",
    "\n",
    "    #setting background label\n",
    "    segmented_image[np.where(segmented_image == bkg_label)] = 0.0\n",
    "    hm.pop(0.0)\n",
    "    \n",
    "    for label in list(hm.keys())[::-1]:\n",
    "        marked_pixels = []\n",
    "        for pxm in hm[label]:\n",
    "            if pxm == bkg_label:\n",
    "                continue\n",
    "                \n",
    "            marked_pixels.append(np.where(segmented_image==pxm))\n",
    "            \n",
    "        for mp in marked_pixels:\n",
    "            segmented_image[mp] = label\n",
    "\n",
    "    return segmented_image"
   ]
  },
  {
   "cell_type": "code",
   "execution_count": 42,
   "metadata": {},
   "outputs": [
    {
     "name": "stdout",
     "output_type": "stream",
     "text": [
      "Correct Matches:  12660\n",
      "Incorrect Matched:  7269\n"
     ]
    }
   ],
   "source": [
    "matches = len([x for x in all_matched if x==True])\n",
    "print(\"Correct Matches: \", matches)\n",
    "print(\"Incorrect Matched: \", len(all_matched) - matches)"
   ]
  },
  {
   "cell_type": "code",
   "execution_count": 43,
   "metadata": {},
   "outputs": [
    {
     "data": {
      "text/plain": [
       "19929"
      ]
     },
     "execution_count": 43,
     "metadata": {},
     "output_type": "execute_result"
    }
   ],
   "source": [
    "len(all_matched)"
   ]
  },
  {
   "cell_type": "code",
   "execution_count": 44,
   "metadata": {},
   "outputs": [],
   "source": [
    "unmatched = [x[1] for x in all_matched if type(x)==tuple]"
   ]
  },
  {
   "cell_type": "code",
   "execution_count": 45,
   "metadata": {},
   "outputs": [
    {
     "name": "stdout",
     "output_type": "stream",
     "text": [
      "Threshold Mismatch:  6109\n",
      "False Negative:  1160\n",
      "False Positive:  0\n"
     ]
    }
   ],
   "source": [
    "threshold_mismatch = len([x for x in unmatched if x=='Very Low Overlap'])\n",
    "print(\"Threshold Mismatch: \", threshold_mismatch)\n",
    "\n",
    "fneg = len([x for x in unmatched if x=='False Negative'])\n",
    "print(\"False Negative: \", fneg)\n",
    "\n",
    "fposi = len([x for x in unmatched if x=='False Positive'])\n",
    "print(\"False Positive: \", fposi)"
   ]
  },
  {
   "cell_type": "code",
   "execution_count": null,
   "metadata": {},
   "outputs": [],
   "source": [
    "# issues: \n",
    "# 1. Edge Cases\n",
    "# 2. Thresholding Strategy\n",
    "# 3. E_algo > E_MC?? How?? That happens when clusters are detected as joint due to overlap (We have 3 of such cases)"
   ]
  },
  {
   "cell_type": "code",
   "execution_count": null,
   "metadata": {},
   "outputs": [],
   "source": [
    "# results:\n",
    "# 1. Plots (energy difference)"
   ]
  },
  {
   "cell_type": "code",
   "execution_count": 32,
   "metadata": {},
   "outputs": [
    {
     "data": {
      "text/plain": [
       "5737"
      ]
     },
     "execution_count": 32,
     "metadata": {},
     "output_type": "execute_result"
    }
   ],
   "source": [
    "sn"
   ]
  },
  {
   "cell_type": "code",
   "execution_count": null,
   "metadata": {},
   "outputs": [],
   "source": []
  }
 ],
 "metadata": {
  "interpreter": {
   "hash": "106f4c8027c214921b13a6c512ef7fb4dc22a69514d5f4d8b6a5dc68d3b26bbe"
  },
  "kernelspec": {
   "display_name": "Python 3.8.10 ('MLDL_env')",
   "language": "python",
   "name": "python3"
  },
  "language_info": {
   "codemirror_mode": {
    "name": "ipython",
    "version": 3
   },
   "file_extension": ".py",
   "mimetype": "text/x-python",
   "name": "python",
   "nbconvert_exporter": "python",
   "pygments_lexer": "ipython3",
   "version": "3.8.10"
  },
  "orig_nbformat": 4
 },
 "nbformat": 4,
 "nbformat_minor": 2
}
