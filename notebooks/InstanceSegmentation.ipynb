{
 "cells": [
  {
   "cell_type": "code",
   "execution_count": 1,
   "metadata": {
    "colab": {
     "base_uri": "https://localhost:8080/"
    },
    "executionInfo": {
     "elapsed": 15607,
     "status": "ok",
     "timestamp": 1676908755706,
     "user": {
      "displayName": "HARSHIT SHARMA",
      "userId": "03646130816822692409"
     },
     "user_tz": 360
    },
    "id": "HJjJrdqh1KsG",
    "outputId": "4ed790bf-7520-4244-ffa5-f2d459887cc0"
   },
   "outputs": [
    {
     "name": "stderr",
     "output_type": "stream",
     "text": [
      "2023-05-10 17:32:24.770840: I tensorflow/core/platform/cpu_feature_guard.cc:182] This TensorFlow binary is optimized to use available CPU instructions in performance-critical operations.\n",
      "To enable the following instructions: AVX2 FMA, in other operations, rebuild TensorFlow with the appropriate compiler flags.\n",
      "2023-05-10 17:32:25.676376: W tensorflow/compiler/tf2tensorrt/utils/py_utils.cc:38] TF-TRT Warning: Could not find TensorRT\n"
     ]
    }
   ],
   "source": [
    "import wandb\n",
    "from wandb.keras import WandbCallback"
   ]
  },
  {
   "cell_type": "code",
   "execution_count": 2,
   "metadata": {},
   "outputs": [],
   "source": [
    "import os\n",
    "os.environ['CUDA_VISIBLE_DEVICES'] = '-1'"
   ]
  },
  {
   "cell_type": "code",
   "execution_count": 3,
   "metadata": {
    "executionInfo": {
     "elapsed": 3486,
     "status": "ok",
     "timestamp": 1676908773630,
     "user": {
      "displayName": "HARSHIT SHARMA",
      "userId": "03646130816822692409"
     },
     "user_tz": 360
    },
    "id": "snrvtQAW0AUD"
   },
   "outputs": [],
   "source": [
    "import tensorflow as tf\n",
    "from tensorflow.keras.layers import MaxPooling2D, Input, concatenate, Conv2D, Activation, ZeroPadding2D, UpSampling2D, add\n",
    "from tensorflow.keras.models import *\n",
    "from qkeras import *\n",
    "\n",
    "import tensorflow_datasets as tfds\n",
    "from tensorflow.keras.preprocessing.image import load_img\n",
    "\n",
    "import os\n",
    "import numpy as np\n",
    "from PIL import Image\n",
    "import matplotlib.pyplot as plt\n",
    "%matplotlib inline\n",
    "\n",
    "from sklearn.utils import shuffle\n",
    "from tqdm import tqdm"
   ]
  },
  {
   "cell_type": "code",
   "execution_count": 4,
   "metadata": {},
   "outputs": [
    {
     "name": "stdout",
     "output_type": "stream",
     "text": [
      "Num GPUs: 0\n"
     ]
    },
    {
     "name": "stderr",
     "output_type": "stream",
     "text": [
      "2023-05-10 17:32:28.244436: E tensorflow/compiler/xla/stream_executor/cuda/cuda_driver.cc:266] failed call to cuInit: CUDA_ERROR_NO_DEVICE: no CUDA-capable device is detected\n",
      "2023-05-10 17:32:28.244476: I tensorflow/compiler/xla/stream_executor/cuda/cuda_diagnostics.cc:168] retrieving CUDA diagnostic information for host: cmsgpu01.hep.wisc.edu\n",
      "2023-05-10 17:32:28.244483: I tensorflow/compiler/xla/stream_executor/cuda/cuda_diagnostics.cc:175] hostname: cmsgpu01.hep.wisc.edu\n",
      "2023-05-10 17:32:28.244572: I tensorflow/compiler/xla/stream_executor/cuda/cuda_diagnostics.cc:199] libcuda reported version is: 530.30.2\n",
      "2023-05-10 17:32:28.244607: I tensorflow/compiler/xla/stream_executor/cuda/cuda_diagnostics.cc:203] kernel reported version is: 530.30.2\n",
      "2023-05-10 17:32:28.244614: I tensorflow/compiler/xla/stream_executor/cuda/cuda_diagnostics.cc:309] kernel version seems to match DSO: 530.30.2\n"
     ]
    }
   ],
   "source": [
    "PRETRAINED = True\n",
    "physical_devices = tf.config.list_physical_devices('GPU')\n",
    "print(\"Num GPUs:\", len(physical_devices))"
   ]
  },
  {
   "cell_type": "code",
   "execution_count": 5,
   "metadata": {
    "colab": {
     "base_uri": "https://localhost:8080/"
    },
    "executionInfo": {
     "elapsed": 46652,
     "status": "ok",
     "timestamp": 1676908823040,
     "user": {
      "displayName": "HARSHIT SHARMA",
      "userId": "03646130816822692409"
     },
     "user_tz": 360
    },
    "id": "bQwUMEaT0AVu",
    "outputId": "e8bfa712-d298-4bd0-c9e8-96d7c52cb333"
   },
   "outputs": [
    {
     "name": "stderr",
     "output_type": "stream",
     "text": [
      "100%|██████████| 10000/10000 [00:00<00:00, 39297.16it/s]\n"
     ]
    },
    {
     "data": {
      "text/plain": [
       "(10000, 10000)"
      ]
     },
     "execution_count": 5,
     "metadata": {},
     "output_type": "execute_result"
    }
   ],
   "source": [
    "#TODO: Data generation\n",
    "BASE_PATH = \"/nfs_scratch/hsharma/MachineLearning/ClusterFinder/data/images/\"\n",
    "IMG_PATH = 'input/'\n",
    "ANNOTATION_PATH = 'trimaps/'\n",
    "num = 10000\n",
    "\n",
    "input_img_paths = sorted(\n",
    "    [\n",
    "        os.path.join(BASE_PATH, IMG_PATH, fname)\n",
    "        for fname in os.listdir(BASE_PATH+IMG_PATH)\n",
    "        if fname.endswith(\".png\") and \"(\" not in fname\n",
    "    ]\n",
    ")[:num]\n",
    "\n",
    "\n",
    "annotation_img_paths = []\n",
    "\n",
    "for fname in tqdm(input_img_paths[:num]):\n",
    "    annp = os.path.join(BASE_PATH, ANNOTATION_PATH, fname.split(\"/\")[-1].replace(\"img\", \"annm\"))\n",
    "    if os.path.isfile(annp):\n",
    "        annotation_img_paths.append(annp)\n",
    "        input_img_paths.append(fname)\n",
    "    else:\n",
    "        pass\n",
    "\n",
    "input_img_paths = input_img_paths[num:]\n",
    "len(input_img_paths), len(annotation_img_paths)"
   ]
  },
  {
   "cell_type": "code",
   "execution_count": 6,
   "metadata": {
    "colab": {
     "base_uri": "https://localhost:8080/"
    },
    "executionInfo": {
     "elapsed": 8,
     "status": "ok",
     "timestamp": 1676908823041,
     "user": {
      "displayName": "HARSHIT SHARMA",
      "userId": "03646130816822692409"
     },
     "user_tz": 360
    },
    "id": "dJnwPUOzM09F",
    "outputId": "20864d78-0023-4666-b1ad-bd26395fddd1"
   },
   "outputs": [
    {
     "data": {
      "text/plain": [
       "[]"
      ]
     },
     "execution_count": 6,
     "metadata": {},
     "output_type": "execute_result"
    }
   ],
   "source": [
    "[x for x in input_img_paths if \"(\" in x]"
   ]
  },
  {
   "cell_type": "code",
   "execution_count": 7,
   "metadata": {
    "colab": {
     "base_uri": "https://localhost:8080/"
    },
    "executionInfo": {
     "elapsed": 134,
     "status": "ok",
     "timestamp": 1676908823170,
     "user": {
      "displayName": "HARSHIT SHARMA",
      "userId": "03646130816822692409"
     },
     "user_tz": 360
    },
    "id": "nLoE53Sa_D9G",
    "outputId": "fdbcaa3d-c838-4f63-8c26-1aadf7716557"
   },
   "outputs": [
    {
     "data": {
      "text/plain": [
       "('/nfs_scratch/hsharma/MachineLearning/ClusterFinder/data/images/input/ECAL_img_0.png',\n",
       " '/nfs_scratch/hsharma/MachineLearning/ClusterFinder/data/images/trimaps/ECAL_annm_0.png')"
      ]
     },
     "execution_count": 7,
     "metadata": {},
     "output_type": "execute_result"
    }
   ],
   "source": [
    "input_img_paths[0], annotation_img_paths[0]"
   ]
  },
  {
   "cell_type": "code",
   "execution_count": 8,
   "metadata": {
    "colab": {
     "base_uri": "https://localhost:8080/",
     "height": 937
    },
    "executionInfo": {
     "elapsed": 3574,
     "status": "ok",
     "timestamp": 1676908826741,
     "user": {
      "displayName": "HARSHIT SHARMA",
      "userId": "03646130816822692409"
     },
     "user_tz": 360
    },
    "id": "E62hiSoV0AXi",
    "outputId": "9974e98f-26fa-44ea-8d50-7ecf4299163c"
   },
   "outputs": [
    {
     "name": "stdout",
     "output_type": "stream",
     "text": [
      "[2376 3081 4378 1164]\n"
     ]
    },
    {
     "data": {
      "image/png": "[encoded data removed]",
      "text/plain": [
       "<Figure size 1200x1600 with 8 Axes>"
      ]
     },
     "metadata": {},
     "output_type": "display_data"
    }
   ],
   "source": [
    "num_example_to_display = 4\n",
    "\n",
    "sample_idxs = np.random.randint(0, len(input_img_paths)-1, size=(num_example_to_display,))\n",
    "#sample_idxs = [0, 1, 2, 3]\n",
    "print(sample_idxs)\n",
    "\n",
    "fig, axs = plt.subplots(nrows=num_example_to_display, ncols=2, figsize=(12,4*num_example_to_display))\n",
    "\n",
    "for i, sample_idx in enumerate(sample_idxs):\n",
    "  img = Image.open(input_img_paths[sample_idx]) \n",
    "  mask = Image.open(annotation_img_paths[sample_idx])\n",
    "  #img = Image.fromarray(np.array(img))\n",
    "  axs[i][0].imshow(img)\n",
    "  axs[i][1].imshow(mask, cmap='gray')"
   ]
  },
  {
   "cell_type": "code",
   "execution_count": 1,
   "metadata": {
    "executionInfo": {
     "elapsed": 2,
     "status": "ok",
     "timestamp": 1676908826741,
     "user": {
      "displayName": "HARSHIT SHARMA",
      "userId": "03646130816822692409"
     },
     "user_tz": 360
    },
    "id": "5iuTPwRA0OWN"
   },
   "outputs": [],
   "source": [
    "IMG_SHAPE = 32\n",
    "\n",
    "def normalize(image, mask):\n",
    "    image = tf.cast(image, tf.float32) / 255.0\n",
    "    mask -= 1\n",
    "    return image, mask\n",
    "\n",
    "def load_and_preprocess(img_filepath, mask_filepath):\n",
    "    img = tf.io.read_file(img_filepath)\n",
    "    img = tf.io.decode_jpeg(img, channels=3)\n",
    "    img = tf.image.resize(img, [IMG_SHAPE, IMG_SHAPE])\n",
    "\n",
    "    mask = tf.io.read_file(mask_filepath)\n",
    "    mask = tf.io.decode_png(mask, channels=1)\n",
    "    mask = tf.image.resize(mask, [IMG_SHAPE, IMG_SHAPE])\n",
    "\n",
    "    img, mask = normalize(img, mask)\n",
    "\n",
    "    return img, mask"
   ]
  },
  {
   "cell_type": "code",
   "execution_count": 2,
   "metadata": {
    "executionInfo": {
     "elapsed": 2429,
     "status": "ok",
     "timestamp": 1676908829168,
     "user": {
      "displayName": "HARSHIT SHARMA",
      "userId": "03646130816822692409"
     },
     "user_tz": 360
    },
    "id": "XU2h5tne0OX5"
   },
   "outputs": [
    {
     "ename": "NameError",
     "evalue": "name 'tf' is not defined",
     "output_type": "error",
     "traceback": [
      "\u001b[0;31m---------------------------------------------------------------------------\u001b[0m",
      "\u001b[0;31mNameError\u001b[0m                                 Traceback (most recent call last)",
      "\u001b[0;32m/tmp/ipykernel_14180/369905271.py\u001b[0m in \u001b[0;36m<cell line: 1>\u001b[0;34m()\u001b[0m\n\u001b[0;32m----> 1\u001b[0;31m \u001b[0mAUTO\u001b[0m \u001b[0;34m=\u001b[0m \u001b[0mtf\u001b[0m\u001b[0;34m.\u001b[0m\u001b[0mdata\u001b[0m\u001b[0;34m.\u001b[0m\u001b[0mexperimental\u001b[0m\u001b[0;34m.\u001b[0m\u001b[0mAUTOTUNE\u001b[0m\u001b[0;34m\u001b[0m\u001b[0;34m\u001b[0m\u001b[0m\n\u001b[0m\u001b[1;32m      2\u001b[0m \u001b[0mBATCH_SIZE\u001b[0m \u001b[0;34m=\u001b[0m \u001b[0;36m32\u001b[0m\u001b[0;34m\u001b[0m\u001b[0;34m\u001b[0m\u001b[0m\n\u001b[1;32m      3\u001b[0m \u001b[0;34m\u001b[0m\u001b[0m\n\u001b[1;32m      4\u001b[0m \u001b[0minput_img_paths\u001b[0m\u001b[0;34m,\u001b[0m \u001b[0mannotation_img_paths\u001b[0m \u001b[0;34m=\u001b[0m \u001b[0mshuffle\u001b[0m\u001b[0;34m(\u001b[0m\u001b[0minput_img_paths\u001b[0m\u001b[0;34m,\u001b[0m \u001b[0mannotation_img_paths\u001b[0m\u001b[0;34m,\u001b[0m \u001b[0mrandom_state\u001b[0m\u001b[0;34m=\u001b[0m\u001b[0;36m42\u001b[0m\u001b[0;34m)\u001b[0m\u001b[0;34m\u001b[0m\u001b[0;34m\u001b[0m\u001b[0m\n\u001b[1;32m      5\u001b[0m \u001b[0minput_img_paths_train\u001b[0m\u001b[0;34m,\u001b[0m \u001b[0mannotation_img_paths_train\u001b[0m \u001b[0;34m=\u001b[0m \u001b[0minput_img_paths\u001b[0m\u001b[0;34m[\u001b[0m\u001b[0;34m:\u001b[0m \u001b[0;34m-\u001b[0m\u001b[0;36m1200\u001b[0m\u001b[0;34m]\u001b[0m\u001b[0;34m,\u001b[0m \u001b[0mannotation_img_paths\u001b[0m\u001b[0;34m[\u001b[0m\u001b[0;34m:\u001b[0m \u001b[0;34m-\u001b[0m\u001b[0;36m1200\u001b[0m\u001b[0;34m]\u001b[0m\u001b[0;34m\u001b[0m\u001b[0;34m\u001b[0m\u001b[0m\n",
      "\u001b[0;31mNameError\u001b[0m: name 'tf' is not defined"
     ]
    }
   ],
   "source": [
    "AUTO = tf.data.experimental.AUTOTUNE\n",
    "BATCH_SIZE = 32\n",
    "\n",
    "input_img_paths, annotation_img_paths = shuffle(input_img_paths, annotation_img_paths, random_state=42)\n",
    "input_img_paths_train, annotation_img_paths_train = input_img_paths[: -1200], annotation_img_paths[: -1200]\n",
    "input_img_paths_test, annotation_img_paths_test = input_img_paths[-1200:-800], annotation_img_paths[-1200:-800]\n",
    "\n",
    "trainloader = tf.data.Dataset.from_tensor_slices((input_img_paths_train, annotation_img_paths_train))\n",
    "testloader = tf.data.Dataset.from_tensor_slices((input_img_paths_test, annotation_img_paths_test))\n",
    "\n",
    "trainloader = (\n",
    "    trainloader\n",
    "    .shuffle(1024)\n",
    "    .map(load_and_preprocess, num_parallel_calls=AUTO)\n",
    "    .batch(BATCH_SIZE)\n",
    "    .prefetch(AUTO)\n",
    ")\n",
    "\n",
    "testloader = (\n",
    "    testloader\n",
    "    .map(load_and_preprocess, num_parallel_calls=AUTO)\n",
    "    .batch(BATCH_SIZE)\n",
    "    .prefetch(AUTO)\n",
    ")"
   ]
  },
  {
   "cell_type": "code",
   "execution_count": null,
   "metadata": {
    "executionInfo": {
     "elapsed": 2,
     "status": "ok",
     "timestamp": 1676908829168,
     "user": {
      "displayName": "HARSHIT SHARMA",
      "userId": "03646130816822692409"
     },
     "user_tz": 360
    },
    "id": "9DBLQ6sDUXZU"
   },
   "outputs": [],
   "source": [
    "input_img_paths_test, annotation_img_paths_test = input_img_paths[-800:], annotation_img_paths[-800:]\n",
    "maintestloader = tf.data.Dataset.from_tensor_slices((input_img_paths_test, annotation_img_paths_test))\n",
    "\n",
    "maintestloader = (\n",
    "    maintestloader\n",
    "    .map(load_and_preprocess, num_parallel_calls=AUTO)\n",
    "    .batch(BATCH_SIZE)\n",
    "    .prefetch(AUTO)\n",
    ")"
   ]
  },
  {
   "cell_type": "code",
   "execution_count": 12,
   "metadata": {
    "colab": {
     "base_uri": "https://localhost:8080/",
     "height": 919
    },
    "executionInfo": {
     "elapsed": 8925,
     "status": "ok",
     "timestamp": 1676908838090,
     "user": {
      "displayName": "HARSHIT SHARMA",
      "userId": "03646130816822692409"
     },
     "user_tz": 360
    },
    "id": "Mm4bl76I0OZ8",
    "outputId": "060fe625-0cc8-4e48-ae1d-55ff4a1104ce"
   },
   "outputs": [
    {
     "name": "stderr",
     "output_type": "stream",
     "text": [
      "2023-05-10 17:32:30.639051: I tensorflow/core/common_runtime/executor.cc:1197] [/device:CPU:0] (DEBUG INFO) Executor start aborting (this does not indicate an error and you can ignore this message): INVALID_ARGUMENT: You must feed a value for placeholder tensor 'Placeholder/_1' with dtype string and shape [8800]\n",
      "\t [[{{node Placeholder/_1}}]]\n",
      "2023-05-10 17:32:30.639874: I tensorflow/core/common_runtime/executor.cc:1197] [/device:CPU:0] (DEBUG INFO) Executor start aborting (this does not indicate an error and you can ignore this message): INVALID_ARGUMENT: You must feed a value for placeholder tensor 'Placeholder/_1' with dtype string and shape [8800]\n",
      "\t [[{{node Placeholder/_1}}]]\n"
     ]
    },
    {
     "data": {
      "image/png": "[encoded data removed]",
      "text/plain": [
       "<Figure size 1200x1600 with 8 Axes>"
      ]
     },
     "metadata": {},
     "output_type": "display_data"
    }
   ],
   "source": [
    "num_example_to_display = 4\n",
    "\n",
    "img, mask = next(iter(trainloader))\n",
    "\n",
    "fig, axs = plt.subplots(nrows=num_example_to_display, ncols=2, figsize=(12,4*num_example_to_display))\n",
    "\n",
    "for i in range(num_example_to_display):\n",
    "  axs[i][0].imshow(img[i]);\n",
    "  axs[i][1].imshow(np.squeeze(mask[i],-1), cmap='gray');"
   ]
  },
  {
   "cell_type": "code",
   "execution_count": 13,
   "metadata": {
    "colab": {
     "base_uri": "https://localhost:8080/"
    },
    "executionInfo": {
     "elapsed": 9,
     "status": "ok",
     "timestamp": 1676908838091,
     "user": {
      "displayName": "HARSHIT SHARMA",
      "userId": "03646130816822692409"
     },
     "user_tz": 360
    },
    "id": "nusSCFINN2IQ",
    "outputId": "521b9660-801d-4fd7-cfbc-9ce9a734d18a"
   },
   "outputs": [
    {
     "data": {
      "text/plain": [
       "TensorShape([32, 32, 1])"
      ]
     },
     "execution_count": 13,
     "metadata": {},
     "output_type": "execute_result"
    }
   ],
   "source": [
    "mask[0].shape"
   ]
  },
  {
   "cell_type": "markdown",
   "metadata": {},
   "source": [
    "### Modeling"
   ]
  },
  {
   "cell_type": "code",
   "execution_count": 14,
   "metadata": {
    "executionInfo": {
     "elapsed": 8,
     "status": "ok",
     "timestamp": 1676908838091,
     "user": {
      "displayName": "HARSHIT SHARMA",
      "userId": "03646130816822692409"
     },
     "user_tz": 360
    },
    "id": "X_4aq1Qg0Oby"
   },
   "outputs": [],
   "source": [
    "# ref: https://github.com/ayulockin/deepimageinpainting/blob/master/Image_Inpainting_Autoencoder_Decoder_v2_0.ipynb\n",
    "class SegmentationModel:\n",
    "    '''\n",
    "    Build UNET based model for segmentation task.\n",
    "    '''\n",
    "    def prepare_model(self, OUTPUT_CHANNEL, input_size=(IMG_SHAPE,IMG_SHAPE,3)):\n",
    "        inputs = Input(input_size)\n",
    "\n",
    "        conv1, pool1 = self.__ConvBlock(32, (3,3), (2,2), 'relu', 'same', inputs) \n",
    "        conv2, pool2 = self.__ConvBlock(64, (3,3), (2,2), 'relu', 'same', pool1)\n",
    "        conv3, pool3 = self.__ConvBlock(128, (3,3), (2,2), 'relu', 'same', pool2) \n",
    "        conv4, pool4 = self.__ConvBlock(256, (3,3), (2,2), 'relu', 'same', pool3) \n",
    "\n",
    "        conv5, up6 = self.__UpConvBlock(512, 256, (3,3), (2,2), (2,2), 'relu', 'same', pool4, conv4)\n",
    "        conv6, up7 = self.__UpConvBlock(256, 128, (3,3), (2,2), (2,2), 'relu', 'same', up6, conv3)\n",
    "        conv7, up8 = self.__UpConvBlock(128, 64, (3,3), (2,2), (2,2), 'relu', 'same', up7, conv2)\n",
    "        conv8, up9 = self.__UpConvBlock(64, 32, (3,3), (2,2), (2,2), 'relu', 'same', up8, conv1)\n",
    "\n",
    "        conv9 = self.__ConvBlock(32, (3,3), (2,2), 'relu', 'same', up9, False)\n",
    "\n",
    "        outputs = Conv2D(OUTPUT_CHANNEL, (3, 3), activation='softmax', padding='same')(conv9)\n",
    "\n",
    "        return Model(inputs=[inputs], outputs=[outputs])  \n",
    "\n",
    "    def __ConvBlock(self, filters, kernel_size, pool_size, activation, padding, connecting_layer, pool_layer=True):\n",
    "        conv = Conv2D(filters=filters, kernel_size=kernel_size, activation=activation, padding=padding)(connecting_layer)\n",
    "        conv = Conv2D(filters=filters, kernel_size=kernel_size, activation=activation, padding=padding)(conv)\n",
    "        if pool_layer:\n",
    "            pool = MaxPooling2D(pool_size)(conv)\n",
    "            return conv, pool\n",
    "        else:\n",
    "            return conv\n",
    "\n",
    "    def __UpConvBlock(self, filters, up_filters, kernel_size, up_kernel, up_stride, activation, padding, connecting_layer, shared_layer):\n",
    "        conv = Conv2D(filters=filters, kernel_size=kernel_size, activation=activation, padding=padding)(connecting_layer)\n",
    "        conv = Conv2D(filters=filters, kernel_size=kernel_size, activation=activation, padding=padding)(conv)\n",
    "        up = Conv2DTranspose(filters=up_filters, kernel_size=up_kernel, strides=up_stride, padding=padding)(conv)\n",
    "        up = concatenate([up, shared_layer], axis=3)\n",
    "\n",
    "        return conv, up"
   ]
  },
  {
   "cell_type": "code",
   "execution_count": 15,
   "metadata": {
    "executionInfo": {
     "elapsed": 8,
     "status": "ok",
     "timestamp": 1676908838091,
     "user": {
      "displayName": "HARSHIT SHARMA",
      "userId": "03646130816822692409"
     },
     "user_tz": 360
    },
    "id": "fg2voL_fuuXP"
   },
   "outputs": [],
   "source": [
    "class UNETLiteModel:\n",
    "    '''\n",
    "    Build UNET based model for segmentation task.\n",
    "    '''\n",
    "    def prepare_model(self, OUTPUT_CHANNEL, input_size=(IMG_SHAPE,IMG_SHAPE,3)):\n",
    "        inputs = Input(input_size)\n",
    "\n",
    "        conv1, pool1 = self.__ConvBlock(8, (3,3), (2,2), 'relu', 'same', inputs) \n",
    "        conv2, pool2 = self.__ConvBlock(16, (3,3), (2,2), 'relu', 'same', pool1)\n",
    "        conv3, pool3 = self.__ConvBlock(32, (3,3), (2,2), 'relu', 'same', pool2) \n",
    "\n",
    "        conv5, up6 = self.__UpConvBlock(64, 32, (3,3), (2,2), (2,2), 'relu', 'same', pool3, conv3)\n",
    "        conv6, up7 = self.__UpConvBlock(32, 16, (3,3), (2,2), (2,2), 'relu', 'same', up6, conv2)\n",
    "        conv7, up8 = self.__UpConvBlock(16, 8, (3,3), (2,2), (2,2), 'relu', 'same', up7, conv1)\n",
    "\n",
    "        conv8 = self.__ConvBlock(8, (3,3), (2,2), 'relu', 'same', up8, False)\n",
    "\n",
    "        outputs = Conv2D(OUTPUT_CHANNEL, (3, 3), activation='softmax', padding='same')(conv8)\n",
    "\n",
    "        return Model(inputs=[inputs], outputs=[outputs])  \n",
    "\n",
    "    def __ConvBlock(self, filters, kernel_size, pool_size, activation, padding, connecting_layer, pool_layer=True):\n",
    "        conv = Conv2D(filters=filters, kernel_size=kernel_size, activation=activation, padding=padding)(connecting_layer)\n",
    "        conv = Conv2D(filters=filters, kernel_size=kernel_size, activation=activation, padding=padding)(conv)\n",
    "        if pool_layer:\n",
    "            pool = MaxPooling2D(pool_size)(conv)\n",
    "            return conv, pool\n",
    "        else:\n",
    "            return conv\n",
    "\n",
    "    def __UpConvBlock(self, filters, up_filters, kernel_size, up_kernel, up_stride, activation, padding, connecting_layer, shared_layer):\n",
    "        conv = Conv2D(filters=filters, kernel_size=kernel_size, activation=activation, padding=padding)(connecting_layer)\n",
    "        conv = Conv2D(filters=filters, kernel_size=kernel_size, activation=activation, padding=padding)(conv)\n",
    "        up = Conv2DTranspose(filters=up_filters, kernel_size=up_kernel, strides=up_stride, padding=padding)(conv)\n",
    "        up = concatenate([up, shared_layer], axis=3)\n",
    "\n",
    "        return conv, up"
   ]
  },
  {
   "cell_type": "code",
   "execution_count": 16,
   "metadata": {},
   "outputs": [],
   "source": [
    "class UNETLiteV2Model:\n",
    "    '''\n",
    "    Build UNET based model for segmentation task.\n",
    "    '''\n",
    "    def prepare_model(self, OUTPUT_CHANNEL, input_size=(IMG_SHAPE,IMG_SHAPE,3)):\n",
    "        inputs = Input(input_size)\n",
    "\n",
    "        conv1, pool1 = self.__ConvBlock(8, (3,3), (2,2), 'relu', 'same', inputs) \n",
    "        conv2, pool2 = self.__ConvBlock(16, (3,3), (2,2), 'relu', 'same', pool1)\n",
    "        \n",
    "        conv5, up6 = self.__UpConvBlock(32, 16, (3,3), (2,2), (2,2), 'relu', 'same', pool2, conv2)\n",
    "        conv6, up7 = self.__UpConvBlock(16, 8, (3,3), (2,2), (2,2), 'relu', 'same', up6, conv1)\n",
    "\n",
    "        conv7 = self.__ConvBlock(8, (3,3), (2,2), 'relu', 'same', up7, False)\n",
    "\n",
    "        outputs = Conv2D(OUTPUT_CHANNEL, (3, 3), activation='softmax', padding='same')(conv7)\n",
    "\n",
    "        return Model(inputs=[inputs], outputs=[outputs])  \n",
    "\n",
    "    def __ConvBlock(self, filters, kernel_size, pool_size, activation, padding, connecting_layer, pool_layer=True):\n",
    "        conv = Conv2D(filters=filters, kernel_size=kernel_size, activation=activation, padding=padding)(connecting_layer)\n",
    "        conv = Conv2D(filters=filters, kernel_size=kernel_size, activation=activation, padding=padding)(conv)\n",
    "        if pool_layer:\n",
    "            pool = MaxPooling2D(pool_size)(conv)\n",
    "            return conv, pool\n",
    "        else:\n",
    "            return conv\n",
    "\n",
    "    def __UpConvBlock(self, filters, up_filters, kernel_size, up_kernel, up_stride, activation, padding, connecting_layer, shared_layer):\n",
    "        conv = Conv2D(filters=filters, kernel_size=kernel_size, activation=activation, padding=padding)(connecting_layer)\n",
    "        conv = Conv2D(filters=filters, kernel_size=kernel_size, activation=activation, padding=padding)(conv)\n",
    "        up = Conv2DTranspose(filters=up_filters, kernel_size=up_kernel, strides=up_stride, padding=padding)(conv)\n",
    "        up = concatenate([up, shared_layer], axis=3)\n",
    "\n",
    "        return conv, up"
   ]
  },
  {
   "cell_type": "code",
   "execution_count": 17,
   "metadata": {},
   "outputs": [],
   "source": [
    "class UNETLiteV3Model:\n",
    "    '''\n",
    "    Build UNET based model for segmentation task.\n",
    "    '''\n",
    "    def prepare_model(self, OUTPUT_CHANNEL, input_size=(IMG_SHAPE,IMG_SHAPE,3)):\n",
    "        inputs = Input(input_size)\n",
    "\n",
    "        conv1, pool1 = self.__ConvBlock(4, (3,3), (2,2), 'relu', 'same', inputs) \n",
    "        conv2, pool2 = self.__ConvBlock(8, (3,3), (2,2), 'relu', 'same', pool1)\n",
    "        \n",
    "        conv5, up6 = self.__UpConvBlock(16, 8, (3,3), (2,2), (2,2), 'relu', 'same', pool2, conv2)\n",
    "        conv6, up7 = self.__UpConvBlock(8, 4, (3,3), (2,2), (2,2), 'relu', 'same', up6, conv1)\n",
    "\n",
    "        conv7 = self.__ConvBlock(4, (3,3), (2,2), 'relu', 'same', up7, False)\n",
    "\n",
    "        outputs = Conv2D(OUTPUT_CHANNEL, (3, 3), activation='softmax', padding='same')(conv7)\n",
    "\n",
    "        return Model(inputs=[inputs], outputs=[outputs])  \n",
    "\n",
    "    def __ConvBlock(self, filters, kernel_size, pool_size, activation, padding, connecting_layer, pool_layer=True):\n",
    "        conv = Conv2D(filters=filters, kernel_size=kernel_size, activation=activation, padding=padding)(connecting_layer)\n",
    "        conv = Conv2D(filters=filters, kernel_size=kernel_size, activation=activation, padding=padding)(conv)\n",
    "        if pool_layer:\n",
    "            pool = MaxPooling2D(pool_size)(conv)\n",
    "            return conv, pool\n",
    "        else:\n",
    "            return conv\n",
    "\n",
    "    def __UpConvBlock(self, filters, up_filters, kernel_size, up_kernel, up_stride, activation, padding, connecting_layer, shared_layer):\n",
    "        conv = Conv2D(filters=filters, kernel_size=kernel_size, activation=activation, padding=padding)(connecting_layer)\n",
    "        conv = Conv2D(filters=filters, kernel_size=kernel_size, activation=activation, padding=padding)(conv)\n",
    "        up = Conv2DTranspose(filters=up_filters, kernel_size=up_kernel, strides=up_stride, padding=padding)(conv)\n",
    "        up = concatenate([up, shared_layer], axis=3)\n",
    "\n",
    "        return conv, up"
   ]
  },
  {
   "cell_type": "code",
   "execution_count": 18,
   "metadata": {},
   "outputs": [],
   "source": [
    "class UNETLiteV4Model:\n",
    "    '''\n",
    "    Build UNET based model for segmentation task.\n",
    "    '''\n",
    "    def prepare_model(self, OUTPUT_CHANNEL, input_size=(IMG_SHAPE,IMG_SHAPE,3)):\n",
    "        inputs = Input(input_size)\n",
    "\n",
    "        conv1, pool1 = self.__ConvBlock(4, (3,3), (2,2), 'relu', 'same', inputs) \n",
    "        conv2, up3 = self.__UpConvBlock(8, 4, (3,3), (2,2), (2,2), 'relu', 'same', pool1, conv1)\n",
    "\n",
    "        conv4 = self.__ConvBlock(4, (3,3), (2,2), 'relu', 'same', up3, False)\n",
    "\n",
    "        outputs = Conv2D(OUTPUT_CHANNEL, (3, 3), activation='softmax', padding='same')(conv4)\n",
    "\n",
    "        return Model(inputs=[inputs], outputs=[outputs])  \n",
    "\n",
    "    def __ConvBlock(self, filters, kernel_size, pool_size, activation, padding, connecting_layer, pool_layer=True):\n",
    "        conv = Conv2D(filters=filters, kernel_size=kernel_size, activation=activation, padding=padding)(connecting_layer)\n",
    "        conv = Conv2D(filters=filters, kernel_size=kernel_size, activation=activation, padding=padding)(conv)\n",
    "        if pool_layer:\n",
    "            pool = MaxPooling2D(pool_size)(conv)\n",
    "            return conv, pool\n",
    "        else:\n",
    "            return conv\n",
    "\n",
    "    def __UpConvBlock(self, filters, up_filters, kernel_size, up_kernel, up_stride, activation, padding, connecting_layer, shared_layer):\n",
    "        conv = Conv2D(filters=filters, kernel_size=kernel_size, activation=activation, padding=padding)(connecting_layer)\n",
    "        conv = Conv2D(filters=filters, kernel_size=kernel_size, activation=activation, padding=padding)(conv)\n",
    "        up = Conv2DTranspose(filters=up_filters, kernel_size=up_kernel, strides=up_stride, padding=padding)(conv)\n",
    "        up = concatenate([up, shared_layer], axis=3)\n",
    "\n",
    "        return conv, up"
   ]
  },
  {
   "cell_type": "code",
   "execution_count": 19,
   "metadata": {
    "executionInfo": {
     "elapsed": 8,
     "status": "ok",
     "timestamp": 1676908838091,
     "user": {
      "displayName": "HARSHIT SHARMA",
      "userId": "03646130816822692409"
     },
     "user_tz": 360
    },
    "id": "Ie5iBe7RyFVl"
   },
   "outputs": [],
   "source": [
    "IMG_SHAPE = 32\n",
    "\n",
    "class EnetModel:\n",
    "    '''\n",
    "    Build ENET based model for segmentation task.\n",
    "    Built for FPGA 240x152 implementation\n",
    "    '''\n",
    "  \n",
    "    def prepare_model(self, OUTPUT_CHANNEL, input_size=(IMG_SHAPE,IMG_SHAPE,3)):\n",
    "        # 8x Resolution Model\n",
    "        fi, f1, f2, f3, f4, f5 = 32, 64, 64, 64, 128, 48\n",
    "\n",
    "        # 240 x 152\n",
    "        inputs = Input(input_size)\n",
    "\n",
    "        initial = self.__InitialBlock(29, (3, 3), (2,2), inputs)\n",
    "        encode1 = self.__EncoderBlock(fi, f1, initial)\n",
    "        encode2 = self.__EncoderBlock(f1, f2, encode1)\n",
    "\n",
    "        # 30 x 19 \n",
    "        encode3 = Conv2D(filters=f3, kernel_size=(1, 1))(encode2)\n",
    "        encode3 = BatchNormalization()(encode3)\n",
    "\n",
    "        decode2 = self.__DecoderBlock(f3, f4, encode3)\n",
    "        decode1 = self.__DecoderBlock(f4, f5, decode2)\n",
    "\n",
    "        # 240 x 152\n",
    "        outputs = self.__FinalBlock(OUTPUT_CHANNEL, decode1)\n",
    "\n",
    "        return Model(inputs=[inputs], outputs=[outputs])  \n",
    "\n",
    "    def __InitialBlock(self, filters, kernel_size, pool_size, connecting_layer):\n",
    "        pool_stride = (2, 2)\n",
    "        pool = MaxPooling2D(pool_size, strides=pool_stride)(connecting_layer)\n",
    "\n",
    "        # NOTE: unlike paper we do symmetrical padding (1 around)\n",
    "        padded_pool = ZeroPadding2D(padding=((0, 2), (0, 2)))(pool)\n",
    "        conv_i = Conv2D(filters=filters, kernel_size=kernel_size)(padded_pool)\n",
    "        conv_i = BatchNormalization()(conv_i)\n",
    "\n",
    "        # 3 layers + 29 layers from filters\n",
    "        concat = concatenate([pool, conv_i], axis=-1)\n",
    "        out = Activation(\"relu\")(concat)\n",
    "\n",
    "        return out\n",
    "  \n",
    "    def __FinalBlock(self, channels, connecting_layer):\n",
    "        up_f = UpSampling2D(size=(2, 2))(connecting_layer)\n",
    "        pad_f = ZeroPadding2D(padding=((0, 1), (0, 1)))(up_f)\n",
    "\n",
    "        out = Conv2D(filters = channels, kernel_size=(2, 2), activation=\"softmax\")(pad_f)\n",
    "        return out\n",
    "\n",
    "    def __EncoderBlock(self, filters_i, filters_o, connecting_layer):\n",
    "        pool_size, pool_stride = (2, 2), (2, 2)\n",
    "        pool_1 = MaxPooling2D(pool_size, strides=pool_stride)(connecting_layer)\n",
    "\n",
    "        # main branch\n",
    "        padded_pool_1 = ZeroPadding2D(padding=((0, 1), (0, 1)))(pool_1)\n",
    "        conv_1 = Conv2D(filters=filters_i, kernel_size=(2,2))(padded_pool_1)\n",
    "        conv_1 = BatchNormalization()(conv_1)\n",
    "\n",
    "        x_1 = Activation(\"relu\")(conv_1)\n",
    "\n",
    "        padded_pool_2 = ZeroPadding2D(padding=((0, 2), (0, 2)))(x_1)\n",
    "        conv_2 = Conv2D(filters=filters_i, kernel_size=(3,3))(padded_pool_2)\n",
    "        conv_2 = BatchNormalization()(conv_2)\n",
    "\n",
    "        x_2 = Activation(\"relu\")(conv_2)\n",
    "\n",
    "        conv_3 = Conv2D(filters=filters_o, kernel_size=(1,1))(x_2)\n",
    "        conv_3 = BatchNormalization()(conv_3)\n",
    "\n",
    "        # skip branch\n",
    "        conv_4 = Conv2D(filters=filters_o, kernel_size=(1,1))(pool_1)\n",
    "        conv_4 = BatchNormalization()(conv_4)\n",
    "\n",
    "        # add\n",
    "        merged_layer = add([conv_3, conv_4])\n",
    "        out = Activation(\"relu\")(merged_layer)\n",
    "\n",
    "        return out\n",
    "\n",
    "    def __DecoderBlock(self, filters_i, filters_o, connecting_layer):\n",
    "\n",
    "        # skip branch\n",
    "        conv_1 = Conv2D(filters=filters_o, kernel_size=(1,1))(connecting_layer)\n",
    "        conv_1 = BatchNormalization()(conv_1)\n",
    "        up_1 = UpSampling2D(size=(2, 2))(conv_1)\n",
    "\n",
    "        # main_branch\n",
    "        padded_pool_1 = ZeroPadding2D(padding=((0, 1), (0, 1)))(connecting_layer) # missing from paper\n",
    "        conv_2 = Conv2D(filters=filters_i, kernel_size=(2,2))(padded_pool_1)\n",
    "        conv_2 = BatchNormalization()(conv_2)\n",
    "\n",
    "        x_2 = Activation(\"relu\")(conv_2)\n",
    "\n",
    "        up_2 = UpSampling2D(size=(2, 2))(x_2)\n",
    "        padded_pool_2 = ZeroPadding2D(padding=((0, 2), (0, 2)))(up_2)\n",
    "\n",
    "        conv_3 = Conv2D(filters=filters_i, kernel_size=(3,3))(padded_pool_2)\n",
    "        conv_3 = BatchNormalization()(conv_3)\n",
    "\n",
    "        x_3 = Activation(\"relu\")(conv_3)\n",
    "\n",
    "        conv_4 = Conv2D(filters=filters_o, kernel_size=(1, 1))(x_3)\n",
    "        conv_4 = BatchNormalization()(conv_4)\n",
    "\n",
    "        # Add and ReLU\n",
    "        merged_layer = add([up_1, conv_4])\n",
    "        out = Activation(\"relu\")(merged_layer)\n",
    "\n",
    "        return out"
   ]
  },
  {
   "cell_type": "code",
   "execution_count": 20,
   "metadata": {
    "executionInfo": {
     "elapsed": 7,
     "status": "ok",
     "timestamp": 1676908838091,
     "user": {
      "displayName": "HARSHIT SHARMA",
      "userId": "03646130816822692409"
     },
     "user_tz": 360
    },
    "id": "sJwWTjVcIAGS"
   },
   "outputs": [],
   "source": [
    "IMG_SHAPE = 32\n",
    "\n",
    "class QEnetModel:\n",
    "    '''\n",
    "      Build ENET based model for segmentation task.\n",
    "      Built for FPGA 240x152 implementation\n",
    "    '''\n",
    "    def prepare_model(self, OUTPUT_CHANNEL, input_size=(IMG_SHAPE,IMG_SHAPE,3)):\n",
    "        # 8x Resolution Model\n",
    "        fi, f1, f2, f3, f4, f5 = 32, 64, 64, 64, 128, 48\n",
    "\n",
    "        # 240 x 152\n",
    "        inputs = Input(input_size)\n",
    "\n",
    "        initial = self.__InitialBlock(29, (3, 3), (2,2), inputs)\n",
    "        encode1 = self.__EncoderBlock(fi, f1, initial)\n",
    "        encode2 = self.__EncoderBlock(f1, f2, encode1)\n",
    "\n",
    "        # 30 x 19 \n",
    "        encode3 = QConv2DBatchnorm(filters=f3, kernel_size=(1, 1))(encode2)\n",
    "\n",
    "        decode2 = self.__DecoderBlock(f3, f4, encode3)\n",
    "        decode1 = self.__DecoderBlock(f4, f5, decode2)\n",
    "\n",
    "        # 240 x 152\n",
    "        outputs = self.__FinalBlock(OUTPUT_CHANNEL, decode1)\n",
    "\n",
    "        return Model(inputs=[inputs], outputs=[outputs])  \n",
    "\n",
    "    def __InitialBlock(self, filters, kernel_size, pool_size, connecting_layer):\n",
    "        pool_stride = (2, 2)\n",
    "        pool = MaxPooling2D(pool_size, strides=pool_stride)(connecting_layer)\n",
    "\n",
    "        # NOTE: unlike paper we do symmetrical padding (1 around)\n",
    "        padded_pool = ZeroPadding2D(padding=((0, 2), (0, 2)))(pool)\n",
    "        conv_i = QConv2DBatchnorm(filters=filters, kernel_size=kernel_size)(padded_pool)\n",
    "\n",
    "        # 3 layers + 29 layers from filters\n",
    "        concat = concatenate([pool, conv_i], axis=-1)\n",
    "        out = Activation(\"relu\")(concat)\n",
    "\n",
    "        return out\n",
    "  \n",
    "    def __FinalBlock(self, channels, connecting_layer):\n",
    "        up_f = UpSampling2D(size=(2, 2))(connecting_layer)\n",
    "        pad_f = ZeroPadding2D(padding=((0, 1), (0, 1)))(up_f)\n",
    "\n",
    "        out = QConv2D(filters = channels, kernel_size=(2, 2), activation=\"softmax\")(pad_f)\n",
    "        return out\n",
    "\n",
    "    def __EncoderBlock(self, filters_i, filters_o, connecting_layer):\n",
    "        pool_size, pool_stride = (2, 2), (2, 2)\n",
    "        pool_1 = MaxPooling2D(pool_size, strides=pool_stride)(connecting_layer)\n",
    "\n",
    "        # main branch\n",
    "        padded_pool_1 = ZeroPadding2D(padding=((0, 1), (0, 1)))(pool_1)\n",
    "        conv_1 = QConv2DBatchnorm(filters=filters_i, kernel_size=(2,2))(padded_pool_1)\n",
    "        x_1 = Activation(\"relu\")(conv_1)\n",
    "\n",
    "        padded_pool_2 = ZeroPadding2D(padding=((0, 2), (0, 2)))(x_1)\n",
    "        conv_2 = QConv2DBatchnorm(filters=filters_i, kernel_size=(3,3))(padded_pool_2)\n",
    "        x_2 = Activation(\"relu\")(conv_2)\n",
    "\n",
    "        conv_3 = QConv2DBatchnorm(filters=filters_o, kernel_size=(1,1))(x_2)\n",
    "\n",
    "        # skip branch\n",
    "        conv_4 = QConv2DBatchnorm(filters=filters_o, kernel_size=(1,1))(pool_1)\n",
    "\n",
    "        # add\n",
    "        merged_layer = add([conv_3, conv_4])\n",
    "        out = Activation(\"relu\")(merged_layer)\n",
    "\n",
    "        return out\n",
    "\n",
    "    def __DecoderBlock(self, filters_i, filters_o, connecting_layer):\n",
    "\n",
    "        # skip branch\n",
    "        conv_1 = QConv2DBatchnorm(filters=filters_o, kernel_size=(1,1))(connecting_layer)\n",
    "        up_1 = UpSampling2D(size=(2, 2))(conv_1)\n",
    "\n",
    "        # main_branch\n",
    "        padded_pool_1 = ZeroPadding2D(padding=((0, 1), (0, 1)))(connecting_layer) # missing from paper\n",
    "        conv_2 = QConv2DBatchnorm(filters=filters_i, kernel_size=(2,2))(padded_pool_1)\n",
    "        x_2 = Activation(\"relu\")(conv_2)\n",
    "\n",
    "        up_2 = UpSampling2D(size=(2, 2))(x_2)\n",
    "        padded_pool_2 = ZeroPadding2D(padding=((0, 2), (0, 2)))(up_2)\n",
    "\n",
    "        conv_3 = QConv2DBatchnorm(filters=filters_i, kernel_size=(3,3))(padded_pool_2)\n",
    "        x_3 = Activation(\"relu\")(conv_3)\n",
    "\n",
    "        conv_4 = QConv2DBatchnorm(filters=filters_o, kernel_size=(1, 1))(x_3)\n",
    "\n",
    "        # Add and ReLU\n",
    "        merged_layer = add([up_1, conv_4])\n",
    "        out = Activation(\"relu\")(merged_layer)\n",
    "\n",
    "        return out"
   ]
  },
  {
   "cell_type": "code",
   "execution_count": 21,
   "metadata": {},
   "outputs": [],
   "source": [
    "class HEPAEModel:\n",
    "    '''\n",
    "    Build UNET based model for segmentation task.\n",
    "    '''\n",
    "    def prepare_model(self, OUTPUT_CHANNEL, input_size=(IMG_SHAPE,IMG_SHAPE,3)):\n",
    "        encoding_dim = 8 # 4x Compression\n",
    "        \n",
    "        inputs = Input(input_size)\n",
    "        encoded = Dense(encoding_dim, activation='relu')(inputs)\n",
    "        decoded = Dense(32, activation='softmax')(encoded)\n",
    "\n",
    "        return Model(inputs=[inputs], outputs=[decoded])"
   ]
  },
  {
   "cell_type": "code",
   "execution_count": 22,
   "metadata": {},
   "outputs": [],
   "source": [
    "class HEPCONVModel:\n",
    "    '''\n",
    "    Build UNET based model for segmentation task.\n",
    "    '''\n",
    "    def prepare_model(self, OUTPUT_CHANNEL, input_size=(IMG_SHAPE,IMG_SHAPE,3)):        \n",
    "        inputs = Input(input_size)\n",
    "        \n",
    "        x = Conv2D(16, (3, 3), activation='relu', padding='same')(inputs)\n",
    "        x = MaxPooling2D((2, 2), padding='same')(x)\n",
    "        x = Conv2D(8, (3, 3), activation='relu', padding='same')(x)\n",
    "        x = MaxPooling2D((2, 2), padding='same')(x)\n",
    "        x = Conv2D(8, (3, 3), activation='relu', padding='same')(x)\n",
    "        encoded = MaxPooling2D((2, 2), padding='same')(x)\n",
    "\n",
    "        # at this point the representation is (4, 4, 8) i.e. 128-dimensional\n",
    "\n",
    "        x = Conv2D(8, (3, 3), activation='relu', padding='same')(encoded)\n",
    "        x = UpSampling2D((2, 2))(x)\n",
    "        x = Conv2D(8, (3, 3), activation='relu', padding='same')(x)\n",
    "        x = UpSampling2D((2, 2))(x)\n",
    "        x = Conv2D(16, (3, 3), activation='relu', padding='same')(x)\n",
    "        x = UpSampling2D((2, 2))(x)\n",
    "        decoded = Conv2D(3, (3, 3), activation='softmax', padding='same')(x)\n",
    "\n",
    "        return Model(inputs=[inputs], outputs=[decoded])"
   ]
  },
  {
   "cell_type": "code",
   "execution_count": 23,
   "metadata": {
    "colab": {
     "base_uri": "https://localhost:8080/"
    },
    "executionInfo": {
     "elapsed": 114,
     "status": "ok",
     "timestamp": 1676908838198,
     "user": {
      "displayName": "HARSHIT SHARMA",
      "userId": "03646130816822692409"
     },
     "user_tz": 360
    },
    "id": "XbHhorku0c9z",
    "outputId": "d6c67bbd-75a4-4fd6-ba54-802cda234a05"
   },
   "outputs": [
    {
     "name": "stdout",
     "output_type": "stream",
     "text": [
      "Model: \"model\"\n",
      "__________________________________________________________________________________________________\n",
      " Layer (type)                   Output Shape         Param #     Connected to                     \n",
      "==================================================================================================\n",
      " input_1 (InputLayer)           [(None, 32, 32, 3)]  0           []                               \n",
      "                                                                                                  \n",
      " conv2d (Conv2D)                (None, 32, 32, 32)   896         ['input_1[0][0]']                \n",
      "                                                                                                  \n",
      " conv2d_1 (Conv2D)              (None, 32, 32, 32)   9248        ['conv2d[0][0]']                 \n",
      "                                                                                                  \n",
      " max_pooling2d (MaxPooling2D)   (None, 16, 16, 32)   0           ['conv2d_1[0][0]']               \n",
      "                                                                                                  \n",
      " conv2d_2 (Conv2D)              (None, 16, 16, 64)   18496       ['max_pooling2d[0][0]']          \n",
      "                                                                                                  \n",
      " conv2d_3 (Conv2D)              (None, 16, 16, 64)   36928       ['conv2d_2[0][0]']               \n",
      "                                                                                                  \n",
      " max_pooling2d_1 (MaxPooling2D)  (None, 8, 8, 64)    0           ['conv2d_3[0][0]']               \n",
      "                                                                                                  \n",
      " conv2d_4 (Conv2D)              (None, 8, 8, 128)    73856       ['max_pooling2d_1[0][0]']        \n",
      "                                                                                                  \n",
      " conv2d_5 (Conv2D)              (None, 8, 8, 128)    147584      ['conv2d_4[0][0]']               \n",
      "                                                                                                  \n",
      " max_pooling2d_2 (MaxPooling2D)  (None, 4, 4, 128)   0           ['conv2d_5[0][0]']               \n",
      "                                                                                                  \n",
      " conv2d_6 (Conv2D)              (None, 4, 4, 256)    295168      ['max_pooling2d_2[0][0]']        \n",
      "                                                                                                  \n",
      " conv2d_7 (Conv2D)              (None, 4, 4, 256)    590080      ['conv2d_6[0][0]']               \n",
      "                                                                                                  \n",
      " max_pooling2d_3 (MaxPooling2D)  (None, 2, 2, 256)   0           ['conv2d_7[0][0]']               \n",
      "                                                                                                  \n",
      " conv2d_8 (Conv2D)              (None, 2, 2, 512)    1180160     ['max_pooling2d_3[0][0]']        \n",
      "                                                                                                  \n",
      " conv2d_9 (Conv2D)              (None, 2, 2, 512)    2359808     ['conv2d_8[0][0]']               \n",
      "                                                                                                  \n",
      " conv2d_transpose (Conv2DTransp  (None, 4, 4, 256)   524544      ['conv2d_9[0][0]']               \n",
      " ose)                                                                                             \n",
      "                                                                                                  \n",
      " concatenate (Concatenate)      (None, 4, 4, 512)    0           ['conv2d_transpose[0][0]',       \n",
      "                                                                  'conv2d_7[0][0]']               \n",
      "                                                                                                  \n",
      " conv2d_10 (Conv2D)             (None, 4, 4, 256)    1179904     ['concatenate[0][0]']            \n",
      "                                                                                                  \n",
      " conv2d_11 (Conv2D)             (None, 4, 4, 256)    590080      ['conv2d_10[0][0]']              \n",
      "                                                                                                  \n",
      " conv2d_transpose_1 (Conv2DTran  (None, 8, 8, 128)   131200      ['conv2d_11[0][0]']              \n",
      " spose)                                                                                           \n",
      "                                                                                                  \n",
      " concatenate_1 (Concatenate)    (None, 8, 8, 256)    0           ['conv2d_transpose_1[0][0]',     \n",
      "                                                                  'conv2d_5[0][0]']               \n",
      "                                                                                                  \n",
      " conv2d_12 (Conv2D)             (None, 8, 8, 128)    295040      ['concatenate_1[0][0]']          \n",
      "                                                                                                  \n",
      " conv2d_13 (Conv2D)             (None, 8, 8, 128)    147584      ['conv2d_12[0][0]']              \n",
      "                                                                                                  \n",
      " conv2d_transpose_2 (Conv2DTran  (None, 16, 16, 64)  32832       ['conv2d_13[0][0]']              \n",
      " spose)                                                                                           \n",
      "                                                                                                  \n",
      " concatenate_2 (Concatenate)    (None, 16, 16, 128)  0           ['conv2d_transpose_2[0][0]',     \n",
      "                                                                  'conv2d_3[0][0]']               \n",
      "                                                                                                  \n",
      " conv2d_14 (Conv2D)             (None, 16, 16, 64)   73792       ['concatenate_2[0][0]']          \n",
      "                                                                                                  \n",
      " conv2d_15 (Conv2D)             (None, 16, 16, 64)   36928       ['conv2d_14[0][0]']              \n",
      "                                                                                                  \n",
      " conv2d_transpose_3 (Conv2DTran  (None, 32, 32, 32)  8224        ['conv2d_15[0][0]']              \n",
      " spose)                                                                                           \n",
      "                                                                                                  \n",
      " concatenate_3 (Concatenate)    (None, 32, 32, 64)   0           ['conv2d_transpose_3[0][0]',     \n",
      "                                                                  'conv2d_1[0][0]']               \n",
      "                                                                                                  \n",
      " conv2d_16 (Conv2D)             (None, 32, 32, 32)   18464       ['concatenate_3[0][0]']          \n",
      "                                                                                                  \n",
      " conv2d_17 (Conv2D)             (None, 32, 32, 32)   9248        ['conv2d_16[0][0]']              \n",
      "                                                                                                  \n",
      " conv2d_18 (Conv2D)             (None, 32, 32, 3)    867         ['conv2d_17[0][0]']              \n",
      "                                                                                                  \n",
      "==================================================================================================\n",
      "Total params: 7,760,931\n",
      "Trainable params: 7,760,931\n",
      "Non-trainable params: 0\n",
      "__________________________________________________________________________________________________\n"
     ]
    }
   ],
   "source": [
    "# output channel is 3 because we have three classes in our mask\n",
    "OUTPUT_CHANNEL = 3\n",
    "\n",
    "tf.keras.backend.clear_session()\n",
    "model = SegmentationModel().prepare_model(OUTPUT_CHANNEL, input_size=(32, 32, 3))\n",
    "model.compile(optimizer=\"adam\", loss=\"sparse_categorical_crossentropy\")\n",
    "\n",
    "model.summary()"
   ]
  },
  {
   "cell_type": "code",
   "execution_count": 24,
   "metadata": {
    "executionInfo": {
     "elapsed": 102,
     "status": "ok",
     "timestamp": 1676909316204,
     "user": {
      "displayName": "HARSHIT SHARMA",
      "userId": "03646130816822692409"
     },
     "user_tz": 360
    },
    "id": "PYns25vC0c_k"
   },
   "outputs": [],
   "source": [
    "segmentation_classes = ['cluster', 'cluster_outline', 'background']\n",
    "\n",
    "# returns a dictionary of labels\n",
    "def labels():\n",
    "    l = {}\n",
    "    for i, label in enumerate(segmentation_classes):\n",
    "        l[i] = label\n",
    "    return l\n",
    "\n",
    "# util function for generating interactive image mask from components\n",
    "def wandb_mask(bg_img, pred_mask, true_mask):\n",
    "    return wandb.Image(bg_img, masks={\n",
    "      \"prediction\" : {\n",
    "          \"mask_data\" : pred_mask, \n",
    "          \"class_labels\" : labels()\n",
    "      },\n",
    "      \"ground truth\" : {\n",
    "          \"mask_data\" : true_mask, \n",
    "          \"class_labels\" : labels()\n",
    "      }\n",
    "    }\n",
    "  )"
   ]
  },
  {
   "cell_type": "code",
   "execution_count": 25,
   "metadata": {
    "executionInfo": {
     "elapsed": 94,
     "status": "ok",
     "timestamp": 1676909317846,
     "user": {
      "displayName": "HARSHIT SHARMA",
      "userId": "03646130816822692409"
     },
     "user_tz": 360
    },
    "id": "TOUZOxOg0dBZ"
   },
   "outputs": [],
   "source": [
    "class SemanticLogger(tf.keras.callbacks.Callback):\n",
    "    def __init__(self):\n",
    "        super(SemanticLogger, self).__init__()\n",
    "        self.val_images, self.val_masks = next(iter(testloader))\n",
    "\n",
    "    def on_epoch_end(self, logs, epoch):\n",
    "        pred_masks = self.model.predict(self.val_images)\n",
    "        pred_masks = np.argmax(pred_masks, axis=-1)\n",
    "\n",
    "        val_images = tf.image.convert_image_dtype(self.val_images, tf.uint8)\n",
    "        val_masks = tf.image.convert_image_dtype(self.val_masks, tf.uint8)\n",
    "        val_masks = tf.squeeze(val_masks, axis=-1)\n",
    "        \n",
    "        pred_masks = tf.image.convert_image_dtype(pred_masks, tf.uint8)\n",
    "\n",
    "        mask_list = []\n",
    "        for i in range(len(self.val_images)):\n",
    "            mask_list.append(wandb_mask(val_images[i].numpy(), \n",
    "                                      pred_masks[i].numpy(), \n",
    "                                      val_masks[i].numpy()))\n",
    "\n",
    "        wandb.log({\"predictions\" : mask_list})"
   ]
  },
  {
   "cell_type": "code",
   "execution_count": 26,
   "metadata": {
    "colab": {
     "base_uri": "https://localhost:8080/",
     "height": 624
    },
    "id": "DNMIeyf41Zyu",
    "outputId": "b4847c54-269c-4a67-e3e7-a037ed868993"
   },
   "outputs": [
    {
     "name": "stderr",
     "output_type": "stream",
     "text": [
      "Failed to detect the name of this notebook, you can set it manually with the WANDB_NOTEBOOK_NAME environment variable to enable code saving.\n",
      "\u001b[34m\u001b[1mwandb\u001b[0m: Currently logged in as: \u001b[33mhsharma27\u001b[0m (\u001b[33muwm-cvml-core\u001b[0m). Use \u001b[1m`wandb login --relogin`\u001b[0m to force relogin\n"
     ]
    },
    {
     "data": {
      "text/html": [
       "wandb version 0.15.2 is available!  To upgrade, please run:\n",
       " $ pip install wandb --upgrade"
      ],
      "text/plain": [
       "<IPython.core.display.HTML object>"
      ]
     },
     "metadata": {},
     "output_type": "display_data"
    },
    {
     "data": {
      "text/html": [
       "Tracking run with wandb version 0.13.10"
      ],
      "text/plain": [
       "<IPython.core.display.HTML object>"
      ]
     },
     "metadata": {},
     "output_type": "display_data"
    },
    {
     "data": {
      "text/html": [
       "Run data is saved locally in <code>/nfs_scratch/hsharma/MachineLearning/ClusterFinder/notebooks/wandb/run-20230510_173235-nm8mu5e4</code>"
      ],
      "text/plain": [
       "<IPython.core.display.HTML object>"
      ]
     },
     "metadata": {},
     "output_type": "display_data"
    },
    {
     "data": {
      "text/html": [
       "Syncing run <strong><a href='https://wandb.ai/uwm-cvml-core/unet-cluster-segmentation/runs/nm8mu5e4' target=\"_blank\">floral-night-27</a></strong> to <a href='https://wandb.ai/uwm-cvml-core/unet-cluster-segmentation' target=\"_blank\">Weights & Biases</a> (<a href='https://wandb.me/run' target=\"_blank\">docs</a>)<br/>"
      ],
      "text/plain": [
       "<IPython.core.display.HTML object>"
      ]
     },
     "metadata": {},
     "output_type": "display_data"
    },
    {
     "data": {
      "text/html": [
       " View project at <a href='https://wandb.ai/uwm-cvml-core/unet-cluster-segmentation' target=\"_blank\">https://wandb.ai/uwm-cvml-core/unet-cluster-segmentation</a>"
      ],
      "text/plain": [
       "<IPython.core.display.HTML object>"
      ]
     },
     "metadata": {},
     "output_type": "display_data"
    },
    {
     "data": {
      "text/html": [
       " View run at <a href='https://wandb.ai/uwm-cvml-core/unet-cluster-segmentation/runs/nm8mu5e4' target=\"_blank\">https://wandb.ai/uwm-cvml-core/unet-cluster-segmentation/runs/nm8mu5e4</a>"
      ],
      "text/plain": [
       "<IPython.core.display.HTML object>"
      ]
     },
     "metadata": {},
     "output_type": "display_data"
    },
    {
     "name": "stderr",
     "output_type": "stream",
     "text": [
      "\u001b[34m\u001b[1mwandb\u001b[0m: \u001b[33mWARNING\u001b[0m The save_model argument by default saves the model in the HDF5 format that cannot save custom objects like subclassed models and custom layers. This behavior will be deprecated in a future release in favor of the SavedModel format. Meanwhile, the HDF5 model is saved as W&B files and the SavedModel as W&B Artifacts.\n",
      "2023-05-10 17:32:38.591074: I tensorflow/core/common_runtime/executor.cc:1197] [/device:CPU:0] (DEBUG INFO) Executor start aborting (this does not indicate an error and you can ignore this message): INVALID_ARGUMENT: You must feed a value for placeholder tensor 'Placeholder/_1' with dtype string and shape [400]\n",
      "\t [[{{node Placeholder/_1}}]]\n",
      "2023-05-10 17:32:38.591597: I tensorflow/core/common_runtime/executor.cc:1197] [/device:CPU:0] (DEBUG INFO) Executor start aborting (this does not indicate an error and you can ignore this message): INVALID_ARGUMENT: You must feed a value for placeholder tensor 'Placeholder/_1' with dtype string and shape [400]\n",
      "\t [[{{node Placeholder/_1}}]]\n"
     ]
    },
    {
     "name": "stdout",
     "output_type": "stream",
     "text": [
      "Epoch 1/20\n",
      "275/275 [==============================] - ETA: 0s - loss: 0.2690"
     ]
    },
    {
     "name": "stderr",
     "output_type": "stream",
     "text": [
      "2023-05-10 17:33:20.828357: I tensorflow/core/common_runtime/executor.cc:1197] [/device:CPU:0] (DEBUG INFO) Executor start aborting (this does not indicate an error and you can ignore this message): INVALID_ARGUMENT: You must feed a value for placeholder tensor 'inputs' with dtype float and shape [?,?,?,512]\n",
      "\t [[{{node inputs}}]]\n",
      "2023-05-10 17:33:20.849471: I tensorflow/core/common_runtime/executor.cc:1197] [/device:CPU:0] (DEBUG INFO) Executor start aborting (this does not indicate an error and you can ignore this message): INVALID_ARGUMENT: You must feed a value for placeholder tensor 'inputs' with dtype float and shape [?,?,?,256]\n",
      "\t [[{{node inputs}}]]\n",
      "2023-05-10 17:33:20.869860: I tensorflow/core/common_runtime/executor.cc:1197] [/device:CPU:0] (DEBUG INFO) Executor start aborting (this does not indicate an error and you can ignore this message): INVALID_ARGUMENT: You must feed a value for placeholder tensor 'inputs' with dtype float and shape [?,?,?,128]\n",
      "\t [[{{node inputs}}]]\n",
      "2023-05-10 17:33:20.890306: I tensorflow/core/common_runtime/executor.cc:1197] [/device:CPU:0] (DEBUG INFO) Executor start aborting (this does not indicate an error and you can ignore this message): INVALID_ARGUMENT: You must feed a value for placeholder tensor 'inputs' with dtype float and shape [?,?,?,64]\n",
      "\t [[{{node inputs}}]]\n",
      "2023-05-10 17:33:21.910526: I tensorflow/core/common_runtime/executor.cc:1197] [/device:CPU:0] (DEBUG INFO) Executor start aborting (this does not indicate an error and you can ignore this message): INVALID_ARGUMENT: You must feed a value for placeholder tensor 'inputs' with dtype float and shape [?,?,?,512]\n",
      "\t [[{{node inputs}}]]\n",
      "2023-05-10 17:33:21.971492: I tensorflow/core/common_runtime/executor.cc:1197] [/device:CPU:0] (DEBUG INFO) Executor start aborting (this does not indicate an error and you can ignore this message): INVALID_ARGUMENT: You must feed a value for placeholder tensor 'inputs' with dtype float and shape [?,?,?,256]\n",
      "\t [[{{node inputs}}]]\n",
      "2023-05-10 17:33:22.034152: I tensorflow/core/common_runtime/executor.cc:1197] [/device:CPU:0] (DEBUG INFO) Executor start aborting (this does not indicate an error and you can ignore this message): INVALID_ARGUMENT: You must feed a value for placeholder tensor 'inputs' with dtype float and shape [?,?,?,128]\n",
      "\t [[{{node inputs}}]]\n",
      "2023-05-10 17:33:22.090696: I tensorflow/core/common_runtime/executor.cc:1197] [/device:CPU:0] (DEBUG INFO) Executor start aborting (this does not indicate an error and you can ignore this message): INVALID_ARGUMENT: You must feed a value for placeholder tensor 'inputs' with dtype float and shape [?,?,?,64]\n",
      "\t [[{{node inputs}}]]\n",
      "WARNING:absl:Found untraced functions such as _jit_compiled_convolution_op, _jit_compiled_convolution_op, _jit_compiled_convolution_op, _jit_compiled_convolution_op, _jit_compiled_convolution_op while saving (showing 5 of 24). These functions will not be directly callable after loading.\n"
     ]
    },
    {
     "name": "stdout",
     "output_type": "stream",
     "text": [
      "INFO:tensorflow:Assets written to: /nfs_scratch/hsharma/MachineLearning/ClusterFinder/notebooks/wandb/run-20230510_173235-nm8mu5e4/files/model-best/assets\n"
     ]
    },
    {
     "name": "stderr",
     "output_type": "stream",
     "text": [
      "INFO:tensorflow:Assets written to: /nfs_scratch/hsharma/MachineLearning/ClusterFinder/notebooks/wandb/run-20230510_173235-nm8mu5e4/files/model-best/assets\n",
      "\u001b[34m\u001b[1mwandb\u001b[0m: Adding directory to artifact (/nfs_scratch/hsharma/MachineLearning/ClusterFinder/notebooks/wandb/run-20230510_173235-nm8mu5e4/files/model-best)... Done. 8.1s\n"
     ]
    },
    {
     "name": "stdout",
     "output_type": "stream",
     "text": [
      "1/1 [==============================] - 0s 247ms/step\n",
      "275/275 [==============================] - 59s 205ms/step - loss: 0.2690 - val_loss: 0.1431\n",
      "Epoch 2/20\n",
      "166/275 [=================>............] - ETA: 11s - loss: 0.0932"
     ]
    },
    {
     "name": "stderr",
     "output_type": "stream",
     "text": [
      "wandb: Network error (TransientError), entering retry loop.\n"
     ]
    },
    {
     "name": "stdout",
     "output_type": "stream",
     "text": [
      "275/275 [==============================] - ETA: 0s - loss: 0.0782"
     ]
    },
    {
     "name": "stderr",
     "output_type": "stream",
     "text": [
      "2023-05-10 17:34:08.761874: I tensorflow/core/common_runtime/executor.cc:1197] [/device:CPU:0] (DEBUG INFO) Executor start aborting (this does not indicate an error and you can ignore this message): INVALID_ARGUMENT: You must feed a value for placeholder tensor 'inputs' with dtype float and shape [?,?,?,512]\n",
      "\t [[{{node inputs}}]]\n",
      "2023-05-10 17:34:08.783124: I tensorflow/core/common_runtime/executor.cc:1197] [/device:CPU:0] (DEBUG INFO) Executor start aborting (this does not indicate an error and you can ignore this message): INVALID_ARGUMENT: You must feed a value for placeholder tensor 'inputs' with dtype float and shape [?,?,?,256]\n",
      "\t [[{{node inputs}}]]\n",
      "2023-05-10 17:34:08.804557: I tensorflow/core/common_runtime/executor.cc:1197] [/device:CPU:0] (DEBUG INFO) Executor start aborting (this does not indicate an error and you can ignore this message): INVALID_ARGUMENT: You must feed a value for placeholder tensor 'inputs' with dtype float and shape [?,?,?,128]\n",
      "\t [[{{node inputs}}]]\n",
      "2023-05-10 17:34:08.825311: I tensorflow/core/common_runtime/executor.cc:1197] [/device:CPU:0] (DEBUG INFO) Executor start aborting (this does not indicate an error and you can ignore this message): INVALID_ARGUMENT: You must feed a value for placeholder tensor 'inputs' with dtype float and shape [?,?,?,64]\n",
      "\t [[{{node inputs}}]]\n",
      "2023-05-10 17:34:10.059647: I tensorflow/core/common_runtime/executor.cc:1197] [/device:CPU:0] (DEBUG INFO) Executor start aborting (this does not indicate an error and you can ignore this message): INVALID_ARGUMENT: You must feed a value for placeholder tensor 'inputs' with dtype float and shape [?,?,?,512]\n",
      "\t [[{{node inputs}}]]\n",
      "2023-05-10 17:34:10.104422: I tensorflow/core/common_runtime/executor.cc:1197] [/device:CPU:0] (DEBUG INFO) Executor start aborting (this does not indicate an error and you can ignore this message): INVALID_ARGUMENT: You must feed a value for placeholder tensor 'inputs' with dtype float and shape [?,?,?,256]\n",
      "\t [[{{node inputs}}]]\n",
      "2023-05-10 17:34:10.148861: I tensorflow/core/common_runtime/executor.cc:1197] [/device:CPU:0] (DEBUG INFO) Executor start aborting (this does not indicate an error and you can ignore this message): INVALID_ARGUMENT: You must feed a value for placeholder tensor 'inputs' with dtype float and shape [?,?,?,128]\n",
      "\t [[{{node inputs}}]]\n",
      "2023-05-10 17:34:10.192593: I tensorflow/core/common_runtime/executor.cc:1197] [/device:CPU:0] (DEBUG INFO) Executor start aborting (this does not indicate an error and you can ignore this message): INVALID_ARGUMENT: You must feed a value for placeholder tensor 'inputs' with dtype float and shape [?,?,?,64]\n",
      "\t [[{{node inputs}}]]\n",
      "WARNING:absl:Found untraced functions such as _jit_compiled_convolution_op, _jit_compiled_convolution_op, _jit_compiled_convolution_op, _jit_compiled_convolution_op, _jit_compiled_convolution_op while saving (showing 5 of 24). These functions will not be directly callable after loading.\n"
     ]
    },
    {
     "name": "stdout",
     "output_type": "stream",
     "text": [
      "INFO:tensorflow:Assets written to: /nfs_scratch/hsharma/MachineLearning/ClusterFinder/notebooks/wandb/run-20230510_173235-nm8mu5e4/files/model-best/assets\n"
     ]
    },
    {
     "name": "stderr",
     "output_type": "stream",
     "text": [
      "INFO:tensorflow:Assets written to: /nfs_scratch/hsharma/MachineLearning/ClusterFinder/notebooks/wandb/run-20230510_173235-nm8mu5e4/files/model-best/assets\n",
      "\u001b[34m\u001b[1mwandb\u001b[0m: Adding directory to artifact (/nfs_scratch/hsharma/MachineLearning/ClusterFinder/notebooks/wandb/run-20230510_173235-nm8mu5e4/files/model-best)... Done. 7.5s\n"
     ]
    },
    {
     "name": "stdout",
     "output_type": "stream",
     "text": [
      "1/1 [==============================] - 0s 55ms/step\n",
      "275/275 [==============================] - 44s 159ms/step - loss: 0.0782 - val_loss: 0.0468\n",
      "Epoch 3/20\n",
      "270/275 [============================>.] - ETA: 0s - loss: 0.0882"
     ]
    },
    {
     "name": "stderr",
     "output_type": "stream",
     "text": [
      "wandb: Network error (TransientError), entering retry loop.\n"
     ]
    },
    {
     "name": "stdout",
     "output_type": "stream",
     "text": [
      "1/1 [==============================] - 0s 49ms/step- loss: 0.09\n",
      "275/275 [==============================] - 31s 112ms/step - loss: 0.0917 - val_loss: 0.2876\n",
      "Epoch 4/20\n",
      " 81/275 [=======>......................] - ETA: 20s - loss: 0.1836"
     ]
    },
    {
     "name": "stderr",
     "output_type": "stream",
     "text": [
      "wandb: Network error (TransientError), entering retry loop.\n"
     ]
    },
    {
     "name": "stdout",
     "output_type": "stream",
     "text": [
      "270/275 [============================>.] - ETA: 0s - loss: 0.1218"
     ]
    },
    {
     "name": "stderr",
     "output_type": "stream",
     "text": [
      "wandb: Network error (TransientError), entering retry loop.\n"
     ]
    },
    {
     "name": "stdout",
     "output_type": "stream",
     "text": [
      "1/1 [==============================] - 0s 49ms/step- loss: 0.12\n",
      "275/275 [==============================] - 30s 110ms/step - loss: 0.1208 - val_loss: 0.0689\n",
      "Epoch 5/20\n",
      " 80/275 [=======>......................] - ETA: 20s - loss: 0.0704"
     ]
    },
    {
     "name": "stderr",
     "output_type": "stream",
     "text": [
      "wandb: Network error (TransientError), entering retry loop.\n"
     ]
    },
    {
     "name": "stdout",
     "output_type": "stream",
     "text": [
      "269/275 [============================>.] - ETA: 0s - loss: 0.0585"
     ]
    },
    {
     "name": "stderr",
     "output_type": "stream",
     "text": [
      "wandb: Network error (TransientError), entering retry loop.\n"
     ]
    },
    {
     "name": "stdout",
     "output_type": "stream",
     "text": [
      "275/275 [==============================] - ETA: 0s - loss: 0.0580"
     ]
    },
    {
     "name": "stderr",
     "output_type": "stream",
     "text": [
      "2023-05-10 17:35:53.335443: I tensorflow/core/common_runtime/executor.cc:1197] [/device:CPU:0] (DEBUG INFO) Executor start aborting (this does not indicate an error and you can ignore this message): INVALID_ARGUMENT: You must feed a value for placeholder tensor 'inputs' with dtype float and shape [?,?,?,512]\n",
      "\t [[{{node inputs}}]]\n",
      "2023-05-10 17:35:53.356725: I tensorflow/core/common_runtime/executor.cc:1197] [/device:CPU:0] (DEBUG INFO) Executor start aborting (this does not indicate an error and you can ignore this message): INVALID_ARGUMENT: You must feed a value for placeholder tensor 'inputs' with dtype float and shape [?,?,?,256]\n",
      "\t [[{{node inputs}}]]\n",
      "2023-05-10 17:35:53.378394: I tensorflow/core/common_runtime/executor.cc:1197] [/device:CPU:0] (DEBUG INFO) Executor start aborting (this does not indicate an error and you can ignore this message): INVALID_ARGUMENT: You must feed a value for placeholder tensor 'inputs' with dtype float and shape [?,?,?,128]\n",
      "\t [[{{node inputs}}]]\n",
      "2023-05-10 17:35:53.399010: I tensorflow/core/common_runtime/executor.cc:1197] [/device:CPU:0] (DEBUG INFO) Executor start aborting (this does not indicate an error and you can ignore this message): INVALID_ARGUMENT: You must feed a value for placeholder tensor 'inputs' with dtype float and shape [?,?,?,64]\n",
      "\t [[{{node inputs}}]]\n",
      "2023-05-10 17:35:54.376562: I tensorflow/core/common_runtime/executor.cc:1197] [/device:CPU:0] (DEBUG INFO) Executor start aborting (this does not indicate an error and you can ignore this message): INVALID_ARGUMENT: You must feed a value for placeholder tensor 'inputs' with dtype float and shape [?,?,?,512]\n",
      "\t [[{{node inputs}}]]\n",
      "2023-05-10 17:35:54.421662: I tensorflow/core/common_runtime/executor.cc:1197] [/device:CPU:0] (DEBUG INFO) Executor start aborting (this does not indicate an error and you can ignore this message): INVALID_ARGUMENT: You must feed a value for placeholder tensor 'inputs' with dtype float and shape [?,?,?,256]\n",
      "\t [[{{node inputs}}]]\n",
      "2023-05-10 17:35:54.466812: I tensorflow/core/common_runtime/executor.cc:1197] [/device:CPU:0] (DEBUG INFO) Executor start aborting (this does not indicate an error and you can ignore this message): INVALID_ARGUMENT: You must feed a value for placeholder tensor 'inputs' with dtype float and shape [?,?,?,128]\n",
      "\t [[{{node inputs}}]]\n",
      "2023-05-10 17:35:54.511221: I tensorflow/core/common_runtime/executor.cc:1197] [/device:CPU:0] (DEBUG INFO) Executor start aborting (this does not indicate an error and you can ignore this message): INVALID_ARGUMENT: You must feed a value for placeholder tensor 'inputs' with dtype float and shape [?,?,?,64]\n",
      "\t [[{{node inputs}}]]\n",
      "WARNING:absl:Found untraced functions such as _jit_compiled_convolution_op, _jit_compiled_convolution_op, _jit_compiled_convolution_op, _jit_compiled_convolution_op, _jit_compiled_convolution_op while saving (showing 5 of 24). These functions will not be directly callable after loading.\n"
     ]
    },
    {
     "name": "stdout",
     "output_type": "stream",
     "text": [
      "INFO:tensorflow:Assets written to: /nfs_scratch/hsharma/MachineLearning/ClusterFinder/notebooks/wandb/run-20230510_173235-nm8mu5e4/files/model-best/assets\n"
     ]
    },
    {
     "name": "stderr",
     "output_type": "stream",
     "text": [
      "INFO:tensorflow:Assets written to: /nfs_scratch/hsharma/MachineLearning/ClusterFinder/notebooks/wandb/run-20230510_173235-nm8mu5e4/files/model-best/assets\n",
      "\u001b[34m\u001b[1mwandb\u001b[0m: Adding directory to artifact (/nfs_scratch/hsharma/MachineLearning/ClusterFinder/notebooks/wandb/run-20230510_173235-nm8mu5e4/files/model-best)... Done. 7.7s\n"
     ]
    },
    {
     "name": "stdout",
     "output_type": "stream",
     "text": [
      "1/1 [==============================] - 0s 55ms/step\n",
      "275/275 [==============================] - 44s 159ms/step - loss: 0.0580 - val_loss: 0.0356\n",
      "Epoch 6/20\n",
      "227/275 [=======================>......] - ETA: 5s - loss: 0.0321"
     ]
    },
    {
     "name": "stderr",
     "output_type": "stream",
     "text": [
      "wandb: Network error (TransientError), entering retry loop.\n"
     ]
    },
    {
     "name": "stdout",
     "output_type": "stream",
     "text": [
      "275/275 [==============================] - ETA: 0s - loss: 0.0314"
     ]
    },
    {
     "name": "stderr",
     "output_type": "stream",
     "text": [
      "2023-05-10 17:36:36.682288: I tensorflow/core/common_runtime/executor.cc:1197] [/device:CPU:0] (DEBUG INFO) Executor start aborting (this does not indicate an error and you can ignore this message): INVALID_ARGUMENT: You must feed a value for placeholder tensor 'inputs' with dtype float and shape [?,?,?,512]\n",
      "\t [[{{node inputs}}]]\n",
      "2023-05-10 17:36:36.703784: I tensorflow/core/common_runtime/executor.cc:1197] [/device:CPU:0] (DEBUG INFO) Executor start aborting (this does not indicate an error and you can ignore this message): INVALID_ARGUMENT: You must feed a value for placeholder tensor 'inputs' with dtype float and shape [?,?,?,256]\n",
      "\t [[{{node inputs}}]]\n",
      "2023-05-10 17:36:36.725510: I tensorflow/core/common_runtime/executor.cc:1197] [/device:CPU:0] (DEBUG INFO) Executor start aborting (this does not indicate an error and you can ignore this message): INVALID_ARGUMENT: You must feed a value for placeholder tensor 'inputs' with dtype float and shape [?,?,?,128]\n",
      "\t [[{{node inputs}}]]\n",
      "2023-05-10 17:36:36.746213: I tensorflow/core/common_runtime/executor.cc:1197] [/device:CPU:0] (DEBUG INFO) Executor start aborting (this does not indicate an error and you can ignore this message): INVALID_ARGUMENT: You must feed a value for placeholder tensor 'inputs' with dtype float and shape [?,?,?,64]\n",
      "\t [[{{node inputs}}]]\n",
      "2023-05-10 17:36:37.725240: I tensorflow/core/common_runtime/executor.cc:1197] [/device:CPU:0] (DEBUG INFO) Executor start aborting (this does not indicate an error and you can ignore this message): INVALID_ARGUMENT: You must feed a value for placeholder tensor 'inputs' with dtype float and shape [?,?,?,512]\n",
      "\t [[{{node inputs}}]]\n",
      "2023-05-10 17:36:37.769826: I tensorflow/core/common_runtime/executor.cc:1197] [/device:CPU:0] (DEBUG INFO) Executor start aborting (this does not indicate an error and you can ignore this message): INVALID_ARGUMENT: You must feed a value for placeholder tensor 'inputs' with dtype float and shape [?,?,?,256]\n",
      "\t [[{{node inputs}}]]\n",
      "2023-05-10 17:36:37.814101: I tensorflow/core/common_runtime/executor.cc:1197] [/device:CPU:0] (DEBUG INFO) Executor start aborting (this does not indicate an error and you can ignore this message): INVALID_ARGUMENT: You must feed a value for placeholder tensor 'inputs' with dtype float and shape [?,?,?,128]\n",
      "\t [[{{node inputs}}]]\n",
      "2023-05-10 17:36:37.857776: I tensorflow/core/common_runtime/executor.cc:1197] [/device:CPU:0] (DEBUG INFO) Executor start aborting (this does not indicate an error and you can ignore this message): INVALID_ARGUMENT: You must feed a value for placeholder tensor 'inputs' with dtype float and shape [?,?,?,64]\n",
      "\t [[{{node inputs}}]]\n",
      "WARNING:absl:Found untraced functions such as _jit_compiled_convolution_op, _jit_compiled_convolution_op, _jit_compiled_convolution_op, _jit_compiled_convolution_op, _jit_compiled_convolution_op while saving (showing 5 of 24). These functions will not be directly callable after loading.\n"
     ]
    },
    {
     "name": "stdout",
     "output_type": "stream",
     "text": [
      "INFO:tensorflow:Assets written to: /nfs_scratch/hsharma/MachineLearning/ClusterFinder/notebooks/wandb/run-20230510_173235-nm8mu5e4/files/model-best/assets\n"
     ]
    },
    {
     "name": "stderr",
     "output_type": "stream",
     "text": [
      "INFO:tensorflow:Assets written to: /nfs_scratch/hsharma/MachineLearning/ClusterFinder/notebooks/wandb/run-20230510_173235-nm8mu5e4/files/model-best/assets\n",
      "\u001b[34m\u001b[1mwandb\u001b[0m: Adding directory to artifact (/nfs_scratch/hsharma/MachineLearning/ClusterFinder/notebooks/wandb/run-20230510_173235-nm8mu5e4/files/model-best)... Done. 7.4s\n"
     ]
    },
    {
     "name": "stdout",
     "output_type": "stream",
     "text": [
      "1/1 [==============================] - 0s 57ms/step\n",
      "275/275 [==============================] - 43s 155ms/step - loss: 0.0314 - val_loss: 0.0252\n",
      "Epoch 7/20\n",
      "1/1 [==============================] - 0s 49ms/step- loss: 0.02\n",
      "275/275 [==============================] - 30s 110ms/step - loss: 0.0235 - val_loss: 0.0305\n",
      "Epoch 8/20\n",
      "275/275 [==============================] - ETA: 0s - loss: 0.0210"
     ]
    },
    {
     "name": "stderr",
     "output_type": "stream",
     "text": [
      "2023-05-10 17:37:49.898007: I tensorflow/core/common_runtime/executor.cc:1197] [/device:CPU:0] (DEBUG INFO) Executor start aborting (this does not indicate an error and you can ignore this message): INVALID_ARGUMENT: You must feed a value for placeholder tensor 'inputs' with dtype float and shape [?,?,?,512]\n",
      "\t [[{{node inputs}}]]\n",
      "2023-05-10 17:37:49.919394: I tensorflow/core/common_runtime/executor.cc:1197] [/device:CPU:0] (DEBUG INFO) Executor start aborting (this does not indicate an error and you can ignore this message): INVALID_ARGUMENT: You must feed a value for placeholder tensor 'inputs' with dtype float and shape [?,?,?,256]\n",
      "\t [[{{node inputs}}]]\n",
      "2023-05-10 17:37:49.939947: I tensorflow/core/common_runtime/executor.cc:1197] [/device:CPU:0] (DEBUG INFO) Executor start aborting (this does not indicate an error and you can ignore this message): INVALID_ARGUMENT: You must feed a value for placeholder tensor 'inputs' with dtype float and shape [?,?,?,128]\n",
      "\t [[{{node inputs}}]]\n",
      "2023-05-10 17:37:49.960439: I tensorflow/core/common_runtime/executor.cc:1197] [/device:CPU:0] (DEBUG INFO) Executor start aborting (this does not indicate an error and you can ignore this message): INVALID_ARGUMENT: You must feed a value for placeholder tensor 'inputs' with dtype float and shape [?,?,?,64]\n",
      "\t [[{{node inputs}}]]\n",
      "2023-05-10 17:37:51.290948: I tensorflow/core/common_runtime/executor.cc:1197] [/device:CPU:0] (DEBUG INFO) Executor start aborting (this does not indicate an error and you can ignore this message): INVALID_ARGUMENT: You must feed a value for placeholder tensor 'inputs' with dtype float and shape [?,?,?,512]\n",
      "\t [[{{node inputs}}]]\n",
      "2023-05-10 17:37:51.336744: I tensorflow/core/common_runtime/executor.cc:1197] [/device:CPU:0] (DEBUG INFO) Executor start aborting (this does not indicate an error and you can ignore this message): INVALID_ARGUMENT: You must feed a value for placeholder tensor 'inputs' with dtype float and shape [?,?,?,256]\n",
      "\t [[{{node inputs}}]]\n",
      "2023-05-10 17:37:51.382529: I tensorflow/core/common_runtime/executor.cc:1197] [/device:CPU:0] (DEBUG INFO) Executor start aborting (this does not indicate an error and you can ignore this message): INVALID_ARGUMENT: You must feed a value for placeholder tensor 'inputs' with dtype float and shape [?,?,?,128]\n",
      "\t [[{{node inputs}}]]\n",
      "2023-05-10 17:37:51.427260: I tensorflow/core/common_runtime/executor.cc:1197] [/device:CPU:0] (DEBUG INFO) Executor start aborting (this does not indicate an error and you can ignore this message): INVALID_ARGUMENT: You must feed a value for placeholder tensor 'inputs' with dtype float and shape [?,?,?,64]\n",
      "\t [[{{node inputs}}]]\n",
      "WARNING:absl:Found untraced functions such as _jit_compiled_convolution_op, _jit_compiled_convolution_op, _jit_compiled_convolution_op, _jit_compiled_convolution_op, _jit_compiled_convolution_op while saving (showing 5 of 24). These functions will not be directly callable after loading.\n"
     ]
    },
    {
     "name": "stdout",
     "output_type": "stream",
     "text": [
      "INFO:tensorflow:Assets written to: /nfs_scratch/hsharma/MachineLearning/ClusterFinder/notebooks/wandb/run-20230510_173235-nm8mu5e4/files/model-best/assets\n"
     ]
    },
    {
     "name": "stderr",
     "output_type": "stream",
     "text": [
      "INFO:tensorflow:Assets written to: /nfs_scratch/hsharma/MachineLearning/ClusterFinder/notebooks/wandb/run-20230510_173235-nm8mu5e4/files/model-best/assets\n",
      "\u001b[34m\u001b[1mwandb\u001b[0m: Adding directory to artifact (/nfs_scratch/hsharma/MachineLearning/ClusterFinder/notebooks/wandb/run-20230510_173235-nm8mu5e4/files/model-best)... Done. 7.5s\n"
     ]
    },
    {
     "name": "stdout",
     "output_type": "stream",
     "text": [
      "1/1 [==============================] - 0s 55ms/step\n",
      "275/275 [==============================] - 43s 156ms/step - loss: 0.0210 - val_loss: 0.0166\n",
      "Epoch 9/20\n",
      "1/1 [==============================] - 0s 49ms/step- loss: 0.05\n",
      "275/275 [==============================] - 30s 110ms/step - loss: 0.0526 - val_loss: 0.0554\n",
      "Epoch 10/20\n",
      "1/1 [==============================] - 0s 51ms/step- loss: 0.04\n",
      "275/275 [==============================] - 31s 111ms/step - loss: 0.0416 - val_loss: 0.0322\n",
      "Epoch 11/20\n",
      "1/1 [==============================] - 0s 49ms/step- loss: 0.02\n",
      "275/275 [==============================] - 30s 110ms/step - loss: 0.0256 - val_loss: 0.0228\n",
      "Epoch 12/20\n",
      "275/275 [==============================] - ETA: 0s - loss: 0.0170"
     ]
    },
    {
     "name": "stderr",
     "output_type": "stream",
     "text": [
      "2023-05-10 17:40:04.501760: I tensorflow/core/common_runtime/executor.cc:1197] [/device:CPU:0] (DEBUG INFO) Executor start aborting (this does not indicate an error and you can ignore this message): INVALID_ARGUMENT: You must feed a value for placeholder tensor 'inputs' with dtype float and shape [?,?,?,512]\n",
      "\t [[{{node inputs}}]]\n",
      "2023-05-10 17:40:04.523044: I tensorflow/core/common_runtime/executor.cc:1197] [/device:CPU:0] (DEBUG INFO) Executor start aborting (this does not indicate an error and you can ignore this message): INVALID_ARGUMENT: You must feed a value for placeholder tensor 'inputs' with dtype float and shape [?,?,?,256]\n",
      "\t [[{{node inputs}}]]\n",
      "2023-05-10 17:40:04.544555: I tensorflow/core/common_runtime/executor.cc:1197] [/device:CPU:0] (DEBUG INFO) Executor start aborting (this does not indicate an error and you can ignore this message): INVALID_ARGUMENT: You must feed a value for placeholder tensor 'inputs' with dtype float and shape [?,?,?,128]\n",
      "\t [[{{node inputs}}]]\n",
      "2023-05-10 17:40:04.565154: I tensorflow/core/common_runtime/executor.cc:1197] [/device:CPU:0] (DEBUG INFO) Executor start aborting (this does not indicate an error and you can ignore this message): INVALID_ARGUMENT: You must feed a value for placeholder tensor 'inputs' with dtype float and shape [?,?,?,64]\n",
      "\t [[{{node inputs}}]]\n",
      "2023-05-10 17:40:05.541168: I tensorflow/core/common_runtime/executor.cc:1197] [/device:CPU:0] (DEBUG INFO) Executor start aborting (this does not indicate an error and you can ignore this message): INVALID_ARGUMENT: You must feed a value for placeholder tensor 'inputs' with dtype float and shape [?,?,?,512]\n",
      "\t [[{{node inputs}}]]\n",
      "2023-05-10 17:40:05.585635: I tensorflow/core/common_runtime/executor.cc:1197] [/device:CPU:0] (DEBUG INFO) Executor start aborting (this does not indicate an error and you can ignore this message): INVALID_ARGUMENT: You must feed a value for placeholder tensor 'inputs' with dtype float and shape [?,?,?,256]\n",
      "\t [[{{node inputs}}]]\n",
      "2023-05-10 17:40:05.629871: I tensorflow/core/common_runtime/executor.cc:1197] [/device:CPU:0] (DEBUG INFO) Executor start aborting (this does not indicate an error and you can ignore this message): INVALID_ARGUMENT: You must feed a value for placeholder tensor 'inputs' with dtype float and shape [?,?,?,128]\n",
      "\t [[{{node inputs}}]]\n",
      "2023-05-10 17:40:05.673648: I tensorflow/core/common_runtime/executor.cc:1197] [/device:CPU:0] (DEBUG INFO) Executor start aborting (this does not indicate an error and you can ignore this message): INVALID_ARGUMENT: You must feed a value for placeholder tensor 'inputs' with dtype float and shape [?,?,?,64]\n",
      "\t [[{{node inputs}}]]\n",
      "WARNING:absl:Found untraced functions such as _jit_compiled_convolution_op, _jit_compiled_convolution_op, _jit_compiled_convolution_op, _jit_compiled_convolution_op, _jit_compiled_convolution_op while saving (showing 5 of 24). These functions will not be directly callable after loading.\n"
     ]
    },
    {
     "name": "stdout",
     "output_type": "stream",
     "text": [
      "INFO:tensorflow:Assets written to: /nfs_scratch/hsharma/MachineLearning/ClusterFinder/notebooks/wandb/run-20230510_173235-nm8mu5e4/files/model-best/assets\n"
     ]
    },
    {
     "name": "stderr",
     "output_type": "stream",
     "text": [
      "INFO:tensorflow:Assets written to: /nfs_scratch/hsharma/MachineLearning/ClusterFinder/notebooks/wandb/run-20230510_173235-nm8mu5e4/files/model-best/assets\n",
      "\u001b[34m\u001b[1mwandb\u001b[0m: Adding directory to artifact (/nfs_scratch/hsharma/MachineLearning/ClusterFinder/notebooks/wandb/run-20230510_173235-nm8mu5e4/files/model-best)... Done. 7.7s\n"
     ]
    },
    {
     "name": "stdout",
     "output_type": "stream",
     "text": [
      "1/1 [==============================] - 0s 100ms/step\n",
      "275/275 [==============================] - 43s 158ms/step - loss: 0.0170 - val_loss: 0.0148\n",
      "Epoch 13/20\n",
      "275/275 [==============================] - ETA: 0s - loss: 0.0140"
     ]
    },
    {
     "name": "stderr",
     "output_type": "stream",
     "text": [
      "2023-05-10 17:40:47.963769: I tensorflow/core/common_runtime/executor.cc:1197] [/device:CPU:0] (DEBUG INFO) Executor start aborting (this does not indicate an error and you can ignore this message): INVALID_ARGUMENT: You must feed a value for placeholder tensor 'inputs' with dtype float and shape [?,?,?,512]\n",
      "\t [[{{node inputs}}]]\n",
      "2023-05-10 17:40:47.985390: I tensorflow/core/common_runtime/executor.cc:1197] [/device:CPU:0] (DEBUG INFO) Executor start aborting (this does not indicate an error and you can ignore this message): INVALID_ARGUMENT: You must feed a value for placeholder tensor 'inputs' with dtype float and shape [?,?,?,256]\n",
      "\t [[{{node inputs}}]]\n",
      "2023-05-10 17:40:48.006089: I tensorflow/core/common_runtime/executor.cc:1197] [/device:CPU:0] (DEBUG INFO) Executor start aborting (this does not indicate an error and you can ignore this message): INVALID_ARGUMENT: You must feed a value for placeholder tensor 'inputs' with dtype float and shape [?,?,?,128]\n",
      "\t [[{{node inputs}}]]\n",
      "2023-05-10 17:40:48.027786: I tensorflow/core/common_runtime/executor.cc:1197] [/device:CPU:0] (DEBUG INFO) Executor start aborting (this does not indicate an error and you can ignore this message): INVALID_ARGUMENT: You must feed a value for placeholder tensor 'inputs' with dtype float and shape [?,?,?,64]\n",
      "\t [[{{node inputs}}]]\n",
      "2023-05-10 17:40:49.005239: I tensorflow/core/common_runtime/executor.cc:1197] [/device:CPU:0] (DEBUG INFO) Executor start aborting (this does not indicate an error and you can ignore this message): INVALID_ARGUMENT: You must feed a value for placeholder tensor 'inputs' with dtype float and shape [?,?,?,512]\n",
      "\t [[{{node inputs}}]]\n",
      "2023-05-10 17:40:49.049366: I tensorflow/core/common_runtime/executor.cc:1197] [/device:CPU:0] (DEBUG INFO) Executor start aborting (this does not indicate an error and you can ignore this message): INVALID_ARGUMENT: You must feed a value for placeholder tensor 'inputs' with dtype float and shape [?,?,?,256]\n",
      "\t [[{{node inputs}}]]\n",
      "2023-05-10 17:40:49.092619: I tensorflow/core/common_runtime/executor.cc:1197] [/device:CPU:0] (DEBUG INFO) Executor start aborting (this does not indicate an error and you can ignore this message): INVALID_ARGUMENT: You must feed a value for placeholder tensor 'inputs' with dtype float and shape [?,?,?,128]\n",
      "\t [[{{node inputs}}]]\n",
      "2023-05-10 17:40:49.137050: I tensorflow/core/common_runtime/executor.cc:1197] [/device:CPU:0] (DEBUG INFO) Executor start aborting (this does not indicate an error and you can ignore this message): INVALID_ARGUMENT: You must feed a value for placeholder tensor 'inputs' with dtype float and shape [?,?,?,64]\n",
      "\t [[{{node inputs}}]]\n",
      "WARNING:absl:Found untraced functions such as _jit_compiled_convolution_op, _jit_compiled_convolution_op, _jit_compiled_convolution_op, _jit_compiled_convolution_op, _jit_compiled_convolution_op while saving (showing 5 of 24). These functions will not be directly callable after loading.\n"
     ]
    },
    {
     "name": "stdout",
     "output_type": "stream",
     "text": [
      "INFO:tensorflow:Assets written to: /nfs_scratch/hsharma/MachineLearning/ClusterFinder/notebooks/wandb/run-20230510_173235-nm8mu5e4/files/model-best/assets\n"
     ]
    },
    {
     "name": "stderr",
     "output_type": "stream",
     "text": [
      "INFO:tensorflow:Assets written to: /nfs_scratch/hsharma/MachineLearning/ClusterFinder/notebooks/wandb/run-20230510_173235-nm8mu5e4/files/model-best/assets\n",
      "\u001b[34m\u001b[1mwandb\u001b[0m: Adding directory to artifact (/nfs_scratch/hsharma/MachineLearning/ClusterFinder/notebooks/wandb/run-20230510_173235-nm8mu5e4/files/model-best)... Done. 7.6s\n"
     ]
    },
    {
     "name": "stdout",
     "output_type": "stream",
     "text": [
      "1/1 [==============================] - 0s 54ms/step\n",
      "275/275 [==============================] - 43s 158ms/step - loss: 0.0140 - val_loss: 0.0141\n",
      "Epoch 14/20\n",
      "1/1 [==============================] - 0s 49ms/step- loss: 0.01\n",
      "275/275 [==============================] - 30s 111ms/step - loss: 0.0123 - val_loss: 0.0291\n",
      "Epoch 15/20\n",
      "275/275 [==============================] - ETA: 0s - loss: 0.0168"
     ]
    },
    {
     "name": "stderr",
     "output_type": "stream",
     "text": [
      "2023-05-10 17:42:01.834794: I tensorflow/core/common_runtime/executor.cc:1197] [/device:CPU:0] (DEBUG INFO) Executor start aborting (this does not indicate an error and you can ignore this message): INVALID_ARGUMENT: You must feed a value for placeholder tensor 'inputs' with dtype float and shape [?,?,?,512]\n",
      "\t [[{{node inputs}}]]\n",
      "2023-05-10 17:42:01.856319: I tensorflow/core/common_runtime/executor.cc:1197] [/device:CPU:0] (DEBUG INFO) Executor start aborting (this does not indicate an error and you can ignore this message): INVALID_ARGUMENT: You must feed a value for placeholder tensor 'inputs' with dtype float and shape [?,?,?,256]\n",
      "\t [[{{node inputs}}]]\n",
      "2023-05-10 17:42:01.878221: I tensorflow/core/common_runtime/executor.cc:1197] [/device:CPU:0] (DEBUG INFO) Executor start aborting (this does not indicate an error and you can ignore this message): INVALID_ARGUMENT: You must feed a value for placeholder tensor 'inputs' with dtype float and shape [?,?,?,128]\n",
      "\t [[{{node inputs}}]]\n",
      "2023-05-10 17:42:01.898842: I tensorflow/core/common_runtime/executor.cc:1197] [/device:CPU:0] (DEBUG INFO) Executor start aborting (this does not indicate an error and you can ignore this message): INVALID_ARGUMENT: You must feed a value for placeholder tensor 'inputs' with dtype float and shape [?,?,?,64]\n",
      "\t [[{{node inputs}}]]\n",
      "2023-05-10 17:42:03.207783: I tensorflow/core/common_runtime/executor.cc:1197] [/device:CPU:0] (DEBUG INFO) Executor start aborting (this does not indicate an error and you can ignore this message): INVALID_ARGUMENT: You must feed a value for placeholder tensor 'inputs' with dtype float and shape [?,?,?,512]\n",
      "\t [[{{node inputs}}]]\n",
      "2023-05-10 17:42:03.252984: I tensorflow/core/common_runtime/executor.cc:1197] [/device:CPU:0] (DEBUG INFO) Executor start aborting (this does not indicate an error and you can ignore this message): INVALID_ARGUMENT: You must feed a value for placeholder tensor 'inputs' with dtype float and shape [?,?,?,256]\n",
      "\t [[{{node inputs}}]]\n",
      "2023-05-10 17:42:03.297839: I tensorflow/core/common_runtime/executor.cc:1197] [/device:CPU:0] (DEBUG INFO) Executor start aborting (this does not indicate an error and you can ignore this message): INVALID_ARGUMENT: You must feed a value for placeholder tensor 'inputs' with dtype float and shape [?,?,?,128]\n",
      "\t [[{{node inputs}}]]\n",
      "2023-05-10 17:42:03.341874: I tensorflow/core/common_runtime/executor.cc:1197] [/device:CPU:0] (DEBUG INFO) Executor start aborting (this does not indicate an error and you can ignore this message): INVALID_ARGUMENT: You must feed a value for placeholder tensor 'inputs' with dtype float and shape [?,?,?,64]\n",
      "\t [[{{node inputs}}]]\n",
      "WARNING:absl:Found untraced functions such as _jit_compiled_convolution_op, _jit_compiled_convolution_op, _jit_compiled_convolution_op, _jit_compiled_convolution_op, _jit_compiled_convolution_op while saving (showing 5 of 24). These functions will not be directly callable after loading.\n"
     ]
    },
    {
     "name": "stdout",
     "output_type": "stream",
     "text": [
      "INFO:tensorflow:Assets written to: /nfs_scratch/hsharma/MachineLearning/ClusterFinder/notebooks/wandb/run-20230510_173235-nm8mu5e4/files/model-best/assets\n"
     ]
    },
    {
     "name": "stderr",
     "output_type": "stream",
     "text": [
      "INFO:tensorflow:Assets written to: /nfs_scratch/hsharma/MachineLearning/ClusterFinder/notebooks/wandb/run-20230510_173235-nm8mu5e4/files/model-best/assets\n",
      "\u001b[34m\u001b[1mwandb\u001b[0m: Adding directory to artifact (/nfs_scratch/hsharma/MachineLearning/ClusterFinder/notebooks/wandb/run-20230510_173235-nm8mu5e4/files/model-best)... Done. 7.5s\n"
     ]
    },
    {
     "name": "stdout",
     "output_type": "stream",
     "text": [
      "1/1 [==============================] - 0s 57ms/step\n",
      "275/275 [==============================] - 44s 159ms/step - loss: 0.0168 - val_loss: 0.0129\n",
      "Epoch 16/20\n",
      "275/275 [==============================] - ETA: 0s - loss: 0.0090"
     ]
    },
    {
     "name": "stderr",
     "output_type": "stream",
     "text": [
      "2023-05-10 17:42:45.223450: I tensorflow/core/common_runtime/executor.cc:1197] [/device:CPU:0] (DEBUG INFO) Executor start aborting (this does not indicate an error and you can ignore this message): INVALID_ARGUMENT: You must feed a value for placeholder tensor 'inputs' with dtype float and shape [?,?,?,512]\n",
      "\t [[{{node inputs}}]]\n",
      "2023-05-10 17:42:45.245874: I tensorflow/core/common_runtime/executor.cc:1197] [/device:CPU:0] (DEBUG INFO) Executor start aborting (this does not indicate an error and you can ignore this message): INVALID_ARGUMENT: You must feed a value for placeholder tensor 'inputs' with dtype float and shape [?,?,?,256]\n",
      "\t [[{{node inputs}}]]\n",
      "2023-05-10 17:42:45.266805: I tensorflow/core/common_runtime/executor.cc:1197] [/device:CPU:0] (DEBUG INFO) Executor start aborting (this does not indicate an error and you can ignore this message): INVALID_ARGUMENT: You must feed a value for placeholder tensor 'inputs' with dtype float and shape [?,?,?,128]\n",
      "\t [[{{node inputs}}]]\n",
      "2023-05-10 17:42:45.287487: I tensorflow/core/common_runtime/executor.cc:1197] [/device:CPU:0] (DEBUG INFO) Executor start aborting (this does not indicate an error and you can ignore this message): INVALID_ARGUMENT: You must feed a value for placeholder tensor 'inputs' with dtype float and shape [?,?,?,64]\n",
      "\t [[{{node inputs}}]]\n",
      "2023-05-10 17:42:46.266409: I tensorflow/core/common_runtime/executor.cc:1197] [/device:CPU:0] (DEBUG INFO) Executor start aborting (this does not indicate an error and you can ignore this message): INVALID_ARGUMENT: You must feed a value for placeholder tensor 'inputs' with dtype float and shape [?,?,?,512]\n",
      "\t [[{{node inputs}}]]\n",
      "2023-05-10 17:42:46.311381: I tensorflow/core/common_runtime/executor.cc:1197] [/device:CPU:0] (DEBUG INFO) Executor start aborting (this does not indicate an error and you can ignore this message): INVALID_ARGUMENT: You must feed a value for placeholder tensor 'inputs' with dtype float and shape [?,?,?,256]\n",
      "\t [[{{node inputs}}]]\n",
      "2023-05-10 17:42:46.354941: I tensorflow/core/common_runtime/executor.cc:1197] [/device:CPU:0] (DEBUG INFO) Executor start aborting (this does not indicate an error and you can ignore this message): INVALID_ARGUMENT: You must feed a value for placeholder tensor 'inputs' with dtype float and shape [?,?,?,128]\n",
      "\t [[{{node inputs}}]]\n",
      "2023-05-10 17:42:46.398624: I tensorflow/core/common_runtime/executor.cc:1197] [/device:CPU:0] (DEBUG INFO) Executor start aborting (this does not indicate an error and you can ignore this message): INVALID_ARGUMENT: You must feed a value for placeholder tensor 'inputs' with dtype float and shape [?,?,?,64]\n",
      "\t [[{{node inputs}}]]\n",
      "WARNING:absl:Found untraced functions such as _jit_compiled_convolution_op, _jit_compiled_convolution_op, _jit_compiled_convolution_op, _jit_compiled_convolution_op, _jit_compiled_convolution_op while saving (showing 5 of 24). These functions will not be directly callable after loading.\n"
     ]
    },
    {
     "name": "stdout",
     "output_type": "stream",
     "text": [
      "INFO:tensorflow:Assets written to: /nfs_scratch/hsharma/MachineLearning/ClusterFinder/notebooks/wandb/run-20230510_173235-nm8mu5e4/files/model-best/assets\n"
     ]
    },
    {
     "name": "stderr",
     "output_type": "stream",
     "text": [
      "INFO:tensorflow:Assets written to: /nfs_scratch/hsharma/MachineLearning/ClusterFinder/notebooks/wandb/run-20230510_173235-nm8mu5e4/files/model-best/assets\n",
      "\u001b[34m\u001b[1mwandb\u001b[0m: Adding directory to artifact (/nfs_scratch/hsharma/MachineLearning/ClusterFinder/notebooks/wandb/run-20230510_173235-nm8mu5e4/files/model-best)... Done. 7.7s\n"
     ]
    },
    {
     "name": "stdout",
     "output_type": "stream",
     "text": [
      "1/1 [==============================] - 0s 53ms/step\n",
      "275/275 [==============================] - 43s 157ms/step - loss: 0.0090 - val_loss: 0.0125\n",
      "Epoch 17/20\n",
      "1/1 [==============================] - 0s 50ms/step- loss: 0.00\n",
      "275/275 [==============================] - 30s 111ms/step - loss: 0.0095 - val_loss: 0.0178\n",
      "Epoch 18/20\n",
      "275/275 [==============================] - ETA: 0s - loss: 0.0088"
     ]
    },
    {
     "name": "stderr",
     "output_type": "stream",
     "text": [
      "2023-05-10 17:43:59.223521: I tensorflow/core/common_runtime/executor.cc:1197] [/device:CPU:0] (DEBUG INFO) Executor start aborting (this does not indicate an error and you can ignore this message): INVALID_ARGUMENT: You must feed a value for placeholder tensor 'inputs' with dtype float and shape [?,?,?,512]\n",
      "\t [[{{node inputs}}]]\n",
      "2023-05-10 17:43:59.245091: I tensorflow/core/common_runtime/executor.cc:1197] [/device:CPU:0] (DEBUG INFO) Executor start aborting (this does not indicate an error and you can ignore this message): INVALID_ARGUMENT: You must feed a value for placeholder tensor 'inputs' with dtype float and shape [?,?,?,256]\n",
      "\t [[{{node inputs}}]]\n",
      "2023-05-10 17:43:59.265737: I tensorflow/core/common_runtime/executor.cc:1197] [/device:CPU:0] (DEBUG INFO) Executor start aborting (this does not indicate an error and you can ignore this message): INVALID_ARGUMENT: You must feed a value for placeholder tensor 'inputs' with dtype float and shape [?,?,?,128]\n",
      "\t [[{{node inputs}}]]\n",
      "2023-05-10 17:43:59.286471: I tensorflow/core/common_runtime/executor.cc:1197] [/device:CPU:0] (DEBUG INFO) Executor start aborting (this does not indicate an error and you can ignore this message): INVALID_ARGUMENT: You must feed a value for placeholder tensor 'inputs' with dtype float and shape [?,?,?,64]\n",
      "\t [[{{node inputs}}]]\n",
      "2023-05-10 17:44:00.555889: I tensorflow/core/common_runtime/executor.cc:1197] [/device:CPU:0] (DEBUG INFO) Executor start aborting (this does not indicate an error and you can ignore this message): INVALID_ARGUMENT: You must feed a value for placeholder tensor 'inputs' with dtype float and shape [?,?,?,512]\n",
      "\t [[{{node inputs}}]]\n",
      "2023-05-10 17:44:00.600365: I tensorflow/core/common_runtime/executor.cc:1197] [/device:CPU:0] (DEBUG INFO) Executor start aborting (this does not indicate an error and you can ignore this message): INVALID_ARGUMENT: You must feed a value for placeholder tensor 'inputs' with dtype float and shape [?,?,?,256]\n",
      "\t [[{{node inputs}}]]\n",
      "2023-05-10 17:44:00.643695: I tensorflow/core/common_runtime/executor.cc:1197] [/device:CPU:0] (DEBUG INFO) Executor start aborting (this does not indicate an error and you can ignore this message): INVALID_ARGUMENT: You must feed a value for placeholder tensor 'inputs' with dtype float and shape [?,?,?,128]\n",
      "\t [[{{node inputs}}]]\n",
      "2023-05-10 17:44:00.687100: I tensorflow/core/common_runtime/executor.cc:1197] [/device:CPU:0] (DEBUG INFO) Executor start aborting (this does not indicate an error and you can ignore this message): INVALID_ARGUMENT: You must feed a value for placeholder tensor 'inputs' with dtype float and shape [?,?,?,64]\n",
      "\t [[{{node inputs}}]]\n",
      "WARNING:absl:Found untraced functions such as _jit_compiled_convolution_op, _jit_compiled_convolution_op, _jit_compiled_convolution_op, _jit_compiled_convolution_op, _jit_compiled_convolution_op while saving (showing 5 of 24). These functions will not be directly callable after loading.\n"
     ]
    },
    {
     "name": "stdout",
     "output_type": "stream",
     "text": [
      "INFO:tensorflow:Assets written to: /nfs_scratch/hsharma/MachineLearning/ClusterFinder/notebooks/wandb/run-20230510_173235-nm8mu5e4/files/model-best/assets\n"
     ]
    },
    {
     "name": "stderr",
     "output_type": "stream",
     "text": [
      "INFO:tensorflow:Assets written to: /nfs_scratch/hsharma/MachineLearning/ClusterFinder/notebooks/wandb/run-20230510_173235-nm8mu5e4/files/model-best/assets\n",
      "\u001b[34m\u001b[1mwandb\u001b[0m: Adding directory to artifact (/nfs_scratch/hsharma/MachineLearning/ClusterFinder/notebooks/wandb/run-20230510_173235-nm8mu5e4/files/model-best)... Done. 7.4s\n"
     ]
    },
    {
     "name": "stdout",
     "output_type": "stream",
     "text": [
      "1/1 [==============================] - 0s 57ms/step\n",
      "275/275 [==============================] - 44s 161ms/step - loss: 0.0088 - val_loss: 0.0065\n",
      "Epoch 19/20\n",
      "1/1 [==============================] - 0s 47ms/step- loss: 0.00\n",
      "275/275 [==============================] - 30s 110ms/step - loss: 0.0084 - val_loss: 0.0071\n",
      "Epoch 20/20\n",
      "275/275 [==============================] - ETA: 0s - loss: 0.0055"
     ]
    },
    {
     "name": "stderr",
     "output_type": "stream",
     "text": [
      "2023-05-10 17:45:13.525237: I tensorflow/core/common_runtime/executor.cc:1197] [/device:CPU:0] (DEBUG INFO) Executor start aborting (this does not indicate an error and you can ignore this message): INVALID_ARGUMENT: You must feed a value for placeholder tensor 'inputs' with dtype float and shape [?,?,?,512]\n",
      "\t [[{{node inputs}}]]\n",
      "2023-05-10 17:45:13.546453: I tensorflow/core/common_runtime/executor.cc:1197] [/device:CPU:0] (DEBUG INFO) Executor start aborting (this does not indicate an error and you can ignore this message): INVALID_ARGUMENT: You must feed a value for placeholder tensor 'inputs' with dtype float and shape [?,?,?,256]\n",
      "\t [[{{node inputs}}]]\n",
      "2023-05-10 17:45:13.567013: I tensorflow/core/common_runtime/executor.cc:1197] [/device:CPU:0] (DEBUG INFO) Executor start aborting (this does not indicate an error and you can ignore this message): INVALID_ARGUMENT: You must feed a value for placeholder tensor 'inputs' with dtype float and shape [?,?,?,128]\n",
      "\t [[{{node inputs}}]]\n",
      "2023-05-10 17:45:13.588743: I tensorflow/core/common_runtime/executor.cc:1197] [/device:CPU:0] (DEBUG INFO) Executor start aborting (this does not indicate an error and you can ignore this message): INVALID_ARGUMENT: You must feed a value for placeholder tensor 'inputs' with dtype float and shape [?,?,?,64]\n",
      "\t [[{{node inputs}}]]\n",
      "2023-05-10 17:45:14.561156: I tensorflow/core/common_runtime/executor.cc:1197] [/device:CPU:0] (DEBUG INFO) Executor start aborting (this does not indicate an error and you can ignore this message): INVALID_ARGUMENT: You must feed a value for placeholder tensor 'inputs' with dtype float and shape [?,?,?,512]\n",
      "\t [[{{node inputs}}]]\n",
      "2023-05-10 17:45:14.605132: I tensorflow/core/common_runtime/executor.cc:1197] [/device:CPU:0] (DEBUG INFO) Executor start aborting (this does not indicate an error and you can ignore this message): INVALID_ARGUMENT: You must feed a value for placeholder tensor 'inputs' with dtype float and shape [?,?,?,256]\n",
      "\t [[{{node inputs}}]]\n",
      "2023-05-10 17:45:14.653503: I tensorflow/core/common_runtime/executor.cc:1197] [/device:CPU:0] (DEBUG INFO) Executor start aborting (this does not indicate an error and you can ignore this message): INVALID_ARGUMENT: You must feed a value for placeholder tensor 'inputs' with dtype float and shape [?,?,?,128]\n",
      "\t [[{{node inputs}}]]\n",
      "2023-05-10 17:45:14.704826: I tensorflow/core/common_runtime/executor.cc:1197] [/device:CPU:0] (DEBUG INFO) Executor start aborting (this does not indicate an error and you can ignore this message): INVALID_ARGUMENT: You must feed a value for placeholder tensor 'inputs' with dtype float and shape [?,?,?,64]\n",
      "\t [[{{node inputs}}]]\n",
      "WARNING:absl:Found untraced functions such as _jit_compiled_convolution_op, _jit_compiled_convolution_op, _jit_compiled_convolution_op, _jit_compiled_convolution_op, _jit_compiled_convolution_op while saving (showing 5 of 24). These functions will not be directly callable after loading.\n"
     ]
    },
    {
     "name": "stdout",
     "output_type": "stream",
     "text": [
      "INFO:tensorflow:Assets written to: /nfs_scratch/hsharma/MachineLearning/ClusterFinder/notebooks/wandb/run-20230510_173235-nm8mu5e4/files/model-best/assets\n"
     ]
    },
    {
     "name": "stderr",
     "output_type": "stream",
     "text": [
      "INFO:tensorflow:Assets written to: /nfs_scratch/hsharma/MachineLearning/ClusterFinder/notebooks/wandb/run-20230510_173235-nm8mu5e4/files/model-best/assets\n",
      "\u001b[34m\u001b[1mwandb\u001b[0m: Adding directory to artifact (/nfs_scratch/hsharma/MachineLearning/ClusterFinder/notebooks/wandb/run-20230510_173235-nm8mu5e4/files/model-best)... Done. 7.6s\n"
     ]
    },
    {
     "name": "stdout",
     "output_type": "stream",
     "text": [
      "1/1 [==============================] - 0s 55ms/step\n",
      "275/275 [==============================] - 43s 158ms/step - loss: 0.0055 - val_loss: 0.0057\n"
     ]
    },
    {
     "data": {
      "text/html": [
       "Waiting for W&B process to finish... <strong style=\"color:green\">(success).</strong>"
      ],
      "text/plain": [
       "<IPython.core.display.HTML object>"
      ]
     },
     "metadata": {},
     "output_type": "display_data"
    },
    {
     "data": {
      "text/html": [
       "<style>\n",
       "    table.wandb td:nth-child(1) { padding: 0 10px; text-align: left ; width: auto;} td:nth-child(2) {text-align: left ; width: 100%}\n",
       "    .wandb-row { display: flex; flex-direction: row; flex-wrap: wrap; justify-content: flex-start; width: 100% }\n",
       "    .wandb-col { display: flex; flex-direction: column; flex-basis: 100%; flex: 1; padding: 10px; }\n",
       "    </style>\n",
       "<div class=\"wandb-row\"><div class=\"wandb-col\"><h3>Run history:</h3><br/><table class=\"wandb\"><tr><td>epoch</td><td>▁▁▂▂▂▃▃▄▄▄▅▅▅▆▆▇▇▇██</td></tr><tr><td>loss</td><td>█▃▃▄▂▂▁▁▂▂▂▁▁▁▁▁▁▁▁▁</td></tr><tr><td>val_loss</td><td>▄▂█▃▂▁▂▁▂▂▁▁▁▂▁▁▁▁▁▁</td></tr></table><br/></div><div class=\"wandb-col\"><h3>Run summary:</h3><br/><table class=\"wandb\"><tr><td>best_epoch</td><td>19</td></tr><tr><td>best_val_loss</td><td>0.00566</td></tr><tr><td>epoch</td><td>19</td></tr><tr><td>loss</td><td>0.00555</td></tr><tr><td>val_loss</td><td>0.00566</td></tr></table><br/></div></div>"
      ],
      "text/plain": [
       "<IPython.core.display.HTML object>"
      ]
     },
     "metadata": {},
     "output_type": "display_data"
    },
    {
     "data": {
      "text/html": [
       " View run <strong style=\"color:#cdcd00\">floral-night-27</strong> at: <a href='https://wandb.ai/uwm-cvml-core/unet-cluster-segmentation/runs/nm8mu5e4' target=\"_blank\">https://wandb.ai/uwm-cvml-core/unet-cluster-segmentation/runs/nm8mu5e4</a><br/>Synced 6 W&B file(s), 1301 media file(s), 55 artifact file(s) and 1 other file(s)"
      ],
      "text/plain": [
       "<IPython.core.display.HTML object>"
      ]
     },
     "metadata": {},
     "output_type": "display_data"
    },
    {
     "data": {
      "text/html": [
       "Find logs at: <code>./wandb/run-20230510_173235-nm8mu5e4/logs</code>"
      ],
      "text/plain": [
       "<IPython.core.display.HTML object>"
      ]
     },
     "metadata": {},
     "output_type": "display_data"
    }
   ],
   "source": [
    "wandb.init(project='unet-cluster-segmentation', reinit=True)\n",
    "\n",
    "model.fit(trainloader, \n",
    "              epochs=20, \n",
    "              validation_data=testloader,\n",
    "              callbacks=[WandbCallback(),\n",
    "                         SemanticLogger()])\n",
    "\n",
    "wandb.finish()"
   ]
  },
  {
   "cell_type": "markdown",
   "metadata": {
    "id": "QYhdqG96yMde"
   },
   "source": [
    "### Prediction & Analysis"
   ]
  },
  {
   "cell_type": "code",
   "execution_count": 27,
   "metadata": {
    "colab": {
     "base_uri": "https://localhost:8080/",
     "height": 53
    },
    "executionInfo": {
     "elapsed": 12,
     "status": "ok",
     "timestamp": 1676823019490,
     "user": {
      "displayName": "HARSHIT SHARMA",
      "userId": "03646130816822692409"
     },
     "user_tz": 360
    },
    "id": "XgjPx-dEoNC6",
    "outputId": "0e4eabf6-79ec-48fc-ba53-3020881b7449"
   },
   "outputs": [],
   "source": [
    "from keras.models import load_model\n",
    "\n",
    "Model_logs = {\"UNET\":[\"run-20230510_173235-nm8mu5e4\"],\n",
    "              \"ENET\": [\"run-20230226_175518-8y9uyk1u\"], \n",
    "             \"UNETv2LITE\": [\"run-20230227_185529-sjhgebn1\"],\n",
    "              \"UNETv3LITE\": [\"run-20230303_140554-80pvvkn4\"], # model1\n",
    "              \"UNETv4LITE\": [\"run-20230308_112406-8zhdka9h\"], # model2\n",
    "             \"HEPAENET\":[\"run-20230227_181304-zog286i7\"],\n",
    "             \"HEPCONVNET\": [\"run-20230227_184034-2315xvt8\"]}\n",
    "\n",
    "\n",
    "if PRETRAINED == True:\n",
    "    MODEL_PATH = \"/nfs_scratch/hsharma/MachineLearning/ClusterFinder/notebooks/wandb/run-20230510_173235-nm8mu5e4/files/model-best.h5\"\n",
    "    model = load_model(MODEL_PATH)"
   ]
  },
  {
   "cell_type": "code",
   "execution_count": 28,
   "metadata": {
    "id": "Rz7pbwLExuGr"
   },
   "outputs": [],
   "source": [
    "val_img, val_mask = next(iter(testloader))"
   ]
  },
  {
   "cell_type": "code",
   "execution_count": 29,
   "metadata": {
    "colab": {
     "base_uri": "https://localhost:8080/"
    },
    "executionInfo": {
     "elapsed": 676,
     "status": "ok",
     "timestamp": 1676823020159,
     "user": {
      "displayName": "HARSHIT SHARMA",
      "userId": "03646130816822692409"
     },
     "user_tz": 360
    },
    "id": "zxZFxAu5x22C",
    "outputId": "3d768547-cb3d-4d69-8c1f-dd50d9d66cf3"
   },
   "outputs": [
    {
     "name": "stdout",
     "output_type": "stream",
     "text": [
      "1/1 [==============================] - 0s 207ms/step\n"
     ]
    }
   ],
   "source": [
    "pred_mask = model.predict(val_img)\n",
    "pred_mask = np.argmax(pred_mask, axis=-1)\n",
    "pred_mask = np.expand_dims(pred_mask, axis=-1)"
   ]
  },
  {
   "cell_type": "code",
   "execution_count": 30,
   "metadata": {
    "colab": {
     "base_uri": "https://localhost:8080/",
     "height": 919
    },
    "executionInfo": {
     "elapsed": 1982,
     "status": "ok",
     "timestamp": 1676823022138,
     "user": {
      "displayName": "HARSHIT SHARMA",
      "userId": "03646130816822692409"
     },
     "user_tz": 360
    },
    "id": "IDP769Pix-fx",
    "outputId": "4f72a643-e38b-40af-ba72-53243b5fb7ef"
   },
   "outputs": [
    {
     "data": {
      "image/png": "[encoded data removed]",
      "text/plain": [
       "<Figure size 1200x1600 with 12 Axes>"
      ]
     },
     "metadata": {},
     "output_type": "display_data"
    }
   ],
   "source": [
    "num_example_to_display = 4\n",
    "\n",
    "fig, axs = plt.subplots(nrows=num_example_to_display, ncols=3, figsize=(12,4*num_example_to_display))\n",
    "  \n",
    "for i in range(num_example_to_display):\n",
    "  axs[i][0].imshow(val_img[i])\n",
    "  axs[i][1].imshow(np.squeeze(val_mask[i],-1), cmap='gray');\n",
    "  axs[i][2].imshow(np.squeeze(pred_mask[i],-1), cmap='gray')"
   ]
  },
  {
   "cell_type": "markdown",
   "metadata": {
    "id": "-jhwM7Hjn5dz"
   },
   "source": [
    "### T2: Instance Detection"
   ]
  },
  {
   "cell_type": "code",
   "execution_count": 31,
   "metadata": {
    "id": "lZ21Sbjkp-i-"
   },
   "outputs": [],
   "source": [
    "import cv2"
   ]
  },
  {
   "cell_type": "code",
   "execution_count": 32,
   "metadata": {
    "id": "3uBtv3D0qhM_"
   },
   "outputs": [],
   "source": [
    "val_mask = np.array(val_mask)\n",
    "val_mask[np.where(val_mask == 2)] = 1\n",
    "pred_mask[np.where(pred_mask == 2)] = 1"
   ]
  },
  {
   "cell_type": "code",
   "execution_count": 33,
   "metadata": {
    "colab": {
     "base_uri": "https://localhost:8080/",
     "height": 919
    },
    "executionInfo": {
     "elapsed": 999,
     "status": "ok",
     "timestamp": 1676823023324,
     "user": {
      "displayName": "HARSHIT SHARMA",
      "userId": "03646130816822692409"
     },
     "user_tz": 360
    },
    "id": "oT6HLIIVrMEn",
    "outputId": "1fcc5b41-0bb9-4481-8802-517cdba7b6ab"
   },
   "outputs": [
    {
     "data": {
      "image/png": "[encoded data removed]",
      "text/plain": [
       "<Figure size 1200x1600 with 12 Axes>"
      ]
     },
     "metadata": {},
     "output_type": "display_data"
    }
   ],
   "source": [
    "num_example_to_display = 4\n",
    "\n",
    "fig, axs = plt.subplots(nrows=num_example_to_display, ncols=3, figsize=(12,4*num_example_to_display))\n",
    "\n",
    "for i in range(num_example_to_display):\n",
    "  axs[i][0].imshow(val_img[i])\n",
    "  axs[i][1].imshow(np.squeeze(val_mask[i],-1), cmap='gray')\n",
    "  axs[i][2].imshow(np.squeeze(pred_mask[i],-1), cmap='gray')"
   ]
  },
  {
   "cell_type": "code",
   "execution_count": 34,
   "metadata": {
    "id": "NZQ9x9hBplnL"
   },
   "outputs": [],
   "source": [
    "def ccl_generator(pred, mc_truth):\n",
    "    test_image = np.squeeze(pred).astype(\"uint8\")\n",
    "    thresh = cv2.threshold(test_image, 0, 255,\n",
    "        cv2.THRESH_BINARY_INV | cv2.THRESH_OTSU)[1]\n",
    "\n",
    "    output_pred = cv2.connectedComponentsWithStats(\n",
    "        thresh, 4, cv2.CV_32S)\n",
    "    (numLabels_pred, labels_pred, stats_pred, centroids) = output_pred\n",
    "\n",
    "    test_image = np.squeeze(mc_truth).astype(\"uint8\")\n",
    "    thresh = cv2.threshold(test_image, 0, 255,\n",
    "        cv2.THRESH_BINARY_INV | cv2.THRESH_OTSU)[1]\n",
    "\n",
    "    output_mc = cv2.connectedComponentsWithStats(\n",
    "        thresh, 4, cv2.CV_32S)\n",
    "    (numLabels_mc, labels_mc, stats_mc, centroids) = output_mc\n",
    "\n",
    "    return labels_pred, labels_mc"
   ]
  },
  {
   "cell_type": "code",
   "execution_count": 35,
   "metadata": {
    "colab": {
     "base_uri": "https://localhost:8080/",
     "height": 919
    },
    "executionInfo": {
     "elapsed": 1295,
     "status": "ok",
     "timestamp": 1676823024617,
     "user": {
      "displayName": "HARSHIT SHARMA",
      "userId": "03646130816822692409"
     },
     "user_tz": 360
    },
    "id": "xygLZYIaryqQ",
    "outputId": "0b9623c5-8aad-4113-fef5-e049a542ced9"
   },
   "outputs": [
    {
     "data": {
      "image/png": "[encoded data removed]",
      "text/plain": [
       "<Figure size 1200x1600 with 12 Axes>"
      ]
     },
     "metadata": {},
     "output_type": "display_data"
    }
   ],
   "source": [
    "num_example_to_display = 4\n",
    "fig, axs = plt.subplots(nrows=num_example_to_display, ncols=3, figsize=(12,4*num_example_to_display))\n",
    "  \n",
    "for i in range(num_example_to_display):\n",
    "  lpred, lmc = ccl_generator(pred_mask[i], val_mask[i])\n",
    "  axs[i][0].imshow(val_img[i])\n",
    "  axs[i][1].imshow(lmc)\n",
    "  axs[i][2].imshow(lpred)"
   ]
  },
  {
   "cell_type": "markdown",
   "metadata": {
    "id": "xMFumFmAmHUc"
   },
   "source": [
    "## Testing"
   ]
  },
  {
   "cell_type": "markdown",
   "metadata": {
    "id": "eOhePXrsxfv2"
   },
   "source": [
    "#### Helper Code"
   ]
  },
  {
   "cell_type": "code",
   "execution_count": 36,
   "metadata": {
    "id": "StK5ZzFiDhfO"
   },
   "outputs": [],
   "source": [
    "from collections import Counter\n",
    "\n",
    "def eta_phi_res(ROI_mc, ROI_algo):\n",
    "    eta_mc = max(ROI_mc[0]) - min(ROI_mc[0])\n",
    "    phi_mc = max(ROI_mc[1]) - min(ROI_mc[1])\n",
    "\n",
    "    eta_algo = max(ROI_algo[0]) - min(ROI_algo[0])\n",
    "    phi_algo = max(ROI_algo[1]) - min(ROI_algo[1])\n",
    "\n",
    "    return abs(eta_mc - eta_algo), abs(phi_mc - phi_algo)"
   ]
  },
  {
   "cell_type": "code",
   "execution_count": 37,
   "metadata": {
    "id": "ujU5DemMygbw"
   },
   "outputs": [],
   "source": [
    "\"\"\"\n",
    "def mc_label_convert(segmented_image, mc_truth):\n",
    "    all_labels = np.unique(mc_truth)\n",
    "    hm = {}\n",
    "    for curr_label in all_labels:\n",
    "        selected_ROI = segmented_image[np.where(mc_truth == curr_label)]\n",
    "        hm[curr_label] = np.unique(selected_ROI)\n",
    "    \n",
    "    bkg = []\n",
    "    for lt in hm.values():\n",
    "        bkg.extend(lt)\n",
    "\n",
    "    bkg_label = Counter(bkg).most_common(1)[-1][0]\n",
    "\n",
    "    #setting background label\n",
    "    segmented_image[np.where(segmented_image == bkg_label)] = 0.0\n",
    "    hm.pop(0.0)\n",
    "    \n",
    "    for label in list(hm.keys())[::-1]:\n",
    "        marked_pixels = []\n",
    "        for pxm in hm[label]:\n",
    "            if pxm == bkg_label:\n",
    "                continue\n",
    "                \n",
    "            marked_pixels.append(np.where(segmented_image==pxm))\n",
    "            \n",
    "        for mp in marked_pixels:\n",
    "            segmented_image[mp] = label\n",
    "\n",
    "    return segmented_image\n",
    "\"\"\"\n",
    "\n",
    "def mc_label_convert(segmented_image, mc_truth):\n",
    "    all_labels = np.unique(mc_truth)\n",
    "    hm = {}\n",
    "    # Background Matching\n",
    "    u, c = np.unique(mc_truth, return_counts=True)\n",
    "    bkg_label_mc = u[np.argmax(c)]\n",
    "    \n",
    "    u, c = np.unique(segmented_image, return_counts=True)\n",
    "    bkg_label_algo = u[np.argmax(c)]\n",
    "    \n",
    "    hm[bkg_label_mc] = bkg_label_algo\n",
    "    \n",
    "    for curr_label in all_labels:\n",
    "        if curr_label == bkg_label_mc:\n",
    "            continue\n",
    "            \n",
    "        selected_ROI = segmented_image[np.where(mc_truth == curr_label)]\n",
    "        u, c = np.unique(selected_ROI, return_counts=True)\n",
    "        count_map = [x for x in zip(u,c) if x[0]!=bkg_label_algo]\n",
    "        # max_overlap_index\n",
    "        hm[curr_label] = max(count_map, key=lambda x:x[1])[0]\n",
    "    \n",
    "    # unmapped_labels\n",
    "    unmapped = []\n",
    "    for old_label in np.unique(segmented_image):\n",
    "        if old_label not in hm.values():\n",
    "            unmapped.append(old_label)\n",
    "    \n",
    "    uhm = {}\n",
    "    max_mc_label = max(max(hm.keys()), max(hm.values()))+1\n",
    "    for ol in unmapped:\n",
    "        uhm[max_mc_label] = ol\n",
    "        max_mc_label+=1\n",
    "    \n",
    "    # start mapping old_labels to mc_labels\n",
    "    for label in uhm:\n",
    "        mp = np.where(segmented_image==uhm[label])\n",
    "        segmented_image[mp] = label\n",
    "    \n",
    "    for label in hm:\n",
    "        mp = np.where(segmented_image==hm[label])\n",
    "        segmented_image[mp] = label\n",
    "    \n",
    "    return segmented_image"
   ]
  },
  {
   "cell_type": "code",
   "execution_count": 38,
   "metadata": {
    "id": "qoy0iYP6ypvf"
   },
   "outputs": [],
   "source": [
    "def test(predicted, mc_truth, energy_snap):\n",
    "    thresh = 2\n",
    "    y_pred = []\n",
    "    energy_dist = []\n",
    "    for label in np.unique(mc_truth):\n",
    "        if label == 0.0:\n",
    "            continue\n",
    "\n",
    "        matched, rel_energy = False, -1\n",
    "        ROI_mc = np.where(mc_truth==label)\n",
    "        ROI_algo = np.where(predicted==label)\n",
    "\n",
    "        E_mc = np.sum(energy_snap[ROI_mc])\n",
    "        E_algo = np.sum(energy_snap[ROI_algo])\n",
    "\n",
    "        if len(ROI_algo[0]) == 0:\n",
    "            matched = (False, \"False Negative\")\n",
    "            rel_energy = 1\n",
    "        \n",
    "        # Might need to rewrite as a reverse loop check (loop over predicted)\n",
    "        elif len(ROI_mc[0]) == 0 and len(ROI_algo[0]) !=0:\n",
    "            matched = (False, \"False Positive\")\n",
    "            rel_energy = 1\n",
    "\n",
    "        else:\n",
    "            eta_res, phi_res = eta_phi_res(ROI_mc, ROI_algo)\n",
    "\n",
    "            if eta_res < thresh and phi_res < thresh:\n",
    "                matched = True\n",
    "                rel_energy = abs(E_algo - E_mc)/E_mc\n",
    "            else:\n",
    "                matched = (False, \"Very Low Overlap\")\n",
    "                rel_energy = 1\n",
    "\n",
    "        # collecting testing data\n",
    "        y_pred.append(matched)\n",
    "        if rel_energy >= 0: energy_dist.append(rel_energy)\n",
    "    \n",
    "    return y_pred, energy_dist"
   ]
  },
  {
   "cell_type": "markdown",
   "metadata": {
    "id": "GOkrHllwzGTH"
   },
   "source": [
    "#### Main run"
   ]
  },
  {
   "cell_type": "code",
   "execution_count": 39,
   "metadata": {
    "colab": {
     "base_uri": "https://localhost:8080/"
    },
    "executionInfo": {
     "elapsed": 11383,
     "status": "ok",
     "timestamp": 1676823035997,
     "user": {
      "displayName": "HARSHIT SHARMA",
      "userId": "03646130816822692409"
     },
     "user_tz": 360
    },
    "id": "vjS3p5LKVC84",
    "outputId": "804c3c94-7931-4d60-8be1-8c318766ac97"
   },
   "outputs": [
    {
     "name": "stderr",
     "output_type": "stream",
     "text": [
      "2023-05-10 18:19:11.145272: I tensorflow/core/common_runtime/executor.cc:1197] [/device:CPU:0] (DEBUG INFO) Executor start aborting (this does not indicate an error and you can ignore this message): INVALID_ARGUMENT: You must feed a value for placeholder tensor 'Placeholder/_1' with dtype string and shape [800]\n",
      "\t [[{{node Placeholder/_1}}]]\n",
      "2023-05-10 18:19:11.145511: I tensorflow/core/common_runtime/executor.cc:1197] [/device:CPU:0] (DEBUG INFO) Executor start aborting (this does not indicate an error and you can ignore this message): INVALID_ARGUMENT: You must feed a value for placeholder tensor 'Placeholder/_1' with dtype string and shape [800]\n",
      "\t [[{{node Placeholder/_1}}]]\n"
     ]
    },
    {
     "name": "stdout",
     "output_type": "stream",
     "text": [
      "1/1 [==============================] - 0s 54ms/step\n",
      "1/1 [==============================] - 0s 55ms/step\n",
      "1/1 [==============================] - 0s 53ms/step\n",
      "1/1 [==============================] - 0s 53ms/step\n",
      "1/1 [==============================] - 0s 53ms/step\n",
      "1/1 [==============================] - 0s 53ms/step\n",
      "1/1 [==============================] - 0s 53ms/step\n",
      "1/1 [==============================] - 0s 53ms/step\n",
      "1/1 [==============================] - 0s 53ms/step\n",
      "1/1 [==============================] - 0s 53ms/step\n",
      "1/1 [==============================] - 0s 53ms/step\n",
      "1/1 [==============================] - 0s 57ms/step\n",
      "1/1 [==============================] - 0s 53ms/step\n",
      "1/1 [==============================] - 0s 53ms/step\n",
      "1/1 [==============================] - 0s 53ms/step\n",
      "1/1 [==============================] - 0s 52ms/step\n",
      "1/1 [==============================] - 0s 53ms/step\n",
      "1/1 [==============================] - 0s 56ms/step\n",
      "1/1 [==============================] - 0s 53ms/step\n",
      "1/1 [==============================] - 0s 54ms/step\n",
      "1/1 [==============================] - 0s 53ms/step\n",
      "1/1 [==============================] - 0s 52ms/step\n",
      "1/1 [==============================] - 0s 53ms/step\n",
      "1/1 [==============================] - 0s 53ms/step\n",
      "1/1 [==============================] - 0s 56ms/step\n",
      "1/1 [==============================] - 0s 53ms/step\n",
      "1/1 [==============================] - 0s 52ms/step\n",
      "1/1 [==============================] - 0s 53ms/step\n",
      "1/1 [==============================] - 0s 53ms/step\n",
      "1/1 [==============================] - 0s 52ms/step\n"
     ]
    }
   ],
   "source": [
    "val_img, val_mask, pred_mask = [], [], []\n",
    "for _ in range(30):\n",
    "    val_img_i, val_mask_i = next(iter(maintestloader))\n",
    "    pred_mask_i = model.predict(val_img_i)\n",
    "    pred_mask_i = np.argmax(pred_mask_i, axis=-1)\n",
    "    pred_mask_i = np.expand_dims(pred_mask_i, axis=-1)\n",
    "\n",
    "    val_img.extend(val_img_i)\n",
    "    val_mask.extend(val_mask_i)\n",
    "    pred_mask.extend(pred_mask_i)"
   ]
  },
  {
   "cell_type": "code",
   "execution_count": 40,
   "metadata": {
    "id": "ZhNTBVVjWJeS"
   },
   "outputs": [],
   "source": [
    "val_img = np.array(val_img)\n",
    "val_mask = np.array(val_mask)\n",
    "pred_mask = np.array(pred_mask)"
   ]
  },
  {
   "cell_type": "code",
   "execution_count": 41,
   "metadata": {},
   "outputs": [],
   "source": [
    "val_mask[np.where(val_mask == 2)] = 1\n",
    "pred_mask[np.where(pred_mask == 2)] = 1"
   ]
  },
  {
   "cell_type": "code",
   "execution_count": 42,
   "metadata": {},
   "outputs": [
    {
     "data": {
      "text/plain": [
       "((960, 32, 32, 3), (960, 32, 32, 1), (960, 32, 32, 1))"
      ]
     },
     "execution_count": 42,
     "metadata": {},
     "output_type": "execute_result"
    }
   ],
   "source": [
    "val_img.shape, val_mask.shape, pred_mask.shape"
   ]
  },
  {
   "cell_type": "code",
   "execution_count": 43,
   "metadata": {
    "colab": {
     "base_uri": "https://localhost:8080/"
    },
    "executionInfo": {
     "elapsed": 1754,
     "status": "ok",
     "timestamp": 1676823037906,
     "user": {
      "displayName": "HARSHIT SHARMA",
      "userId": "03646130816822692409"
     },
     "user_tz": 360
    },
    "id": "GnQPB9nMxkR6",
    "outputId": "97f45937-50f8-4f1b-a6a3-e01e51552e4c"
   },
   "outputs": [
    {
     "name": "stderr",
     "output_type": "stream",
     "text": [
      "/tmp/ipykernel_28036/3105157659.py:30: RuntimeWarning: invalid value encountered in float_scalars\n",
      "  rel_energy = abs(E_algo - E_mc)/E_mc\n"
     ]
    },
    {
     "name": "stdout",
     "output_type": "stream",
     "text": [
      "Error in  22\n",
      "Error in  54\n",
      "Error in  86\n",
      "Error in  118\n",
      "Error in  150\n",
      "Error in  182\n",
      "Error in  214\n",
      "Error in  246\n",
      "Error in  278\n",
      "Error in  310\n",
      "Error in  342\n",
      "Error in  374\n",
      "Error in  406\n",
      "Error in  438\n",
      "Error in  470\n",
      "Error in  502\n",
      "Error in  534\n",
      "Error in  566\n",
      "Error in  598\n",
      "Error in  630\n",
      "Error in  662\n",
      "Error in  694\n",
      "Error in  726\n",
      "Error in  758\n",
      "Error in  790\n",
      "Error in  822\n",
      "Error in  854\n",
      "Error in  886\n",
      "Error in  918\n",
      "Error in  950\n"
     ]
    }
   ],
   "source": [
    "all_matched, all_rel_energy, sn = [], [], 0\n",
    "for i in range(len(val_img)):\n",
    "    CLUSTER_TAGS = [-1]\n",
    "    energy_snap = np.squeeze(val_img[i])\n",
    "    lpred, lmc = ccl_generator(pred_mask[i], val_mask[i])\n",
    "    try:\n",
    "        predicted = mc_label_convert(lpred, lmc)\n",
    "        matched, rel_energy = test(predicted, lmc, energy_snap)\n",
    "\n",
    "        # matched\n",
    "        all_matched.extend(matched)\n",
    "        all_rel_energy.extend(rel_energy)\n",
    "\n",
    "        sn += 1\n",
    "    except:\n",
    "        print(\"Error in \", i)\n",
    "        pass"
   ]
  },
  {
   "cell_type": "code",
   "execution_count": 44,
   "metadata": {
    "colab": {
     "base_uri": "https://localhost:8080/",
     "height": 297
    },
    "executionInfo": {
     "elapsed": 189,
     "status": "ok",
     "timestamp": 1676823038090,
     "user": {
      "displayName": "HARSHIT SHARMA",
      "userId": "03646130816822692409"
     },
     "user_tz": 360
    },
    "id": "b10-MiVZzOZT",
    "outputId": "6955301a-49f9-45f4-c176-a6f37a61a8dc"
   },
   "outputs": [
    {
     "data": {
      "text/plain": [
       "Text(0.5, 0, 'normalized energy difference')"
      ]
     },
     "execution_count": 44,
     "metadata": {},
     "output_type": "execute_result"
    },
    {
     "data": {
      "image/png": "[encoded data removed]",
      "text/plain": [
       "<Figure size 640x480 with 1 Axes>"
      ]
     },
     "metadata": {},
     "output_type": "display_data"
    }
   ],
   "source": [
    "sub_rel = [i for i in all_rel_energy if i<=1]\n",
    "plt.hist(sub_rel, bins=50)  # density=False would make counts\n",
    "plt.ylabel('occurance')\n",
    "plt.xlabel('normalized energy difference')"
   ]
  },
  {
   "cell_type": "code",
   "execution_count": 45,
   "metadata": {
    "colab": {
     "base_uri": "https://localhost:8080/"
    },
    "executionInfo": {
     "elapsed": 9,
     "status": "ok",
     "timestamp": 1676823038091,
     "user": {
      "displayName": "HARSHIT SHARMA",
      "userId": "03646130816822692409"
     },
     "user_tz": 360
    },
    "id": "S8vBMwKfzi4I",
    "outputId": "cb431126-8360-4e2b-f10c-90a5fbeb7b4b"
   },
   "outputs": [
    {
     "name": "stdout",
     "output_type": "stream",
     "text": [
      "Correct Matches:  6870\n",
      "Incorrect Matched:  60\n"
     ]
    }
   ],
   "source": [
    "matches = len([x for x in all_matched if x==True])\n",
    "print(\"Correct Matches: \", matches)\n",
    "print(\"Incorrect Matched: \", len(all_matched) - matches)"
   ]
  },
  {
   "cell_type": "code",
   "execution_count": 46,
   "metadata": {
    "id": "btO0LClszyRN"
   },
   "outputs": [],
   "source": [
    "unmatched = [x[1] for x in all_matched if type(x)==tuple]"
   ]
  },
  {
   "cell_type": "code",
   "execution_count": 47,
   "metadata": {
    "colab": {
     "base_uri": "https://localhost:8080/"
    },
    "executionInfo": {
     "elapsed": 6,
     "status": "ok",
     "timestamp": 1676823038240,
     "user": {
      "displayName": "HARSHIT SHARMA",
      "userId": "03646130816822692409"
     },
     "user_tz": 360
    },
    "id": "EmQ8vEhTzt71",
    "outputId": "048d3a04-04a4-426d-cabf-b6c19cd7015a"
   },
   "outputs": [
    {
     "name": "stdout",
     "output_type": "stream",
     "text": [
      "Threshold Mismatch:  60\n",
      "False Negative:  0\n",
      "False Positive:  0\n"
     ]
    }
   ],
   "source": [
    "threshold_mismatch = len([x for x in unmatched if x=='Very Low Overlap'])\n",
    "print(\"Threshold Mismatch: \", threshold_mismatch)\n",
    "\n",
    "fneg = len([x for x in unmatched if x=='False Negative'])\n",
    "print(\"False Negative: \", fneg)\n",
    "\n",
    "fposi = len([x for x in unmatched if x=='False Positive'])\n",
    "print(\"False Positive: \", fposi)"
   ]
  },
  {
   "cell_type": "markdown",
   "metadata": {},
   "source": [
    "### Rough Notepad:\n",
    "\n",
    "**for UNETLiteV3 ~ 7k params**\n",
    "\n",
    "Correct Matches:  6840\n",
    "Incorrect Matched:  1260\n",
    "Threshold Mismatch:  330\n",
    "False Negative:  930\n",
    "False Positive:  0\n",
    "\n",
    "**for UNETLiteV3 ~ 1k params**\n",
    "\n",
    "Correct Matches:  5910\n",
    "Incorrect Matched:  2190\n",
    "Threshold Mismatch:  570\n",
    "False Negative:  1620\n",
    "False Positive:  0\n",
    "\n",
    "trade off begins..."
   ]
  },
  {
   "cell_type": "markdown",
   "metadata": {},
   "source": [
    "## Granular Testing"
   ]
  },
  {
   "cell_type": "code",
   "execution_count": 223,
   "metadata": {},
   "outputs": [],
   "source": [
    "def cluster_energy_map(predicted, mc_truth, energy_snap):\n",
    "    # forms tuple with format [(Energy MC Cluster, Energy Predicted Cluster)....]\n",
    "    thresh = 2\n",
    "    energy_dist = []\n",
    "    for label in np.unique(mc_truth):\n",
    "        if label == 0.0:\n",
    "            continue\n",
    "\n",
    "        ROI_mc = np.where(mc_truth==label)\n",
    "        ROI_algo = np.where(predicted==label)\n",
    "        \n",
    "        E_mc = np.sum(energy_snap[ROI_mc])\n",
    "        E_algo = np.sum(energy_snap[ROI_algo])\n",
    "        \n",
    "        energy_dist.append((E_mc, E_algo, label))\n",
    "    \n",
    "    return energy_dist"
   ]
  },
  {
   "cell_type": "code",
   "execution_count": 229,
   "metadata": {},
   "outputs": [],
   "source": [
    "def mc_label_convert(segmented_image, mc_truth):\n",
    "    all_labels = np.unique(mc_truth)\n",
    "    hm = {}\n",
    "    \n",
    "    # Background Matching\n",
    "    u, c = np.unique(mc_truth, return_counts=True)\n",
    "    bkg_label_mc = u[np.argmax(c)]\n",
    "    \n",
    "    u, c = np.unique(segmented_image, return_counts=True)\n",
    "    bkg_label_algo = u[np.argmax(c)]\n",
    "    hm[bkg_label_mc] = bkg_label_algo\n",
    "    \n",
    "    for curr_label in all_labels:\n",
    "        if curr_label == bkg_label_mc:\n",
    "            continue\n",
    "            \n",
    "        selected_ROI = segmented_image[np.where(mc_truth == curr_label)]\n",
    "        u, c = np.unique(selected_ROI, return_counts=True)\n",
    "        \n",
    "        count_map = [x for x in zip(u,c) if x[0]!=bkg_label_algo]\n",
    "        \n",
    "        if count_map:\n",
    "            hm[curr_label] = max(count_map, key=lambda x:x[1])[0]\n",
    "    \n",
    "    # unmapped_labels\n",
    "    unmapped = []\n",
    "    for old_label in np.unique(segmented_image):\n",
    "        if old_label not in hm.values():\n",
    "            unmapped.append(old_label)\n",
    "    \n",
    "    uhm = {}\n",
    "    max_mc_label = max(max(hm.keys()), max(hm.values()))+1\n",
    "    for ol in unmapped:\n",
    "        uhm[max_mc_label] = ol\n",
    "        max_mc_label+=1\n",
    "    \n",
    "    # start mapping old_labels to mc_labels\n",
    "    for label in uhm:\n",
    "        mp = np.where(segmented_image==uhm[label])\n",
    "        segmented_image[mp] = label\n",
    "    \n",
    "    for label in hm:\n",
    "        mp = np.where(segmented_image==hm[label])\n",
    "        segmented_image[mp] = label\n",
    "    \n",
    "    return segmented_image"
   ]
  },
  {
   "cell_type": "code",
   "execution_count": 236,
   "metadata": {},
   "outputs": [],
   "source": [
    "all_energy_mappings = []\n",
    "index_info = []\n",
    "for i in range(len(val_img)):\n",
    "    #i=10\n",
    "    CLUSTER_TAGS = [-1]\n",
    "    energy_snap = np.squeeze(val_img[i])\n",
    "    lpred, lmc = ccl_generator(pred_mask[i], val_mask[i])\n",
    "    try:\n",
    "    #if True:\n",
    "        #print(i)\n",
    "        predicted = mc_label_convert(lpred, lmc)\n",
    "        energy_dist = cluster_energy_map(predicted, lmc, energy_snap)\n",
    "\n",
    "        all_energy_mappings.extend(energy_dist)\n",
    "        img_index_info = [i]*len(energy_dist)\n",
    "        index_info.extend(img_index_info)\n",
    "        #break\n",
    "\n",
    "    except:\n",
    "        print(\"Error in \", i)\n",
    "        pass"
   ]
  },
  {
   "cell_type": "code",
   "execution_count": 237,
   "metadata": {},
   "outputs": [],
   "source": [
    "algo_sup_predicted = [x for x in zip(index_info, all_energy_mappings) if x[1][0]<x[1][1]]\n",
    "MC_sup_predicted = [x for x in zip(index_info, all_energy_mappings) if x[1][0]>x[1][1]]\n",
    "equal_predicted = [x for x in zip(index_info, all_energy_mappings) if x[1][0]==x[1][1]]"
   ]
  },
  {
   "cell_type": "code",
   "execution_count": 238,
   "metadata": {},
   "outputs": [
    {
     "data": {
      "text/plain": [
       "(540, 900, 5700)"
      ]
     },
     "execution_count": 238,
     "metadata": {},
     "output_type": "execute_result"
    }
   ],
   "source": [
    "len(algo_sup_predicted), len(MC_sup_predicted), len(equal_predicted)"
   ]
  },
  {
   "cell_type": "code",
   "execution_count": 239,
   "metadata": {},
   "outputs": [
    {
     "data": {
      "text/plain": [
       "[(5, (2.964706, 27.764706, 4)),\n",
       " (6, (2.9058824, 5.9058824, 3)),\n",
       " (6, (5.5764704, 8.57647, 5)),\n",
       " (8, (2.682353, 5.682353, 3)),\n",
       " (10, (2.6117647, 54.65882, 7)),\n",
       " (11, (11.04706, 14.047058, 6)),\n",
       " (12, (29.435295, 35.435295, 4)),\n",
       " (14, (2.6588235, 52.70589, 9)),\n",
       " (15, (7.741177, 13.741177, 2)),\n",
       " (15, (2.6352942, 5.635294, 7))]"
      ]
     },
     "execution_count": 239,
     "metadata": {},
     "output_type": "execute_result"
    }
   ],
   "source": [
    "# Algo Sup Analysis\n",
    "algo_sup_predicted[:10]"
   ]
  },
  {
   "cell_type": "markdown",
   "metadata": {},
   "source": [
    "#### DEBUGGING"
   ]
  },
  {
   "cell_type": "code",
   "execution_count": 208,
   "metadata": {},
   "outputs": [],
   "source": [
    "i = 11\n",
    "lpred, lmc = ccl_generator(pred_mask[i], val_mask[i])"
   ]
  },
  {
   "cell_type": "code",
   "execution_count": 209,
   "metadata": {},
   "outputs": [],
   "source": [
    "u, c = np.unique(lpred, return_counts=True)"
   ]
  },
  {
   "cell_type": "code",
   "execution_count": 210,
   "metadata": {},
   "outputs": [],
   "source": [
    "lpred = mc_label_convert(lpred, lmc)"
   ]
  },
  {
   "cell_type": "code",
   "execution_count": 242,
   "metadata": {},
   "outputs": [
    {
     "data": {
      "text/plain": [
       "(array([0, 1, 2, 3, 4, 5, 6, 7, 8], dtype=int32),\n",
       " array([ 0,  1,  2,  3,  4,  5,  6,  7,  8, 10], dtype=int32))"
      ]
     },
     "execution_count": 242,
     "metadata": {},
     "output_type": "execute_result"
    }
   ],
   "source": [
    "np.unique(lmc), np.unique(lpred)"
   ]
  },
  {
   "cell_type": "code",
   "execution_count": null,
   "metadata": {},
   "outputs": [],
   "source": [
    "np.unique(lmc), np.unique(lpred)"
   ]
  },
  {
   "cell_type": "code",
   "execution_count": null,
   "metadata": {},
   "outputs": [],
   "source": [
    "# Masking Debug\n",
    "i = 11\n",
    "lpred, lmc = ccl_generator(pred_mask[i], val_mask[i])\n",
    "lpred = mc_label_convert(lpred, lmc)\n",
    "\n",
    "num_example_to_display = 1\n",
    "fig, axs = plt.subplots(nrows=num_example_to_display, ncols=2, figsize=(12,4*num_example_to_display))\n",
    "\n",
    "for j in range(num_example_to_display):\n",
    "    i = algo_sup_predicted_i[j]\n",
    "    lpred, lmc = ccl_generator(pred_mask[i], val_mask[i])\n",
    "    lpred = mc_label_convert(lpred, lmc)\n",
    "    \n",
    "    axs[j][0].imshow(val_img[i])\n",
    "    axs[j][1].imshow(lmc)\n",
    "    axs[j][2].imshow(lpred)"
   ]
  },
  {
   "cell_type": "code",
   "execution_count": 240,
   "metadata": {},
   "outputs": [
    {
     "data": {
      "image/png": "[encoded data removed]",
      "text/plain": [
       "<Figure size 1200x800 with 6 Axes>"
      ]
     },
     "metadata": {},
     "output_type": "display_data"
    }
   ],
   "source": [
    "# DEBUG\n",
    "num_example_to_display = 2\n",
    "algo_sup_predicted_i = [6,11]\n",
    "fig, axs = plt.subplots(nrows=num_example_to_display, ncols=3, figsize=(12,4*num_example_to_display))\n",
    "\n",
    "for j in range(num_example_to_display):\n",
    "    i = algo_sup_predicted_i[j]\n",
    "    lpred, lmc = ccl_generator(pred_mask[i], val_mask[i])\n",
    "    lpred = mc_label_convert(lpred, lmc)\n",
    "    \n",
    "    axs[j][0].imshow(val_img[i])\n",
    "    axs[j][1].imshow(lmc)\n",
    "    axs[j][2].imshow(lpred)"
   ]
  },
  {
   "cell_type": "markdown",
   "metadata": {},
   "source": [
    "## Weights Analysis"
   ]
  },
  {
   "cell_type": "code",
   "execution_count": 205,
   "metadata": {},
   "outputs": [],
   "source": [
    "conv_layers = []\n",
    "for layer in model.layers:\n",
    "    if \"conv\" in layer.name:\n",
    "        conv_layers.append(layer)"
   ]
  },
  {
   "cell_type": "code",
   "execution_count": 207,
   "metadata": {},
   "outputs": [
    {
     "data": {
      "text/plain": [
       "[<tf.Variable 'conv2d_10/kernel:0' shape=(3, 3, 4, 3) dtype=float32, numpy=\n",
       " array([[[[-1.4035053 , -0.1691594 ,  0.5675656 ],\n",
       "          [-1.1871152 ,  0.7690637 , -0.31745037],\n",
       "          [-0.2992162 ,  0.22094612,  0.28447524],\n",
       "          [-0.7458423 , -0.04057514,  0.6524691 ]],\n",
       " \n",
       "         [[-0.5535876 , -0.14646491, -0.2700452 ],\n",
       "          [-0.52451366, -0.6197916 ,  0.2833118 ],\n",
       "          [ 0.07278182,  0.12390114,  0.06175253],\n",
       "          [-0.38205716,  0.5824628 , -0.4543049 ]],\n",
       " \n",
       "         [[-0.76782376,  0.1783538 , -0.16027261],\n",
       "          [-1.964151  , -0.17168693,  0.66626644],\n",
       "          [-0.07286557,  0.03414439,  0.3442133 ],\n",
       "          [-0.2962506 , -0.14498486,  0.21456781]]],\n",
       " \n",
       " \n",
       "        [[[ 0.31782386,  0.46076563, -0.79639685],\n",
       "          [-1.7392197 ,  1.157387  , -1.0183835 ],\n",
       "          [ 0.2372554 ,  0.00982026, -0.05115276],\n",
       "          [-0.6411901 ,  0.47011515, -0.55396944]],\n",
       " \n",
       "         [[-0.7550947 ,  0.7621841 , -0.8723858 ],\n",
       "          [-2.5892565 , -0.27853298,  1.3734565 ],\n",
       "          [ 1.015233  ,  0.14246278, -0.16077697],\n",
       "          [-0.6452219 ,  1.4462554 , -1.2143614 ]],\n",
       " \n",
       "         [[ 0.04904111,  0.9989316 , -0.9437246 ],\n",
       "          [ 2.137301  , -0.24797507, -0.6975155 ],\n",
       "          [ 0.1907349 , -0.08755085,  0.39165416],\n",
       "          [ 0.01767517,  0.7328878 , -0.9137735 ]]],\n",
       " \n",
       " \n",
       "        [[[-0.5168407 ,  0.33257282, -0.18426584],\n",
       "          [-1.4523857 ,  1.5396568 , -1.2855016 ],\n",
       "          [ 0.892935  , -0.52866316,  0.25699535],\n",
       "          [-1.0738237 , -0.18041378,  0.17029381]],\n",
       " \n",
       "         [[-1.0236335 ,  0.4438392 ,  0.19172677],\n",
       "          [-1.1697304 , -0.32597804,  1.0252501 ],\n",
       "          [ 0.50388247, -0.56191975,  0.41884258],\n",
       "          [-1.0487765 ,  0.22453816, -0.0424839 ]],\n",
       " \n",
       "         [[-1.0358268 ,  0.50106233, -0.4251016 ],\n",
       "          [ 0.2372014 , -0.40726715,  0.4734528 ],\n",
       "          [ 0.5540151 , -0.5666736 ,  0.67597383],\n",
       "          [-0.5823693 , -0.01871158, -0.01014814]]]], dtype=float32)>,\n",
       " <tf.Variable 'conv2d_10/bias:0' shape=(3,) dtype=float32, numpy=array([-0.29419154, -0.03685386,  0.2515948 ], dtype=float32)>]"
      ]
     },
     "execution_count": 207,
     "metadata": {},
     "output_type": "execute_result"
    }
   ],
   "source": [
    "conv_layers[-1].weights"
   ]
  },
  {
   "cell_type": "code",
   "execution_count": null,
   "metadata": {},
   "outputs": [],
   "source": []
  }
 ],
 "metadata": {
  "accelerator": "GPU",
  "colab": {
   "authorship_tag": "ABX9TyOfhUvJGUuZejGW+R/JWugG",
   "collapsed_sections": [
    "eOhePXrsxfv2"
   ],
   "provenance": []
  },
  "gpuClass": "standard",
  "kernelspec": {
   "display_name": "Python 3 (ipykernel)",
   "language": "python",
   "name": "python3"
  },
  "language_info": {
   "codemirror_mode": {
    "name": "ipython",
    "version": 3
   },
   "file_extension": ".py",
   "mimetype": "text/x-python",
   "name": "python",
   "nbconvert_exporter": "python",
   "pygments_lexer": "ipython3",
   "version": "3.8.16"
  }
 },
 "nbformat": 4,
 "nbformat_minor": 1
}
